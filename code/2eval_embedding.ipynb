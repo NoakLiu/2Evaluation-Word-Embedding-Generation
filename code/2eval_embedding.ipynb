{
  "nbformat": 4,
  "nbformat_minor": 0,
  "metadata": {
    "colab": {
      "provenance": [],
      "toc_visible": true
    },
    "kernelspec": {
      "name": "python3",
      "display_name": "Python 3"
    },
    "language_info": {
      "name": "python"
    }
  },
  "cells": [
    {
      "cell_type": "code",
      "source": [
        "from gensim.models import Word2Vec"
      ],
      "metadata": {
        "id": "PrMnSEjf78qn"
      },
      "execution_count": null,
      "outputs": []
    },
    {
      "cell_type": "code",
      "source": [
        "!git clone https://github.com/stanfordnlp/GloVe.git\n",
        "\n",
        "def word_analogy_evaluation(vectors_file): \n",
        "  import torch\n",
        "  # in this function the vector file should be devrivative from the start to the return\n",
        "  # so we need not to make any changes on this file to make the loss to be derivative\n",
        "  # however, there are few changes here: like \n",
        "  # wait, firstly, we need input a torch tensor but not a np array (for the vectors file)\n",
        "  # secondly, we need no use of like these sentences:\n",
        "  # assignment      W[vocab[word], :] = torch.from_numpy(v)\n",
        "  # slice     pred_vec = (W[ind2[subset], :] - W[ind1[subset], :]+  W[ind3[subset], :])\n",
        "  # assginemt      expected_matrix[ind4[subset[setid]]][setid]=1 #第i个列最大的数值为1，为真值，其行坐标为ind14[i]\n",
        "  # no change for the leaf node\n",
        "  # tensor ---> req-grad =False--> f(tensor)--->req-grad =True->return value\n",
        "  # for f, only computation formulas include tensor, no value changes for this one\n",
        "\n",
        "  vectors = vectors_file\n",
        "\n",
        "  vocab_words=list(vectors.keys())\n",
        "  vocab_size = len(vocab_words)\n",
        "\n",
        "  # create word->index and index->word converter\n",
        "  vocab = {w: idx for idx, w in enumerate(vocab_words)}\n",
        "  ivocab = {idx: w for idx, w in enumerate(vocab_words)}\n",
        "\n",
        "  # create the embedding matrix of shape (vocab_size, dim)\n",
        "  vector_dim = len(vectors[ivocab[0]])\n",
        "  #W = np.zeros((vocab_size, vector_dim))\n",
        "  #W = torch.from_numpy(W)\n",
        "  W = torch.zeros(vocab_size, vector_dim).float()\n",
        "  #print(W.requires_grad)\n",
        "  #print(W.dtype)\n",
        "  #W.requires_grad_(True)\n",
        "  for word, v in vectors.items():\n",
        "      if word == '<unk>':\n",
        "          continue\n",
        "      W[vocab[word], :] = torch.from_numpy(v)\n",
        "\n",
        "  # normalize each word vector to unit length\n",
        "  # Vectors are usually normalized to unit length before they are used for similarity calculation, making cosine similarity and dot-product equivalent.\n",
        "  W_norm = torch.zeros(vocab_size, vector_dim).float()\n",
        "  d = (torch.sum(W ** 2, 1) ** (0.5))\n",
        "  W_norm = (W.T / d).T\n",
        "    \n",
        "  def evaluate_vectors(W,vocab, prefix='./eval/question-data/'):\n",
        "        \"\"\"Evaluate the trained word vectors on a variety of tasks\"\"\"\n",
        "\n",
        "        filenames = [\n",
        "            'capital-common-countries.txt', 'capital-world.txt', 'currency.txt',\n",
        "            'city-in-state.txt', 'family.txt', 'gram1-adjective-to-adverb.txt',\n",
        "            'gram2-opposite.txt', 'gram3-comparative.txt', 'gram4-superlative.txt',\n",
        "            'gram5-present-participle.txt', 'gram6-nationality-adjective.txt',\n",
        "            'gram7-past-tense.txt', 'gram8-plural.txt', 'gram9-plural-verbs.txt',\n",
        "            ]\n",
        "\n",
        "        # to avoid memory overflow, could be increased/decreased\n",
        "        # depending on system and vocab size\n",
        "        split_size = 100\n",
        "\n",
        "        correct_sem = 0; # count correct semantic questions\n",
        "        correct_syn = 0; # count correct syntactic questions\n",
        "        correct_tot = 0 # count correct questions\n",
        "        count_sem = 0; # count all semantic questions\n",
        "        count_syn = 0; # count all syntactic questions\n",
        "        count_tot = 0 # count all questions\n",
        "        full_count = 0 # count all questions, including those with unknown words\n",
        "\n",
        "        for i in range(len(filenames)):\n",
        "            with open('%s/%s' % (prefix, filenames[i]), 'r') as f:\n",
        "                full_data = [line.rstrip().split(' ') for line in f]\n",
        "                full_count += len(full_data)\n",
        "                data = [x for x in full_data if all(word in vocab for word in x)]\n",
        "\n",
        "            if len(data) == 0:\n",
        "                #print(\"ERROR: no lines of vocab kept for %s !\" % filenames[i])\n",
        "                #print(\"Example missing line:\", full_data[0])\n",
        "                continue\n",
        "\n",
        "            indices = np.array([[vocab[word] for word in row] for row in data])#Note: Great Problem\n",
        "            indices = torch.LongTensor(indices)\n",
        "            ind1, ind2, ind3, ind4 = indices.T\n",
        "            ind1 = torch.LongTensor(ind1)\n",
        "            ind2 = torch.LongTensor(ind2)\n",
        "            ind3 = torch.LongTensor(ind3)\n",
        "            ind4 = torch.LongTensor(ind4)\n",
        "\n",
        "            predictions = np.zeros((len(indices),))\n",
        "            predictions = torch.from_numpy(predictions)\n",
        "            num_iter = int(np.ceil(len(indices) / float(split_size)))\n",
        "            tot_loss1 = 0\n",
        "            tot_loss2 = 0\n",
        "            for j in range(num_iter): #每100个连续的词语做成一个batch进行训练\n",
        "                subset = np.arange(j*split_size, min((j + 1)*split_size, len(ind1))) #subset用于对set中id->整个corpus词语id的重新定位\n",
        "                subset = torch.LongTensor(subset)\n",
        "                \n",
        "                pred_vec = (W[ind2[subset], :] - W[ind1[subset], :]\n",
        "                    +  W[ind3[subset], :])\n",
        "\n",
        "                # normalization\n",
        "                W_norm_pred = np.zeros(pred_vec.shape)\n",
        "                W_norm_pred = torch.from_numpy(W_norm_pred)\n",
        "                d_pred = (torch.sum(pred_vec ** 2, 1) ** (0.5))\n",
        "                W_norm_pred = (pred_vec.T / d_pred).T\n",
        "\n",
        "                dist = torch.mm(W, pred_vec.T)\n",
        "\n",
        "                for k in range(len(subset)):\n",
        "                    dist[ind1[subset[k]], k] = 0\n",
        "                    dist[ind2[subset[k]], k] = 0\n",
        "                    dist[ind3[subset[k]], k] = 0\n",
        "\n",
        "                # predicted word index\n",
        "                tmp = torch.argmax(dist,0).flatten()\n",
        "                tmp = torch.FloatTensor(tmp.float())\n",
        "                predictions[subset] = tmp.double()#torch.argmax(dist,0).flatten()\n",
        "            \n",
        "            dist.requires_grad_(True)\n",
        "            \n",
        "            ### construct expected matrix\n",
        "            expected_matrix = 0.01*np.ones((W.shape[0],len(subset))) #所有词语数目(用于找到wordvec最相近词),此过程中的ind4数目\n",
        "            expected_matrix = torch.from_numpy(expected_matrix)\n",
        "            for setid in range(0,len(subset)): #ind4[i]代表对应的正确id\n",
        "                expected_matrix[ind4[subset[setid]]][setid]=1 #第i个列最大的数值为1，为真值，其行坐标为ind14[i]\n",
        "            \n",
        "            expected_matrix.requires_grad_(True)\n",
        "            \n",
        "           ### calculate the angle between [0.01,,,,1,,,0.01]\n",
        "            tot_loss2 += torch.sum(dist*expected_matrix) #similarity of prediction result matrix\n",
        "\n",
        "            val = (ind4 == predictions) # correct predictions\n",
        "            for sid in range(0,len(ind4)):\n",
        "                if(ind4[sid]!=predictions[sid]):\n",
        "                    tot_loss1 += torch.sum(W[ind4[sid]]*W[int(predictions[sid])])\n",
        "            count_tot = count_tot + len(ind1)\n",
        "            correct_tot = correct_tot + sum(val)\n",
        "            if i < 5:\n",
        "                count_sem = count_sem + len(ind1)\n",
        "                correct_sem = correct_sem + sum(val)\n",
        "            else:\n",
        "                count_syn = count_syn + len(ind1)\n",
        "                correct_syn = correct_syn + sum(val)\n",
        "                \n",
        "            tot_loss1.requires_grad_(True)\n",
        "            tot_loss2.requires_grad_(True)\n",
        "        \n",
        "        return correct_sem, correct_syn, correct_tot, count_sem, count_syn, count_tot, full_count, tot_loss1, tot_loss2\n",
        "\n",
        "  correct_sem, correct_syn, correct_tot, count_sem, count_syn, count_tot, full_count,tot_loss1, tot_loss2 \\\n",
        "  = evaluate_vectors(W,vocab, prefix='./GloVe/eval/question-data')\n",
        "    \n",
        "  semantic_acc = 100 * correct_sem / float(count_sem)\n",
        "  syntactic_acc = 100 * correct_syn / float(count_syn)\n",
        "  total_acc = 100 * correct_tot / float(count_tot)\n",
        "  tot_loss1 =  100*tot_loss1 / float(vocab_size) #100--embedding vector length\n",
        "  tot_loss2 =tot_loss2 / float(vocab_size) #average of similarity\n",
        "\n",
        "  #print(total_acc)\n",
        "  #print(tot_loss1)\n",
        "  #print(tot_loss2)\n",
        "  \n",
        "  return semantic_acc, syntactic_acc, total_acc, tot_loss1, tot_loss2"
      ],
      "metadata": {
        "colab": {
          "base_uri": "https://localhost:8080/"
        },
        "id": "zmwXtpSt-JFt",
        "outputId": "a44730a2-4ce2-4661-f722-83c47bdc12b0"
      },
      "execution_count": null,
      "outputs": [
        {
          "output_type": "stream",
          "name": "stdout",
          "text": [
            "Cloning into 'GloVe'...\n",
            "remote: Enumerating objects: 606, done.\u001b[K\n",
            "remote: Counting objects: 100% (14/14), done.\u001b[K\n",
            "remote: Compressing objects: 100% (10/10), done.\u001b[K\n",
            "remote: Total 606 (delta 5), reused 8 (delta 4), pack-reused 592\u001b[K\n",
            "Receiving objects: 100% (606/606), 224.87 KiB | 1005.00 KiB/s, done.\n",
            "Resolving deltas: 100% (343/343), done.\n"
          ]
        }
      ]
    },
    {
      "cell_type": "code",
      "source": [
        "def update_embedding(emb_table):\n",
        "  # model for Text\n",
        "  import torch\n",
        "  import torch.nn as nn\n",
        "  import torch.optim as optim\n",
        "  from torch.autograd import Variable\n",
        "  import torch.nn.functional as F\n",
        "\n",
        "  device = torch.device(\"cuda\" if torch.cuda.is_available() else \"cpu\")\n",
        "\n",
        "  class Bi_LSTM_Attention(nn.Module):\n",
        "      def __init__(self):\n",
        "          super(Bi_LSTM_Attention, self).__init__()\n",
        "          self.emb = nn.Embedding(emb_table.shape[0],emb_table.shape[1])\n",
        "          self.emb.weight.data.copy_(torch.from_numpy(emb_table))\n",
        "          self.emb.weight.requires_grad = True\n",
        "          self.lstm = nn.LSTM(emb_table.shape[1], n_hidden, bidirectional=True)\n",
        "          self.encoder_fc = nn.Linear(2*n_hidden, n_class)\n",
        "          #self.activation = nn.ReLU()\n",
        "      \n",
        "      # https://colab.research.google.com/github/ngduyanhece/nlp-tutorial/blob/master/4-3.Bi-LSTM%28Attention%29/Bi_LSTM%28Attention%29_Torch.ipynb\n",
        "      # output : [batch_size, n_step, n_hidden * num_directions(=2)], F matrix\n",
        "      def attention_net(self, output, final_state):\n",
        "          hidden = final_state.view(-1, n_hidden * 2, 1)   # hidden : [batch_size, n_hidden * num_directions(=2), 1(=n_layer)]\n",
        "          attn_weights = torch.bmm(output, hidden).squeeze(2) # attn_weights : [batch_size, n_step]\n",
        "          soft_attn_weights = F.softmax(attn_weights, 1).to(device)\n",
        "          # [batch_size, n_hidden * num_directions(=2), n_step] * [batch_size, n_step, 1] = [batch_size, n_hidden * num_directions(=2), 1]\n",
        "          context = torch.bmm(output.transpose(1, 2), soft_attn_weights.unsqueeze(2)).squeeze(2).to(device)\n",
        "          #return context, soft_attn_weights # context : [batch_size, n_hidden * num_directions(=2)]\n",
        "          return context, soft_attn_weights.data.numpy() # context : [batch_size, n_hidden * num_directions(=2)]\n",
        "\n",
        "      def forward(self, X):\n",
        "          x = self.emb(X) # input : [batch_size, len_seq, embedding_dim]\n",
        "          # 32, 28, 100\n",
        "          x = x.permute(1, 0, 2) # input : [len_seq, batch_size, embedding_dim]\n",
        "          hidden_state = Variable(torch.zeros(1*2, x.shape[1], n_hidden)).to(device) # [num_layers(=1) * num_directions(=2), batch_size, n_hidden]\n",
        "          cell_state = Variable(torch.zeros(1*2,  x.shape[1], n_hidden)).to(device) # [num_layers(=1) * num_directions(=2), batch_size, n_hidden]\n",
        "          \n",
        "          # final_hidden_state, final_cell_state : [num_layers(=1) * num_directions(=2), batch_size, n_hidden]\n",
        "          #output, final_hidden_state = self.lstm(x)\n",
        "          #output, (final_hidden_state, final_cell_state) = self.lstm(x)\n",
        "          output, (final_hidden_state, final_cell_state) = self.lstm(x, (hidden_state, cell_state))\n",
        "          #output = output.permute(1, 0, 2) # output : [batch_size, len_seq, n_hidden]\n",
        "          #attn_output, attention = self.attention_net(output, final_hidden_state)\n",
        "          #features = self.activation(self.encoder_fc(attn_output)) # model : [batch_size, num_classes]\n",
        "          #x = self.emb(x)        \n",
        "          #lstm_out, (h_n, c_n) = self.lstm(x)\n",
        "          hidden_out = torch.cat((final_hidden_state[0,:,:],final_hidden_state[1,:,:]),1)\n",
        "          #z = self.encoder_fc(hidden_out)\n",
        "          return self.encoder_fc(hidden_out), self.emb\n",
        "\n",
        "  from sklearn.metrics import accuracy_score\n",
        "  n_hidden = 256\n",
        "  n_emb = emb_dim\n",
        "  total_epoch = 25\n",
        "  model = Bi_LSTM_Attention().to(device)\n",
        "  criterion = nn.CrossEntropyLoss()\n",
        "  optimizer = optim.Adam(model.parameters(), lr=0.001)\n",
        "  input_torch = torch.from_numpy(np.array(text_pad_encoded)).to(device)\n",
        "  target_torch = torch.from_numpy(np.array(label_encoded)).view(-1).to(device)\n",
        "\n",
        "  for epoch in range(total_epoch):  \n",
        "      \n",
        "      model.train()\n",
        "        \n",
        "      optimizer.zero_grad()\n",
        "      \n",
        "      outputs, lstm_emb = model(input_torch) \n",
        "      \n",
        "      back_emb = {}\n",
        "      \n",
        "      for i, word in enumerate(word_list):\n",
        "        back_emb[word] = lstm_emb(torch.LongTensor([i])).detach().numpy().flatten()\n",
        "      _, _, total_acc, loss_1, loss_2 = word_analogy_evaluation(back_emb)\n",
        "      avg_loss = 10.24*(total_acc+loss_1+loss_2)/3\n",
        "      print(\"weight adjusted\",avg_loss)\n",
        "      loss = criterion(outputs, target_torch)-avg_loss\n",
        "      loss.backward()\n",
        "      optimizer.step()\n",
        "        \n",
        "      predicted = torch.argmax(outputs, -1)\n",
        "      acc= accuracy_score(predicted.cpu().numpy(),target_torch.cpu().numpy())\n",
        "\n",
        "      print('Epoch: %d, loss: %.5f, train_acc: %.2f' %(epoch + 1, loss.item(), acc))\n",
        "\n",
        "  print('Finished Training')\n",
        "\n",
        "  return back_emb"
      ],
      "metadata": {
        "id": "7XxkVmEd-0Yf"
      },
      "execution_count": null,
      "outputs": []
    },
    {
      "cell_type": "markdown",
      "source": [
        "### update_embeddingx function\n",
        "##### input: emb_table: an corpus_num*100 2-dim np array"
      ],
      "metadata": {
        "id": "eoIHRet5Aumi"
      }
    },
    {
      "cell_type": "markdown",
      "source": [
        "#### version 0 of update_embedding function\n",
        "##### loss function: nn.CE(predicted,expected)"
      ],
      "metadata": {
        "id": "7yLTWR_tA-4W"
      }
    },
    {
      "cell_type": "code",
      "source": [
        "def update_embedding0(emb_table):\n",
        "  # model for Text\n",
        "  import torch\n",
        "  import torch.nn as nn\n",
        "  import torch.optim as optim\n",
        "  from torch.autograd import Variable\n",
        "  import torch.nn.functional as F\n",
        "\n",
        "  device = torch.device(\"cuda\" if torch.cuda.is_available() else \"cpu\")\n",
        "\n",
        "  class Bi_LSTM_Attention(nn.Module):\n",
        "      def __init__(self):\n",
        "          super(Bi_LSTM_Attention, self).__init__()\n",
        "          self.emb = nn.Embedding(emb_table.shape[0],emb_table.shape[1])\n",
        "          self.emb.weight.data.copy_(torch.from_numpy(emb_table))\n",
        "          self.emb.weight.requires_grad = True\n",
        "          self.lstm = nn.LSTM(emb_table.shape[1], n_hidden, bidirectional=True)\n",
        "          self.encoder_fc = nn.Linear(2*n_hidden, n_class)\n",
        "          #self.activation = nn.ReLU()\n",
        "      \n",
        "      # https://colab.research.google.com/github/ngduyanhece/nlp-tutorial/blob/master/4-3.Bi-LSTM%28Attention%29/Bi_LSTM%28Attention%29_Torch.ipynb\n",
        "      # output : [batch_size, n_step, n_hidden * num_directions(=2)], F matrix\n",
        "      def attention_net(self, output, final_state):\n",
        "          hidden = final_state.view(-1, n_hidden * 2, 1)   # hidden : [batch_size, n_hidden * num_directions(=2), 1(=n_layer)]\n",
        "          attn_weights = torch.bmm(output, hidden).squeeze(2) # attn_weights : [batch_size, n_step]\n",
        "          soft_attn_weights = F.softmax(attn_weights, 1).to(device)\n",
        "          # [batch_size, n_hidden * num_directions(=2), n_step] * [batch_size, n_step, 1] = [batch_size, n_hidden * num_directions(=2), 1]\n",
        "          context = torch.bmm(output.transpose(1, 2), soft_attn_weights.unsqueeze(2)).squeeze(2).to(device)\n",
        "          #return context, soft_attn_weights # context : [batch_size, n_hidden * num_directions(=2)]\n",
        "          return context, soft_attn_weights.data.numpy() # context : [batch_size, n_hidden * num_directions(=2)]\n",
        "\n",
        "      def forward(self, X):\n",
        "          x = self.emb(X) # input : [batch_size, len_seq, embedding_dim]\n",
        "          # 32, 28, 100\n",
        "          x = x.permute(1, 0, 2) # input : [len_seq, batch_size, embedding_dim]\n",
        "          hidden_state = Variable(torch.zeros(1*2, x.shape[1], n_hidden)).to(device) # [num_layers(=1) * num_directions(=2), batch_size, n_hidden]\n",
        "          cell_state = Variable(torch.zeros(1*2,  x.shape[1], n_hidden)).to(device) # [num_layers(=1) * num_directions(=2), batch_size, n_hidden]\n",
        "          \n",
        "          # final_hidden_state, final_cell_state : [num_layers(=1) * num_directions(=2), batch_size, n_hidden]\n",
        "          #output, final_hidden_state = self.lstm(x)\n",
        "          #output, (final_hidden_state, final_cell_state) = self.lstm(x)\n",
        "          output, (final_hidden_state, final_cell_state) = self.lstm(x, (hidden_state, cell_state))\n",
        "          #output = output.permute(1, 0, 2) # output : [batch_size, len_seq, n_hidden]\n",
        "          #attn_output, attention = self.attention_net(output, final_hidden_state)\n",
        "          #features = self.activation(self.encoder_fc(attn_output)) # model : [batch_size, num_classes]\n",
        "          #x = self.emb(x)        \n",
        "          #lstm_out, (h_n, c_n) = self.lstm(x)\n",
        "          hidden_out = torch.cat((final_hidden_state[0,:,:],final_hidden_state[1,:,:]),1)\n",
        "          #z = self.encoder_fc(hidden_out)\n",
        "          return self.encoder_fc(hidden_out), self.emb\n",
        "\n",
        "  from sklearn.metrics import accuracy_score\n",
        "  n_hidden = 256\n",
        "  n_emb = emb_dim\n",
        "  total_epoch = 25\n",
        "  model = Bi_LSTM_Attention().to(device)\n",
        "  criterion = nn.CrossEntropyLoss()\n",
        "  optimizer = optim.Adam(model.parameters(), lr=0.001)\n",
        "  input_torch = torch.from_numpy(np.array(text_pad_encoded)).to(device)\n",
        "  target_torch = torch.from_numpy(np.array(label_encoded)).view(-1).to(device)\n",
        "\n",
        "  for epoch in range(total_epoch):  \n",
        "      \n",
        "      model.train()\n",
        "        \n",
        "      optimizer.zero_grad()\n",
        "      \n",
        "      outputs, lstm_emb = model(input_torch) \n",
        "      \n",
        "      back_emb = {}\n",
        "      \n",
        "      for i, word in enumerate(word_list):\n",
        "        back_emb[word] = lstm_emb(torch.LongTensor([i])).detach().numpy().flatten()\n",
        "      _, _, total_acc, loss_1, loss_2 = word_analogy_evaluation(back_emb)\n",
        "      avg_loss = 10.24*(total_acc+loss_1+loss_2)/3\n",
        "      print(\"weight adjusted\",avg_loss)\n",
        "      loss = criterion(outputs, target_torch)\n",
        "      loss.backward()\n",
        "      optimizer.step()\n",
        "        \n",
        "      predicted = torch.argmax(outputs, -1)\n",
        "      acc= accuracy_score(predicted.cpu().numpy(),target_torch.cpu().numpy())\n",
        "\n",
        "      print('Epoch: %d, loss: %.5f, train_acc: %.2f' %(epoch + 1, loss.item(), acc))\n",
        "\n",
        "  print('Finished Training')\n",
        "\n",
        "  return back_emb"
      ],
      "metadata": {
        "id": "qeK_q4Er9DcA"
      },
      "execution_count": null,
      "outputs": []
    },
    {
      "cell_type": "markdown",
      "source": [
        "#### version 1 of update_embedding function\n",
        "##### loss function: nn.CE(predicted,expected)+Spearmans loss"
      ],
      "metadata": {
        "id": "AQxuDuh0BNxz"
      }
    },
    {
      "cell_type": "code",
      "source": [
        "def update_embedding1(emb_table):\n",
        "  # model for Text\n",
        "  import torch\n",
        "  import torch.nn as nn\n",
        "  import torch.optim as optim\n",
        "  from torch.autograd import Variable\n",
        "  import torch.nn.functional as F\n",
        "\n",
        "  device = torch.device(\"cuda\" if torch.cuda.is_available() else \"cpu\")\n",
        "\n",
        "  class Bi_LSTM_Attention(nn.Module):\n",
        "      def __init__(self):\n",
        "          super(Bi_LSTM_Attention, self).__init__()\n",
        "          self.emb = nn.Embedding(emb_table.shape[0],emb_table.shape[1])\n",
        "          self.emb.weight.data.copy_(torch.from_numpy(emb_table))\n",
        "          self.emb.weight.requires_grad = True\n",
        "          self.lstm = nn.LSTM(emb_table.shape[1], n_hidden, bidirectional=True)\n",
        "          self.encoder_fc = nn.Linear(2*n_hidden, n_class)\n",
        "          #self.activation = nn.ReLU()\n",
        "      \n",
        "      # https://colab.research.google.com/github/ngduyanhece/nlp-tutorial/blob/master/4-3.Bi-LSTM%28Attention%29/Bi_LSTM%28Attention%29_Torch.ipynb\n",
        "      # output : [batch_size, n_step, n_hidden * num_directions(=2)], F matrix\n",
        "      def attention_net(self, output, final_state):\n",
        "          hidden = final_state.view(-1, n_hidden * 2, 1)   # hidden : [batch_size, n_hidden * num_directions(=2), 1(=n_layer)]\n",
        "          attn_weights = torch.bmm(output, hidden).squeeze(2) # attn_weights : [batch_size, n_step]\n",
        "          soft_attn_weights = F.softmax(attn_weights, 1).to(device)\n",
        "          # [batch_size, n_hidden * num_directions(=2), n_step] * [batch_size, n_step, 1] = [batch_size, n_hidden * num_directions(=2), 1]\n",
        "          context = torch.bmm(output.transpose(1, 2), soft_attn_weights.unsqueeze(2)).squeeze(2).to(device)\n",
        "          #return context, soft_attn_weights # context : [batch_size, n_hidden * num_directions(=2)]\n",
        "          return context, soft_attn_weights.data.numpy() # context : [batch_size, n_hidden * num_directions(=2)]\n",
        "\n",
        "      def forward(self, X):\n",
        "          x = self.emb(X) # input : [batch_size, len_seq, embedding_dim]\n",
        "          # 32, 28, 100\n",
        "          x = x.permute(1, 0, 2) # input : [len_seq, batch_size, embedding_dim]\n",
        "          hidden_state = Variable(torch.zeros(1*2, x.shape[1], n_hidden)).to(device) # [num_layers(=1) * num_directions(=2), batch_size, n_hidden]\n",
        "          cell_state = Variable(torch.zeros(1*2,  x.shape[1], n_hidden)).to(device) # [num_layers(=1) * num_directions(=2), batch_size, n_hidden]\n",
        "          \n",
        "          # final_hidden_state, final_cell_state : [num_layers(=1) * num_directions(=2), batch_size, n_hidden]\n",
        "          #output, final_hidden_state = self.lstm(x)\n",
        "          #output, (final_hidden_state, final_cell_state) = self.lstm(x)\n",
        "          output, (final_hidden_state, final_cell_state) = self.lstm(x, (hidden_state, cell_state))\n",
        "          #output = output.permute(1, 0, 2) # output : [batch_size, len_seq, n_hidden]\n",
        "          #attn_output, attention = self.attention_net(output, final_hidden_state)\n",
        "          #features = self.activation(self.encoder_fc(attn_output)) # model : [batch_size, num_classes]\n",
        "          #x = self.emb(x)        \n",
        "          #lstm_out, (h_n, c_n) = self.lstm(x)\n",
        "          hidden_out = torch.cat((final_hidden_state[0,:,:],final_hidden_state[1,:,:]),1)\n",
        "          #z = self.encoder_fc(hidden_out)\n",
        "          return self.encoder_fc(hidden_out), self.emb\n",
        "\n",
        "  from sklearn.metrics import accuracy_score\n",
        "  n_hidden = 256\n",
        "  n_emb = emb_dim\n",
        "  total_epoch = 25\n",
        "  model = Bi_LSTM_Attention().to(device)\n",
        "  criterion = nn.CrossEntropyLoss()\n",
        "  optimizer = optim.Adam(model.parameters(), lr=0.001)\n",
        "  input_torch = torch.from_numpy(np.array(text_pad_encoded)).to(device)\n",
        "  target_torch = torch.from_numpy(np.array(label_encoded)).view(-1).to(device)\n",
        "\n",
        "  for epoch in range(total_epoch):  \n",
        "      \n",
        "      model.train()\n",
        "        \n",
        "      optimizer.zero_grad()\n",
        "      \n",
        "      outputs, lstm_emb = model(input_torch) \n",
        "      \n",
        "      back_emb = {}\n",
        "      \n",
        "      for i, word in enumerate(word_list):\n",
        "        back_emb[word] = lstm_emb(torch.LongTensor([i])).detach().numpy().flatten()\n",
        "      _, _, total_acc, loss_1, loss_2 = word_analogy_evaluation(back_emb)\n",
        "      sim_loss = 33*sim_loss_cal2(word_sim_dir,back_emb)\n",
        "      print(\"sparsemans loss\",sim_loss)\n",
        "      loss = criterion(outputs, target_torch)+sim_loss\n",
        "      loss.backward()\n",
        "      optimizer.step()\n",
        "        \n",
        "      predicted = torch.argmax(outputs, -1)\n",
        "      acc= accuracy_score(predicted.cpu().numpy(),target_torch.cpu().numpy())\n",
        "\n",
        "      print('Epoch: %d, loss: %.5f, train_acc: %.2f' %(epoch + 1, loss.item(), acc))\n",
        "\n",
        "  print('Finished Training')\n",
        "\n",
        "  return back_emb"
      ],
      "metadata": {
        "id": "4Ryfw-l1_dgO"
      },
      "execution_count": null,
      "outputs": []
    },
    {
      "cell_type": "markdown",
      "source": [
        "#### version 2 of update_embedding function\n",
        "##### loss function: nn.CE(predicted,expected) + analogy_loss (avg of 3)"
      ],
      "metadata": {
        "id": "qyGpn7VyDsDy"
      }
    },
    {
      "cell_type": "code",
      "source": [
        "def update_embedding2(emb_table):\n",
        "  # model for Text\n",
        "  import torch\n",
        "  import torch.nn as nn\n",
        "  import torch.optim as optim\n",
        "  from torch.autograd import Variable\n",
        "  import torch.nn.functional as F\n",
        "\n",
        "  device = torch.device(\"cuda\" if torch.cuda.is_available() else \"cpu\")\n",
        "\n",
        "  class Bi_LSTM_Attention(nn.Module):\n",
        "      def __init__(self):\n",
        "          super(Bi_LSTM_Attention, self).__init__()\n",
        "          self.emb = nn.Embedding(emb_table.shape[0],emb_table.shape[1])\n",
        "          self.emb.weight.data.copy_(torch.from_numpy(emb_table))\n",
        "          self.emb.weight.requires_grad = True\n",
        "          self.lstm = nn.LSTM(emb_table.shape[1], n_hidden, bidirectional=True)\n",
        "          self.encoder_fc = nn.Linear(2*n_hidden, n_class)\n",
        "          #self.activation = nn.ReLU()\n",
        "      \n",
        "      # https://colab.research.google.com/github/ngduyanhece/nlp-tutorial/blob/master/4-3.Bi-LSTM%28Attention%29/Bi_LSTM%28Attention%29_Torch.ipynb\n",
        "      # output : [batch_size, n_step, n_hidden * num_directions(=2)], F matrix\n",
        "      def attention_net(self, output, final_state):\n",
        "          hidden = final_state.view(-1, n_hidden * 2, 1)   # hidden : [batch_size, n_hidden * num_directions(=2), 1(=n_layer)]\n",
        "          attn_weights = torch.bmm(output, hidden).squeeze(2) # attn_weights : [batch_size, n_step]\n",
        "          soft_attn_weights = F.softmax(attn_weights, 1).to(device)\n",
        "          # [batch_size, n_hidden * num_directions(=2), n_step] * [batch_size, n_step, 1] = [batch_size, n_hidden * num_directions(=2), 1]\n",
        "          context = torch.bmm(output.transpose(1, 2), soft_attn_weights.unsqueeze(2)).squeeze(2).to(device)\n",
        "          #return context, soft_attn_weights # context : [batch_size, n_hidden * num_directions(=2)]\n",
        "          return context, soft_attn_weights.data.numpy() # context : [batch_size, n_hidden * num_directions(=2)]\n",
        "\n",
        "      def forward(self, X):\n",
        "          x = self.emb(X) # input : [batch_size, len_seq, embedding_dim]\n",
        "          # 32, 28, 100\n",
        "          x = x.permute(1, 0, 2) # input : [len_seq, batch_size, embedding_dim]\n",
        "          hidden_state = Variable(torch.zeros(1*2, x.shape[1], n_hidden)).to(device) # [num_layers(=1) * num_directions(=2), batch_size, n_hidden]\n",
        "          cell_state = Variable(torch.zeros(1*2,  x.shape[1], n_hidden)).to(device) # [num_layers(=1) * num_directions(=2), batch_size, n_hidden]\n",
        "          \n",
        "          # final_hidden_state, final_cell_state : [num_layers(=1) * num_directions(=2), batch_size, n_hidden]\n",
        "          #output, final_hidden_state = self.lstm(x)\n",
        "          #output, (final_hidden_state, final_cell_state) = self.lstm(x)\n",
        "          output, (final_hidden_state, final_cell_state) = self.lstm(x, (hidden_state, cell_state))\n",
        "          #output = output.permute(1, 0, 2) # output : [batch_size, len_seq, n_hidden]\n",
        "          #attn_output, attention = self.attention_net(output, final_hidden_state)\n",
        "          #features = self.activation(self.encoder_fc(attn_output)) # model : [batch_size, num_classes]\n",
        "          #x = self.emb(x)        \n",
        "          #lstm_out, (h_n, c_n) = self.lstm(x)\n",
        "          hidden_out = torch.cat((final_hidden_state[0,:,:],final_hidden_state[1,:,:]),1)\n",
        "          #z = self.encoder_fc(hidden_out)\n",
        "          return self.encoder_fc(hidden_out), self.emb\n",
        "\n",
        "  from sklearn.metrics import accuracy_score\n",
        "  n_hidden = 256\n",
        "  n_emb = emb_dim\n",
        "  total_epoch = 25\n",
        "  model = Bi_LSTM_Attention().to(device)\n",
        "  criterion = nn.CrossEntropyLoss()\n",
        "  optimizer = optim.Adam(model.parameters(), lr=0.001)\n",
        "  input_torch = torch.from_numpy(np.array(text_pad_encoded)).to(device)\n",
        "  target_torch = torch.from_numpy(np.array(label_encoded)).view(-1).to(device)\n",
        "\n",
        "  for epoch in range(total_epoch):  \n",
        "      \n",
        "      model.train()\n",
        "        \n",
        "      optimizer.zero_grad()\n",
        "      \n",
        "      outputs, lstm_emb = model(input_torch) \n",
        "      \n",
        "      back_emb = {}\n",
        "      \n",
        "      for i, word in enumerate(word_list):\n",
        "        back_emb[word] = lstm_emb(torch.LongTensor([i])).detach().numpy().flatten()\n",
        "      _, _, total_acc, loss_1, loss_2 = word_analogy_evaluation(back_emb)\n",
        "      avg_loss = 0.1024*(total_acc+loss_1+loss_2)/3\n",
        "      print(\"weight adjusted\",avg_loss)\n",
        "      loss = criterion(outputs, target_torch)-avg_loss\n",
        "      loss.backward()\n",
        "      optimizer.step()\n",
        "        \n",
        "      predicted = torch.argmax(outputs, -1)\n",
        "      acc= accuracy_score(predicted.cpu().numpy(),target_torch.cpu().numpy())\n",
        "\n",
        "      print('Epoch: %d, loss: %.5f, train_acc: %.2f' %(epoch + 1, loss.item(), acc))\n",
        "\n",
        "  print('Finished Training')\n",
        "\n",
        "  return back_emb"
      ],
      "metadata": {
        "id": "ElDCLNqJhQPF"
      },
      "execution_count": null,
      "outputs": []
    },
    {
      "cell_type": "markdown",
      "source": [
        "#### version 3 of update_embedding function\n",
        "##### loss function: nn.CE(predicted,expected) + sparsemans loss + analogy_loss (avg of 3)"
      ],
      "metadata": {
        "id": "fCJI9mOUBaPC"
      }
    },
    {
      "cell_type": "code",
      "source": [
        "def update_embedding3(emb_table):\n",
        "  # model for Text\n",
        "  import torch\n",
        "  import torch.nn as nn\n",
        "  import torch.optim as optim\n",
        "  from torch.autograd import Variable\n",
        "  import torch.nn.functional as F\n",
        "\n",
        "  device = torch.device(\"cuda\" if torch.cuda.is_available() else \"cpu\")\n",
        "\n",
        "  class Bi_LSTM_Attention(nn.Module):\n",
        "      def __init__(self):\n",
        "          super(Bi_LSTM_Attention, self).__init__()\n",
        "          self.emb = nn.Embedding(emb_table.shape[0],emb_table.shape[1])\n",
        "          self.emb.weight.data.copy_(torch.from_numpy(emb_table))\n",
        "          self.emb.weight.requires_grad = True\n",
        "          self.lstm = nn.LSTM(emb_table.shape[1], n_hidden, bidirectional=True)\n",
        "          self.encoder_fc = nn.Linear(2*n_hidden, n_class)\n",
        "          #self.activation = nn.ReLU()\n",
        "      \n",
        "      # https://colab.research.google.com/github/ngduyanhece/nlp-tutorial/blob/master/4-3.Bi-LSTM%28Attention%29/Bi_LSTM%28Attention%29_Torch.ipynb\n",
        "      # output : [batch_size, n_step, n_hidden * num_directions(=2)], F matrix\n",
        "      def attention_net(self, output, final_state):\n",
        "          hidden = final_state.view(-1, n_hidden * 2, 1)   # hidden : [batch_size, n_hidden * num_directions(=2), 1(=n_layer)]\n",
        "          attn_weights = torch.bmm(output, hidden).squeeze(2) # attn_weights : [batch_size, n_step]\n",
        "          soft_attn_weights = F.softmax(attn_weights, 1).to(device)\n",
        "          # [batch_size, n_hidden * num_directions(=2), n_step] * [batch_size, n_step, 1] = [batch_size, n_hidden * num_directions(=2), 1]\n",
        "          context = torch.bmm(output.transpose(1, 2), soft_attn_weights.unsqueeze(2)).squeeze(2).to(device)\n",
        "          #return context, soft_attn_weights # context : [batch_size, n_hidden * num_directions(=2)]\n",
        "          return context, soft_attn_weights.data.numpy() # context : [batch_size, n_hidden * num_directions(=2)]\n",
        "\n",
        "      def forward(self, X):\n",
        "          x = self.emb(X) # input : [batch_size, len_seq, embedding_dim]\n",
        "          # 32, 28, 100\n",
        "          x = x.permute(1, 0, 2) # input : [len_seq, batch_size, embedding_dim]\n",
        "          hidden_state = Variable(torch.zeros(1*2, x.shape[1], n_hidden)).to(device) # [num_layers(=1) * num_directions(=2), batch_size, n_hidden]\n",
        "          cell_state = Variable(torch.zeros(1*2,  x.shape[1], n_hidden)).to(device) # [num_layers(=1) * num_directions(=2), batch_size, n_hidden]\n",
        "          \n",
        "          # final_hidden_state, final_cell_state : [num_layers(=1) * num_directions(=2), batch_size, n_hidden]\n",
        "          #output, final_hidden_state = self.lstm(x)\n",
        "          #output, (final_hidden_state, final_cell_state) = self.lstm(x)\n",
        "          output, (final_hidden_state, final_cell_state) = self.lstm(x, (hidden_state, cell_state))\n",
        "          #output = output.permute(1, 0, 2) # output : [batch_size, len_seq, n_hidden]\n",
        "          #attn_output, attention = self.attention_net(output, final_hidden_state)\n",
        "          #features = self.activation(self.encoder_fc(attn_output)) # model : [batch_size, num_classes]\n",
        "          #x = self.emb(x)        \n",
        "          #lstm_out, (h_n, c_n) = self.lstm(x)\n",
        "          hidden_out = torch.cat((final_hidden_state[0,:,:],final_hidden_state[1,:,:]),1)\n",
        "          #z = self.encoder_fc(hidden_out)\n",
        "          return self.encoder_fc(hidden_out), self.emb\n",
        "\n",
        "  from sklearn.metrics import accuracy_score\n",
        "  n_hidden = 256\n",
        "  n_emb = emb_dim\n",
        "  total_epoch = 25\n",
        "  model = Bi_LSTM_Attention().to(device)\n",
        "  criterion = nn.CrossEntropyLoss()\n",
        "  optimizer = optim.Adam(model.parameters(), lr=0.001)\n",
        "  input_torch = torch.from_numpy(np.array(text_pad_encoded)).to(device)\n",
        "  target_torch = torch.from_numpy(np.array(label_encoded)).view(-1).to(device)\n",
        "\n",
        "  for epoch in range(total_epoch):  \n",
        "      \n",
        "      model.train()\n",
        "        \n",
        "      optimizer.zero_grad()\n",
        "      \n",
        "      outputs, lstm_emb = model(input_torch) \n",
        "      \n",
        "      back_emb = {}\n",
        "      \n",
        "      for i, word in enumerate(word_list):\n",
        "        back_emb[word] = lstm_emb(torch.LongTensor([i])).detach().numpy().flatten()\n",
        "      _, _, total_acc, loss_1, loss_2 = word_analogy_evaluation(back_emb)\n",
        "      sim_loss = 3.3*sim_loss_cal2(word_sim_dir,back_emb)\n",
        "      print(\"sparsemans loss\",sim_loss)\n",
        "      avg_loss = 10.24*(total_acc+loss_1+loss_2)/3\n",
        "      print(\"word analogy weight adjusted\",avg_loss)\n",
        "      loss = criterion(outputs, target_torch)-avg_loss+sim_loss\n",
        "      loss.backward()\n",
        "      optimizer.step()\n",
        "        \n",
        "      predicted = torch.argmax(outputs, -1)\n",
        "      acc= accuracy_score(predicted.cpu().numpy(),target_torch.cpu().numpy())\n",
        "\n",
        "      print('Epoch: %d, loss: %.5f, train_acc: %.2f' %(epoch + 1, loss.item(), acc))\n",
        "\n",
        "  print('Finished Training')\n",
        "\n",
        "  return back_emb"
      ],
      "metadata": {
        "id": "e3UESqyF9Lbc"
      },
      "execution_count": null,
      "outputs": []
    },
    {
      "cell_type": "markdown",
      "source": [
        "#### Version 4 of update embedding function\n",
        "Attention"
      ],
      "metadata": {
        "id": "omAlPCDfzMPG"
      }
    },
    {
      "cell_type": "code",
      "source": [
        "def update_embedding(emb_table):\n",
        "  # model for Text\n",
        "  import torch\n",
        "  import torch.nn as nn\n",
        "  import torch.optim as optim\n",
        "  from torch.autograd import Variable\n",
        "  import torch.nn.functional as F\n",
        "\n",
        "  device = torch.device(\"cuda\" if torch.cuda.is_available() else \"cpu\")\n",
        "\n",
        "  class Bi_LSTM_Attention(nn.Module):\n",
        "      def __init__(self):\n",
        "          super(Bi_LSTM_Attention, self).__init__()\n",
        "          self.emb = nn.Embedding(emb_table.shape[0],emb_table.shape[1])\n",
        "          self.emb.weight.data.copy_(torch.from_numpy(emb_table))\n",
        "          self.emb.weight.requires_grad = True\n",
        "          self.lstm = nn.LSTM(emb_table.shape[1], n_hidden, bidirectional=True)\n",
        "          self.encoder_fc = nn.Linear(2*n_hidden, n_class)\n",
        "          #self.activation = nn.ReLU()\n",
        "      \n",
        "      # https://colab.research.google.com/github/ngduyanhece/nlp-tutorial/blob/master/4-3.Bi-LSTM%28Attention%29/Bi_LSTM%28Attention%29_Torch.ipynb\n",
        "      # output : [batch_size, n_step, n_hidden * num_directions(=2)], F matrix\n",
        "      def attention_net(self, output, final_state):\n",
        "          hidden = final_state.view(-1, n_hidden * 2, 1)   # hidden : [batch_size, n_hidden * num_directions(=2), 1(=n_layer)]\n",
        "          attn_weights = torch.bmm(output, hidden).squeeze(2) # attn_weights : [batch_size, n_step]\n",
        "          soft_attn_weights = F.softmax(attn_weights, 1).to(device)\n",
        "          # [batch_size, n_hidden * num_directions(=2), n_step] * [batch_size, n_step, 1] = [batch_size, n_hidden * num_directions(=2), 1]\n",
        "          context = torch.bmm(output.transpose(1, 2), soft_attn_weights.unsqueeze(2)).squeeze(2).to(device)\n",
        "          #return context, soft_attn_weights # context : [batch_size, n_hidden * num_directions(=2)]\n",
        "          return context, soft_attn_weights.data.numpy() # context : [batch_size, n_hidden * num_directions(=2)]\n",
        "\n",
        "      def forward(self, X):\n",
        "          x = self.emb(X) # input : [batch_size, len_seq, embedding_dim]\n",
        "          # 32, 28, 100\n",
        "          x = x.permute(1, 0, 2) # input : [len_seq, batch_size, embedding_dim]\n",
        "          hidden_state = Variable(torch.zeros(1*2, x.shape[1], n_hidden)).to(device) # [num_layers(=1) * num_directions(=2), batch_size, n_hidden]\n",
        "          cell_state = Variable(torch.zeros(1*2,  x.shape[1], n_hidden)).to(device) # [num_layers(=1) * num_directions(=2), batch_size, n_hidden]\n",
        "          \n",
        "          # final_hidden_state, final_cell_state : [num_layers(=1) * num_directions(=2), batch_size, n_hidden]\n",
        "          #output, final_hidden_state = self.lstm(x)\n",
        "          #output, (final_hidden_state, final_cell_state) = self.lstm(x)\n",
        "          output, (final_hidden_state, final_cell_state) = self.lstm(x, (hidden_state, cell_state))\n",
        "          output = output.permute(1, 0, 2) # output : [batch_size, len_seq, n_hidden]\n",
        "          attn_output, attention = self.attention_net(output, final_hidden_state)\n",
        "          features = self.activation(self.encoder_fc(attn_output)) # model : [batch_size, num_classes]\n",
        "          #x = self.emb(x)        \n",
        "          #lstm_out, (h_n, c_n) = self.lstm(x)\n",
        "          hidden_out = torch.cat((final_hidden_state[0,:,:],final_hidden_state[1,:,:]),1)\n",
        "          #z = self.encoder_fc(hidden_out)\n",
        "          return self.encoder_fc(hidden_out), self.emb\n",
        "\n",
        "          # final_hidden_state, final_cell_state : [num_layers(=1) * num_directions(=2), batch_size, n_hidden]\n",
        "          output, (final_hidden_state, final_cell_state) = self.lstm(input, (hidden_state, cell_state))\n",
        "          output = output.permute(1, 0, 2) # output : [batch_size, len_seq, n_hidden]\n",
        "          attn_output, attention = self.attention_net(output, final_hidden_state)\n",
        "          return self.out(attn_output), attention # model : [batch_size, num_classes], attention : [batch_size, n_step]\n",
        "\n",
        "  from sklearn.metrics import accuracy_score\n",
        "  n_hidden = 256\n",
        "  n_emb = emb_dim\n",
        "  total_epoch = 25\n",
        "  model = Bi_LSTM_Attention().to(device)\n",
        "  criterion = nn.CrossEntropyLoss()\n",
        "  optimizer = optim.Adam(model.parameters(), lr=0.001)\n",
        "  input_torch = torch.from_numpy(np.array(text_pad_encoded)).to(device)\n",
        "  target_torch = torch.from_numpy(np.array(label_encoded)).view(-1).to(device)\n",
        "\n",
        "  for epoch in range(total_epoch):  \n",
        "      \n",
        "      model.train()\n",
        "        \n",
        "      optimizer.zero_grad()\n",
        "      \n",
        "      outputs, lstm_emb = model(input_torch) \n",
        "      \n",
        "      back_emb = {}\n",
        "      \n",
        "      for i, word in enumerate(word_list):\n",
        "        back_emb[word] = lstm_emb(torch.LongTensor([i])).detach().numpy().flatten()\n",
        "      _, _, total_acc, loss_1, loss_2 = word_analogy_evaluation(back_emb)\n",
        "      avg_loss = 10.24*(total_acc+loss_1+loss_2)/3\n",
        "      print(\"weight adjusted\",avg_loss)\n",
        "      loss = criterion(outputs, target_torch)-avg_loss\n",
        "      loss.backward()\n",
        "      optimizer.step()\n",
        "        \n",
        "      predicted = torch.argmax(outputs, -1)\n",
        "      acc= accuracy_score(predicted.cpu().numpy(),target_torch.cpu().numpy())\n",
        "\n",
        "      print('Epoch: %d, loss: %.5f, train_acc: %.2f' %(epoch + 1, loss.item(), acc))\n",
        "\n",
        "  print('Finished Training')\n",
        "\n",
        "  return back_emb"
      ],
      "metadata": {
        "id": "yaG3YP2_zXKx"
      },
      "execution_count": null,
      "outputs": []
    },
    {
      "cell_type": "markdown",
      "source": [
        "### Classificatin Fuction\n",
        "##### 1. Tune the word embedding on the train set\n",
        "##### 2. Do 2-class classification on the test set\n",
        "\n",
        "### For classification methods, we design two types of NN:\n",
        "##### 1. BiLSTM"
      ],
      "metadata": {
        "id": "OLebycuFAcGX"
      }
    },
    {
      "cell_type": "markdown",
      "source": [
        "##### 1. BiLSTM for classification"
      ],
      "metadata": {
        "id": "IpS-eeocPWtU"
      }
    },
    {
      "cell_type": "code",
      "source": [
        "def classification(emb_table):\n",
        "  # model for Text\n",
        "  import torch\n",
        "  import torch.nn as nn\n",
        "  import torch.optim as optim\n",
        "  from torch.autograd import Variable\n",
        "  import torch.nn.functional as F\n",
        "\n",
        "  device = torch.device(\"cuda\" if torch.cuda.is_available() else \"cpu\")\n",
        "\n",
        "  class Bi_LSTM_Attention(nn.Module):\n",
        "      def __init__(self):\n",
        "          super(Bi_LSTM_Attention, self).__init__()\n",
        "          self.emb = nn.Embedding(emb_table.shape[0],emb_table.shape[1])\n",
        "          self.emb.weight.data.copy_(torch.from_numpy(emb_table))\n",
        "          self.emb.weight.requires_grad = False\n",
        "          self.lstm = nn.LSTM(emb_table.shape[1], n_hidden, bidirectional=True)\n",
        "          self.encoder_fc = nn.Linear(2*n_hidden, n_class)\n",
        "          #self.activation = nn.ReLU()\n",
        "      \n",
        "      # https://colab.research.google.com/github/ngduyanhece/nlp-tutorial/blob/master/4-3.Bi-LSTM%28Attention%29/Bi_LSTM%28Attention%29_Torch.ipynb\n",
        "      # output : [batch_size, n_step, n_hidden * num_directions(=2)], F matrix\n",
        "      def attention_net(self, output, final_state):\n",
        "          hidden = final_state.view(-1, n_hidden * 2, 1)   # hidden : [batch_size, n_hidden * num_directions(=2), 1(=n_layer)]\n",
        "          attn_weights = torch.bmm(output, hidden).squeeze(2) # attn_weights : [batch_size, n_step]\n",
        "          soft_attn_weights = F.softmax(attn_weights, 1).to(device)\n",
        "          # [batch_size, n_hidden * num_directions(=2), n_step] * [batch_size, n_step, 1] = [batch_size, n_hidden * num_directions(=2), 1]\n",
        "          context = torch.bmm(output.transpose(1, 2), soft_attn_weights.unsqueeze(2)).squeeze(2).to(device)\n",
        "          #return context, soft_attn_weights # context : [batch_size, n_hidden * num_directions(=2)]\n",
        "          return context, soft_attn_weights.data.numpy() # context : [batch_size, n_hidden * num_directions(=2)]\n",
        "\n",
        "      def forward(self, X):\n",
        "          x = self.emb(X) # input : [batch_size, len_seq, embedding_dim]\n",
        "          # 32, 28, 100\n",
        "          x = x.permute(1, 0, 2) # input : [len_seq, batch_size, embedding_dim]\n",
        "          hidden_state = Variable(torch.zeros(1*2, x.shape[1], n_hidden)).to(device) # [num_layers(=1) * num_directions(=2), batch_size, n_hidden]\n",
        "          cell_state = Variable(torch.zeros(1*2,  x.shape[1], n_hidden)).to(device) # [num_layers(=1) * num_directions(=2), batch_size, n_hidden]\n",
        "          \n",
        "          # final_hidden_state, final_cell_state : [num_layers(=1) * num_directions(=2), batch_size, n_hidden]\n",
        "          #output, final_hidden_state = self.lstm(x)\n",
        "          #output, (final_hidden_state, final_cell_state) = self.lstm(x)\n",
        "          output, (final_hidden_state, final_cell_state) = self.lstm(x, (hidden_state, cell_state))\n",
        "          #output = output.permute(1, 0, 2) # output : [batch_size, len_seq, n_hidden]\n",
        "          #attn_output, attention = self.attention_net(output, final_hidden_state)\n",
        "          #features = self.activation(self.encoder_fc(attn_output)) # model : [batch_size, num_classes]\n",
        "          #x = self.emb(x)        sf\n",
        "          #lstm_out, (h_n, c_n) = self.lstm(x)\n",
        "          hidden_out = torch.cat((final_hidden_state[0,:,:],final_hidden_state[1,:,:]),1)\n",
        "          #z = self.encoder_fc(hidden_out)\n",
        "          return self.encoder_fc(hidden_out)\n",
        "\n",
        "  from sklearn.metrics import accuracy_score\n",
        "  n_hidden = 256\n",
        "  n_emb = emb_dim\n",
        "  total_epoch = 25\n",
        "  model = Bi_LSTM_Attention().to(device)\n",
        "  criterion = nn.CrossEntropyLoss()\n",
        "  optimizer = optim.Adam(model.parameters(), lr=0.005)\n",
        "  input_torch = torch.from_numpy(np.array(train_pad_encoded)).to(device)\n",
        "  target_torch = torch.from_numpy(np.array(label_train_encoded)).view(-1).to(device)\n",
        "\n",
        "  for epoch in range(total_epoch):  \n",
        "      \n",
        "      model.train()\n",
        "        \n",
        "      optimizer.zero_grad()\n",
        "      \n",
        "      outputs = model(input_torch) \n",
        "      loss = criterion(outputs, target_torch) \n",
        "      loss.backward()\n",
        "      optimizer.step()\n",
        "        \n",
        "      predicted = torch.argmax(outputs, -1)\n",
        "      acc= accuracy_score(predicted.cpu().numpy(),target_torch.cpu().numpy())\n",
        "\n",
        "      print('Epoch: %d, loss: %.5f, train_acc: %.2f' %(epoch + 1, loss.item(), acc))\n",
        "\n",
        "  print('Finished Training')\n",
        "\n",
        "  model.eval()\n",
        "\n",
        "  input_torch = torch.from_numpy(np.array(test_pad_encoded)).to(device)\n",
        "\n",
        "  outputs = model(input_torch) \n",
        "  predicted = torch.argmax(outputs, -1)\n",
        "\n",
        "  from sklearn.metrics import classification_report\n",
        "  print(classification_report(label_test_encoded,predicted.cpu().numpy()))"
      ],
      "metadata": {
        "id": "eCkuT-pFAcPr"
      },
      "execution_count": null,
      "outputs": []
    },
    {
      "cell_type": "code",
      "source": [
        "def classification_lr(emb_table,learning_rate):\n",
        "  # model for Text\n",
        "  import torch\n",
        "  import torch.nn as nn\n",
        "  import torch.optim as optim\n",
        "  from torch.autograd import Variable\n",
        "  import torch.nn.functional as F\n",
        "\n",
        "  device = torch.device(\"cuda\" if torch.cuda.is_available() else \"cpu\")\n",
        "\n",
        "  class Bi_LSTM_Attention(nn.Module):\n",
        "      def __init__(self):\n",
        "          super(Bi_LSTM_Attention, self).__init__()\n",
        "          self.emb = nn.Embedding(emb_table.shape[0],emb_table.shape[1])\n",
        "          self.emb.weight.data.copy_(torch.from_numpy(emb_table))\n",
        "          self.emb.weight.requires_grad = False\n",
        "          self.lstm = nn.LSTM(emb_table.shape[1], n_hidden, bidirectional=True)\n",
        "          self.encoder_fc = nn.Linear(2*n_hidden, n_class)\n",
        "          #self.activation = nn.ReLU()\n",
        "      \n",
        "      # https://colab.research.google.com/github/ngduyanhece/nlp-tutorial/blob/master/4-3.Bi-LSTM%28Attention%29/Bi_LSTM%28Attention%29_Torch.ipynb\n",
        "      # output : [batch_size, n_step, n_hidden * num_directions(=2)], F matrix\n",
        "      def attention_net(self, output, final_state):\n",
        "          hidden = final_state.view(-1, n_hidden * 2, 1)   # hidden : [batch_size, n_hidden * num_directions(=2), 1(=n_layer)]\n",
        "          attn_weights = torch.bmm(output, hidden).squeeze(2) # attn_weights : [batch_size, n_step]\n",
        "          soft_attn_weights = F.softmax(attn_weights, 1).to(device)\n",
        "          # [batch_size, n_hidden * num_directions(=2), n_step] * [batch_size, n_step, 1] = [batch_size, n_hidden * num_directions(=2), 1]\n",
        "          context = torch.bmm(output.transpose(1, 2), soft_attn_weights.unsqueeze(2)).squeeze(2).to(device)\n",
        "          #return context, soft_attn_weights # context : [batch_size, n_hidden * num_directions(=2)]\n",
        "          return context, soft_attn_weights.data.numpy() # context : [batch_size, n_hidden * num_directions(=2)]\n",
        "\n",
        "      def forward(self, X):\n",
        "          x = self.emb(X) # input : [batch_size, len_seq, embedding_dim]\n",
        "          # 32, 28, 100\n",
        "          x = x.permute(1, 0, 2) # input : [len_seq, batch_size, embedding_dim]\n",
        "          hidden_state = Variable(torch.zeros(1*2, x.shape[1], n_hidden)).to(device) # [num_layers(=1) * num_directions(=2), batch_size, n_hidden]\n",
        "          cell_state = Variable(torch.zeros(1*2,  x.shape[1], n_hidden)).to(device) # [num_layers(=1) * num_directions(=2), batch_size, n_hidden]\n",
        "          \n",
        "          # final_hidden_state, final_cell_state : [num_layers(=1) * num_directions(=2), batch_size, n_hidden]\n",
        "          #output, final_hidden_state = self.lstm(x)\n",
        "          #output, (final_hidden_state, final_cell_state) = self.lstm(x)\n",
        "          output, (final_hidden_state, final_cell_state) = self.lstm(x, (hidden_state, cell_state))\n",
        "          #output = output.permute(1, 0, 2) # output : [batch_size, len_seq, n_hidden]\n",
        "          #attn_output, attention = self.attention_net(output, final_hidden_state)\n",
        "          #features = self.activation(self.encoder_fc(attn_output)) # model : [batch_size, num_classes]\n",
        "          #x = self.emb(x)        \n",
        "          #lstm_out, (h_n, c_n) = self.lstm(x)\n",
        "          hidden_out = torch.cat((final_hidden_state[0,:,:],final_hidden_state[1,:,:]),1)\n",
        "          #z = self.encoder_fc(hidden_out)\n",
        "          return self.encoder_fc(hidden_out)\n",
        "\n",
        "  from sklearn.metrics import accuracy_score\n",
        "  n_hidden = 32#256\n",
        "  n_emb = emb_dim\n",
        "  total_epoch = 25\n",
        "  model = Bi_LSTM_Attention().to(device)\n",
        "  criterion = nn.CrossEntropyLoss()\n",
        "  optimizer = optim.Adam(model.parameters(), lr=learning_rate)\n",
        "  input_torch = torch.from_numpy(np.array(train_pad_encoded)).to(device)\n",
        "  target_torch = torch.from_numpy(np.array(label_train_encoded)).view(-1).to(device)\n",
        "\n",
        "  for epoch in range(total_epoch):  \n",
        "      \n",
        "      model.train()\n",
        "        \n",
        "      optimizer.zero_grad()\n",
        "      \n",
        "      outputs = model(input_torch) \n",
        "      loss = criterion(outputs, target_torch) \n",
        "      loss.backward()\n",
        "      optimizer.step()\n",
        "        \n",
        "      predicted = torch.argmax(outputs, -1)\n",
        "      acc= accuracy_score(predicted.cpu().numpy(),target_torch.cpu().numpy())\n",
        "\n",
        "      print('Epoch: %d, loss: %.5f, train_acc: %.2f' %(epoch + 1, loss.item(), acc))\n",
        "\n",
        "  print('Finished Training')\n",
        "\n",
        "  model.eval()\n",
        "\n",
        "  input_torch = torch.from_numpy(np.array(test_pad_encoded)).to(device)\n",
        "\n",
        "  outputs = model(input_torch) \n",
        "  predicted = torch.argmax(outputs, -1)\n",
        "\n",
        "  from sklearn.metrics import classification_report\n",
        "  print(classification_report(label_test_encoded,predicted.cpu().numpy()))"
      ],
      "metadata": {
        "id": "GI5-RWc3M2TJ"
      },
      "execution_count": null,
      "outputs": []
    },
    {
      "cell_type": "markdown",
      "source": [
        "Load the Dataset"
      ],
      "metadata": {
        "id": "vmmAR19c8OaL"
      }
    },
    {
      "cell_type": "code",
      "source": [
        "from google.colab import drive\n",
        "drive.mount('/content/drive')"
      ],
      "metadata": {
        "colab": {
          "base_uri": "https://localhost:8080/"
        },
        "id": "bwUlnCO88Qx4",
        "outputId": "bb6cb156-555c-4c73-8b0b-8db2340b8919"
      },
      "execution_count": null,
      "outputs": [
        {
          "output_type": "stream",
          "name": "stdout",
          "text": [
            "Mounted at /content/drive\n"
          ]
        }
      ]
    },
    {
      "cell_type": "code",
      "source": [
        "import pandas as pd\n",
        "data = pd.read_csv(\"/content/drive/MyDrive/IMDB Dataset.csv\")\n",
        "data = data.sample(1000,random_state=24)\n",
        "\n",
        "print(\"Size of the dataset: {0}\".format(len(data)))"
      ],
      "metadata": {
        "colab": {
          "base_uri": "https://localhost:8080/"
        },
        "id": "IVMk3n5K8WV-",
        "outputId": "35a66107-d53c-4d25-f353-86830439a172"
      },
      "execution_count": null,
      "outputs": [
        {
          "output_type": "stream",
          "name": "stdout",
          "text": [
            "Size of the dataset: 1000\n"
          ]
        }
      ]
    },
    {
      "cell_type": "code",
      "source": [
        "text = data[\"review\"].tolist()\n",
        "label = data[\"sentiment\"].tolist()\n",
        "\n",
        "print(text[1:10])\n",
        "print(label[1:10])"
      ],
      "metadata": {
        "colab": {
          "base_uri": "https://localhost:8080/"
        },
        "id": "jWmshnHK8Ygb",
        "outputId": "d50705e6-d7d7-4a77-c187-b2c34d61c29b"
      },
      "execution_count": null,
      "outputs": [
        {
          "output_type": "stream",
          "name": "stdout",
          "text": [
            "[\"This film did entertain me with lots of laughs at the actors who kept the film moving along in all types of crazy directions. If you like suggestive language and sexy looking gals they were all in the picture and gals and guys all looking burned out before they even graduate from high school. There is one scene where the teenagers drive their car into a very fake deer and then proceed to throw it out into a lake or ocean, which is repeated over and over again. There is no horror to this film except the word Horrible for the entire picture and Arnold who plays a plastic cop is really one sick character. Please don't waste your time viewing this film.\", 'The animation in this re-imagining of Peter & the Wolf is excellent, but at 29 minutes, the film is sleep inducing. They should have called it \"Peter & the Snails\", because everything moves at a snail\\'s pace. I couldn\\'t even watch the film in one sitting - I had to watch it 15 minutes at a time, and it was pure torture.<br /><br />Save yourself 30 minutes - do not watch this film - and you will thank me.<br /><br />I can only guess that the Oscar nominating committee only watched the first few minutes of the nominees. Unfortunately, to vote for the winner in the Best Animated Short (short!) category, the voters will have to sit through the whole thing. I already feel sorry for them - and must predict that there\\'s no way this film will come close to winning.', \"This is a great show, and will make you cry, this group people really loved each other in real life and it shows time and time again. Email me and let's chat. I have been to Australia and they real do talk like this.<br /><br />I want you to enjoy Five Mile Creek and pass on these great stories of right and wrong, and friendship to your kids. I have all 40 Episodes on DVD-R that I have collected over the last 5 years. See my Five Mile Creek tribute at www.mikeandvicki.com and hear the extended theme music. Let's talk about them.<br /><br />These people are so cool!\", 'This is a great TV miniseries of a classic novel. Janet McTeer and John Bowe, in the lead roles, are exceptional. This is one of the best adaptations from a book that I have seen. I would LOVE to get a copy of this - let me know if you know how I might get one...Thanks!', \"My husband dragged me to this film as I had no interest in seeing some Anime cartoon. I was absolutely delighted by the simple story and amazing animation. In a digital world where effects are computer generated it was refreshing to see gorgeous, imaginative hand drawn animation. The world of Sosuke and Ponyo is a vivid fantasyland intermixed with minimal reality. I haven't seen animation like this since I was a child and it is wonderful to see it endure and succeed.<br /><br />The actors supplying the voices in the English version were fabulous. The length of the movie was PERFECT, especially for children who tend to get squirrelly in films. Overall a delightful experience worth the very expensive ticket prices we have nowadays.\", \"This film was reeeeeeallyyyy bad! Was it meant to be a comedy as I couldn't help laughing the whole way through it? what a waste of two hours! Donald Sutherland was wooden not that he was alone, everyone else was just as bad...and how miscast was linda hamilton???\", \"If you have enjoyed the Butterfly Effect, Donnie Darko or The Machinist, you will enjoy K-Pax too.<br /><br />To me, this movie felt really uplifting and yet depressing in the end. Spacey delivers a great performance as Prot. Also, lets not forget the appearance of Saul Williams in the movie, who i am a big fan of.<br /><br />After watching it, i recommended the movie to lots of my friends, and everyone was pretty much blown away.<br /><br />But still, it is very underrated, maybe because of the lack of action and explosions. I'm sorry, this is not a movie about blowing things up, it's about how humans behave, and how people live in worlds that don't exist.<br /><br />Go on, and enjoy.\", \"The first hour or so of the movie was mostly boring to say the least. However it improved afterwards as the Valentine Party commenced. Apart from the twist as to the identity of the killer in the very end, the hot bath murder scene was one of the few relatively memorable aspects of this movie. The scene at the garden with Kate was well shot and so was the very last scene (the 'twist'). In those scenes, there was some genuine suspense and thrills and the hot bath murder scene had a nasty (the way slashers should be) edge to it. The earlier murders are frustratingly devoid of gore.\", \"As an avid fan of Cary Grant, I expected to watch this movie and howl with laughter, as AMC billed it as a comedy. I have never been more disappointed with a film! Cary's usual charm and effortless comedy are AWOL from this entire movie; he comes across as strained, bored, and just not himself. Mississip's character ranks among one of the worst stereotypes I have ever witnessed - his accent is terribly exaggerated (and incorrect, according to which part of Mississippi he claims to hail from), and whenever he does deliver a line, it's several decibels higher than any other cast member. Mississip tried to make himself stand out in the film as a lovable, country-bumpkin goofball, but in the end, he manages only to detract from the already weak plot. Mansfield looks more like an obscene blow-up doll than a Hollywood sex kitten, and while she was never known in Hollywood for her acting ability, this film screams that she never had that ability to begin with. Ray Walston's character was sugary and ultimately contrived. For four men on shore leave, it was the tamest leave I've ever seen. I watched this nightmare until its very end, and while I won't spoil that for anyone, I will tell you that it's the most absurd you'll ever see. The film tries to spark patriotism and a sense of debt to the fighting men, but the film misses that point totally because of its weak plot line and weak cast. Sorry, Cary!\"]\n",
            "['negative', 'negative', 'positive', 'positive', 'positive', 'negative', 'positive', 'positive', 'negative']\n"
          ]
        }
      ]
    },
    {
      "cell_type": "code",
      "source": [
        "import re\n",
        "\n",
        "def remove_clean(x):\n",
        "    x = re.sub(r'<br /><br />','',x)\n",
        "    x = x.lower()\n",
        "    x = re.sub(r'[^\\w\\s]','',x)\n",
        "    return x\n",
        "\n",
        "text_clean = [remove_clean(s) for s in text]\n",
        "\n",
        "print(text_clean[1:10])"
      ],
      "metadata": {
        "colab": {
          "base_uri": "https://localhost:8080/"
        },
        "id": "jnn3NHOE8aSi",
        "outputId": "1048dfdf-fe18-4dbb-9e0d-b53820f5a1f2"
      },
      "execution_count": null,
      "outputs": [
        {
          "output_type": "stream",
          "name": "stdout",
          "text": [
            "['this film did entertain me with lots of laughs at the actors who kept the film moving along in all types of crazy directions if you like suggestive language and sexy looking gals they were all in the picture and gals and guys all looking burned out before they even graduate from high school there is one scene where the teenagers drive their car into a very fake deer and then proceed to throw it out into a lake or ocean which is repeated over and over again there is no horror to this film except the word horrible for the entire picture and arnold who plays a plastic cop is really one sick character please dont waste your time viewing this film', 'the animation in this reimagining of peter  the wolf is excellent but at 29 minutes the film is sleep inducing they should have called it peter  the snails because everything moves at a snails pace i couldnt even watch the film in one sitting  i had to watch it 15 minutes at a time and it was pure torturesave yourself 30 minutes  do not watch this film  and you will thank mei can only guess that the oscar nominating committee only watched the first few minutes of the nominees unfortunately to vote for the winner in the best animated short short category the voters will have to sit through the whole thing i already feel sorry for them  and must predict that theres no way this film will come close to winning', 'this is a great show and will make you cry this group people really loved each other in real life and it shows time and time again email me and lets chat i have been to australia and they real do talk like thisi want you to enjoy five mile creek and pass on these great stories of right and wrong and friendship to your kids i have all 40 episodes on dvdr that i have collected over the last 5 years see my five mile creek tribute at wwwmikeandvickicom and hear the extended theme music lets talk about themthese people are so cool', 'this is a great tv miniseries of a classic novel janet mcteer and john bowe in the lead roles are exceptional this is one of the best adaptations from a book that i have seen i would love to get a copy of this  let me know if you know how i might get onethanks', 'my husband dragged me to this film as i had no interest in seeing some anime cartoon i was absolutely delighted by the simple story and amazing animation in a digital world where effects are computer generated it was refreshing to see gorgeous imaginative hand drawn animation the world of sosuke and ponyo is a vivid fantasyland intermixed with minimal reality i havent seen animation like this since i was a child and it is wonderful to see it endure and succeedthe actors supplying the voices in the english version were fabulous the length of the movie was perfect especially for children who tend to get squirrelly in films overall a delightful experience worth the very expensive ticket prices we have nowadays', 'this film was reeeeeeallyyyy bad was it meant to be a comedy as i couldnt help laughing the whole way through it what a waste of two hours donald sutherland was wooden not that he was alone everyone else was just as badand how miscast was linda hamilton', 'if you have enjoyed the butterfly effect donnie darko or the machinist you will enjoy kpax tooto me this movie felt really uplifting and yet depressing in the end spacey delivers a great performance as prot also lets not forget the appearance of saul williams in the movie who i am a big fan ofafter watching it i recommended the movie to lots of my friends and everyone was pretty much blown awaybut still it is very underrated maybe because of the lack of action and explosions im sorry this is not a movie about blowing things up its about how humans behave and how people live in worlds that dont existgo on and enjoy', 'the first hour or so of the movie was mostly boring to say the least however it improved afterwards as the valentine party commenced apart from the twist as to the identity of the killer in the very end the hot bath murder scene was one of the few relatively memorable aspects of this movie the scene at the garden with kate was well shot and so was the very last scene the twist in those scenes there was some genuine suspense and thrills and the hot bath murder scene had a nasty the way slashers should be edge to it the earlier murders are frustratingly devoid of gore', 'as an avid fan of cary grant i expected to watch this movie and howl with laughter as amc billed it as a comedy i have never been more disappointed with a film carys usual charm and effortless comedy are awol from this entire movie he comes across as strained bored and just not himself mississips character ranks among one of the worst stereotypes i have ever witnessed  his accent is terribly exaggerated and incorrect according to which part of mississippi he claims to hail from and whenever he does deliver a line its several decibels higher than any other cast member mississip tried to make himself stand out in the film as a lovable countrybumpkin goofball but in the end he manages only to detract from the already weak plot mansfield looks more like an obscene blowup doll than a hollywood sex kitten and while she was never known in hollywood for her acting ability this film screams that she never had that ability to begin with ray walstons character was sugary and ultimately contrived for four men on shore leave it was the tamest leave ive ever seen i watched this nightmare until its very end and while i wont spoil that for anyone i will tell you that its the most absurd youll ever see the film tries to spark patriotism and a sense of debt to the fighting men but the film misses that point totally because of its weak plot line and weak cast sorry cary']\n"
          ]
        }
      ]
    },
    {
      "cell_type": "code",
      "source": [
        "import nltk\n",
        "nltk.download('punkt')\n",
        "\n",
        "from nltk.tokenize import word_tokenize\n",
        "\n",
        "text_clean = [word_tokenize(sentence) for sentence in text_clean]\n",
        "\n",
        "print(text_clean[1:10])"
      ],
      "metadata": {
        "colab": {
          "base_uri": "https://localhost:8080/"
        },
        "id": "-EV0RFY98cWj",
        "outputId": "defaa2ce-c131-4a90-8c9f-0522304aa79a"
      },
      "execution_count": null,
      "outputs": [
        {
          "output_type": "stream",
          "name": "stderr",
          "text": [
            "[nltk_data] Downloading package punkt to /root/nltk_data...\n",
            "[nltk_data]   Unzipping tokenizers/punkt.zip.\n"
          ]
        },
        {
          "output_type": "stream",
          "name": "stdout",
          "text": [
            "[['this', 'film', 'did', 'entertain', 'me', 'with', 'lots', 'of', 'laughs', 'at', 'the', 'actors', 'who', 'kept', 'the', 'film', 'moving', 'along', 'in', 'all', 'types', 'of', 'crazy', 'directions', 'if', 'you', 'like', 'suggestive', 'language', 'and', 'sexy', 'looking', 'gals', 'they', 'were', 'all', 'in', 'the', 'picture', 'and', 'gals', 'and', 'guys', 'all', 'looking', 'burned', 'out', 'before', 'they', 'even', 'graduate', 'from', 'high', 'school', 'there', 'is', 'one', 'scene', 'where', 'the', 'teenagers', 'drive', 'their', 'car', 'into', 'a', 'very', 'fake', 'deer', 'and', 'then', 'proceed', 'to', 'throw', 'it', 'out', 'into', 'a', 'lake', 'or', 'ocean', 'which', 'is', 'repeated', 'over', 'and', 'over', 'again', 'there', 'is', 'no', 'horror', 'to', 'this', 'film', 'except', 'the', 'word', 'horrible', 'for', 'the', 'entire', 'picture', 'and', 'arnold', 'who', 'plays', 'a', 'plastic', 'cop', 'is', 'really', 'one', 'sick', 'character', 'please', 'dont', 'waste', 'your', 'time', 'viewing', 'this', 'film'], ['the', 'animation', 'in', 'this', 'reimagining', 'of', 'peter', 'the', 'wolf', 'is', 'excellent', 'but', 'at', '29', 'minutes', 'the', 'film', 'is', 'sleep', 'inducing', 'they', 'should', 'have', 'called', 'it', 'peter', 'the', 'snails', 'because', 'everything', 'moves', 'at', 'a', 'snails', 'pace', 'i', 'couldnt', 'even', 'watch', 'the', 'film', 'in', 'one', 'sitting', 'i', 'had', 'to', 'watch', 'it', '15', 'minutes', 'at', 'a', 'time', 'and', 'it', 'was', 'pure', 'torturesave', 'yourself', '30', 'minutes', 'do', 'not', 'watch', 'this', 'film', 'and', 'you', 'will', 'thank', 'mei', 'can', 'only', 'guess', 'that', 'the', 'oscar', 'nominating', 'committee', 'only', 'watched', 'the', 'first', 'few', 'minutes', 'of', 'the', 'nominees', 'unfortunately', 'to', 'vote', 'for', 'the', 'winner', 'in', 'the', 'best', 'animated', 'short', 'short', 'category', 'the', 'voters', 'will', 'have', 'to', 'sit', 'through', 'the', 'whole', 'thing', 'i', 'already', 'feel', 'sorry', 'for', 'them', 'and', 'must', 'predict', 'that', 'theres', 'no', 'way', 'this', 'film', 'will', 'come', 'close', 'to', 'winning'], ['this', 'is', 'a', 'great', 'show', 'and', 'will', 'make', 'you', 'cry', 'this', 'group', 'people', 'really', 'loved', 'each', 'other', 'in', 'real', 'life', 'and', 'it', 'shows', 'time', 'and', 'time', 'again', 'email', 'me', 'and', 'lets', 'chat', 'i', 'have', 'been', 'to', 'australia', 'and', 'they', 'real', 'do', 'talk', 'like', 'thisi', 'want', 'you', 'to', 'enjoy', 'five', 'mile', 'creek', 'and', 'pass', 'on', 'these', 'great', 'stories', 'of', 'right', 'and', 'wrong', 'and', 'friendship', 'to', 'your', 'kids', 'i', 'have', 'all', '40', 'episodes', 'on', 'dvdr', 'that', 'i', 'have', 'collected', 'over', 'the', 'last', '5', 'years', 'see', 'my', 'five', 'mile', 'creek', 'tribute', 'at', 'wwwmikeandvickicom', 'and', 'hear', 'the', 'extended', 'theme', 'music', 'lets', 'talk', 'about', 'themthese', 'people', 'are', 'so', 'cool'], ['this', 'is', 'a', 'great', 'tv', 'miniseries', 'of', 'a', 'classic', 'novel', 'janet', 'mcteer', 'and', 'john', 'bowe', 'in', 'the', 'lead', 'roles', 'are', 'exceptional', 'this', 'is', 'one', 'of', 'the', 'best', 'adaptations', 'from', 'a', 'book', 'that', 'i', 'have', 'seen', 'i', 'would', 'love', 'to', 'get', 'a', 'copy', 'of', 'this', 'let', 'me', 'know', 'if', 'you', 'know', 'how', 'i', 'might', 'get', 'onethanks'], ['my', 'husband', 'dragged', 'me', 'to', 'this', 'film', 'as', 'i', 'had', 'no', 'interest', 'in', 'seeing', 'some', 'anime', 'cartoon', 'i', 'was', 'absolutely', 'delighted', 'by', 'the', 'simple', 'story', 'and', 'amazing', 'animation', 'in', 'a', 'digital', 'world', 'where', 'effects', 'are', 'computer', 'generated', 'it', 'was', 'refreshing', 'to', 'see', 'gorgeous', 'imaginative', 'hand', 'drawn', 'animation', 'the', 'world', 'of', 'sosuke', 'and', 'ponyo', 'is', 'a', 'vivid', 'fantasyland', 'intermixed', 'with', 'minimal', 'reality', 'i', 'havent', 'seen', 'animation', 'like', 'this', 'since', 'i', 'was', 'a', 'child', 'and', 'it', 'is', 'wonderful', 'to', 'see', 'it', 'endure', 'and', 'succeedthe', 'actors', 'supplying', 'the', 'voices', 'in', 'the', 'english', 'version', 'were', 'fabulous', 'the', 'length', 'of', 'the', 'movie', 'was', 'perfect', 'especially', 'for', 'children', 'who', 'tend', 'to', 'get', 'squirrelly', 'in', 'films', 'overall', 'a', 'delightful', 'experience', 'worth', 'the', 'very', 'expensive', 'ticket', 'prices', 'we', 'have', 'nowadays'], ['this', 'film', 'was', 'reeeeeeallyyyy', 'bad', 'was', 'it', 'meant', 'to', 'be', 'a', 'comedy', 'as', 'i', 'couldnt', 'help', 'laughing', 'the', 'whole', 'way', 'through', 'it', 'what', 'a', 'waste', 'of', 'two', 'hours', 'donald', 'sutherland', 'was', 'wooden', 'not', 'that', 'he', 'was', 'alone', 'everyone', 'else', 'was', 'just', 'as', 'badand', 'how', 'miscast', 'was', 'linda', 'hamilton'], ['if', 'you', 'have', 'enjoyed', 'the', 'butterfly', 'effect', 'donnie', 'darko', 'or', 'the', 'machinist', 'you', 'will', 'enjoy', 'kpax', 'tooto', 'me', 'this', 'movie', 'felt', 'really', 'uplifting', 'and', 'yet', 'depressing', 'in', 'the', 'end', 'spacey', 'delivers', 'a', 'great', 'performance', 'as', 'prot', 'also', 'lets', 'not', 'forget', 'the', 'appearance', 'of', 'saul', 'williams', 'in', 'the', 'movie', 'who', 'i', 'am', 'a', 'big', 'fan', 'ofafter', 'watching', 'it', 'i', 'recommended', 'the', 'movie', 'to', 'lots', 'of', 'my', 'friends', 'and', 'everyone', 'was', 'pretty', 'much', 'blown', 'awaybut', 'still', 'it', 'is', 'very', 'underrated', 'maybe', 'because', 'of', 'the', 'lack', 'of', 'action', 'and', 'explosions', 'im', 'sorry', 'this', 'is', 'not', 'a', 'movie', 'about', 'blowing', 'things', 'up', 'its', 'about', 'how', 'humans', 'behave', 'and', 'how', 'people', 'live', 'in', 'worlds', 'that', 'dont', 'existgo', 'on', 'and', 'enjoy'], ['the', 'first', 'hour', 'or', 'so', 'of', 'the', 'movie', 'was', 'mostly', 'boring', 'to', 'say', 'the', 'least', 'however', 'it', 'improved', 'afterwards', 'as', 'the', 'valentine', 'party', 'commenced', 'apart', 'from', 'the', 'twist', 'as', 'to', 'the', 'identity', 'of', 'the', 'killer', 'in', 'the', 'very', 'end', 'the', 'hot', 'bath', 'murder', 'scene', 'was', 'one', 'of', 'the', 'few', 'relatively', 'memorable', 'aspects', 'of', 'this', 'movie', 'the', 'scene', 'at', 'the', 'garden', 'with', 'kate', 'was', 'well', 'shot', 'and', 'so', 'was', 'the', 'very', 'last', 'scene', 'the', 'twist', 'in', 'those', 'scenes', 'there', 'was', 'some', 'genuine', 'suspense', 'and', 'thrills', 'and', 'the', 'hot', 'bath', 'murder', 'scene', 'had', 'a', 'nasty', 'the', 'way', 'slashers', 'should', 'be', 'edge', 'to', 'it', 'the', 'earlier', 'murders', 'are', 'frustratingly', 'devoid', 'of', 'gore'], ['as', 'an', 'avid', 'fan', 'of', 'cary', 'grant', 'i', 'expected', 'to', 'watch', 'this', 'movie', 'and', 'howl', 'with', 'laughter', 'as', 'amc', 'billed', 'it', 'as', 'a', 'comedy', 'i', 'have', 'never', 'been', 'more', 'disappointed', 'with', 'a', 'film', 'carys', 'usual', 'charm', 'and', 'effortless', 'comedy', 'are', 'awol', 'from', 'this', 'entire', 'movie', 'he', 'comes', 'across', 'as', 'strained', 'bored', 'and', 'just', 'not', 'himself', 'mississips', 'character', 'ranks', 'among', 'one', 'of', 'the', 'worst', 'stereotypes', 'i', 'have', 'ever', 'witnessed', 'his', 'accent', 'is', 'terribly', 'exaggerated', 'and', 'incorrect', 'according', 'to', 'which', 'part', 'of', 'mississippi', 'he', 'claims', 'to', 'hail', 'from', 'and', 'whenever', 'he', 'does', 'deliver', 'a', 'line', 'its', 'several', 'decibels', 'higher', 'than', 'any', 'other', 'cast', 'member', 'mississip', 'tried', 'to', 'make', 'himself', 'stand', 'out', 'in', 'the', 'film', 'as', 'a', 'lovable', 'countrybumpkin', 'goofball', 'but', 'in', 'the', 'end', 'he', 'manages', 'only', 'to', 'detract', 'from', 'the', 'already', 'weak', 'plot', 'mansfield', 'looks', 'more', 'like', 'an', 'obscene', 'blowup', 'doll', 'than', 'a', 'hollywood', 'sex', 'kitten', 'and', 'while', 'she', 'was', 'never', 'known', 'in', 'hollywood', 'for', 'her', 'acting', 'ability', 'this', 'film', 'screams', 'that', 'she', 'never', 'had', 'that', 'ability', 'to', 'begin', 'with', 'ray', 'walstons', 'character', 'was', 'sugary', 'and', 'ultimately', 'contrived', 'for', 'four', 'men', 'on', 'shore', 'leave', 'it', 'was', 'the', 'tamest', 'leave', 'ive', 'ever', 'seen', 'i', 'watched', 'this', 'nightmare', 'until', 'its', 'very', 'end', 'and', 'while', 'i', 'wont', 'spoil', 'that', 'for', 'anyone', 'i', 'will', 'tell', 'you', 'that', 'its', 'the', 'most', 'absurd', 'youll', 'ever', 'see', 'the', 'film', 'tries', 'to', 'spark', 'patriotism', 'and', 'a', 'sense', 'of', 'debt', 'to', 'the', 'fighting', 'men', 'but', 'the', 'film', 'misses', 'that', 'point', 'totally', 'because', 'of', 'its', 'weak', 'plot', 'line', 'and', 'weak', 'cast', 'sorry', 'cary']]\n"
          ]
        }
      ]
    },
    {
      "cell_type": "code",
      "source": [
        "nltk.download('stopwords')\n",
        "from nltk.corpus import stopwords as sw\n",
        "stop_words = sw.words('english')\n",
        "\n",
        "text_cleaned =[]\n",
        "for tokens in text_clean:\n",
        "    filtered_sentence = [w for w in tokens if not w in stop_words]\n",
        "    text_cleaned.append(filtered_sentence)\n",
        "\n",
        "print(text_cleaned[1:10])"
      ],
      "metadata": {
        "colab": {
          "base_uri": "https://localhost:8080/"
        },
        "id": "oys-tJjD8et6",
        "outputId": "26ab3ac8-87be-4b7a-9087-e8b9b854d1e5"
      },
      "execution_count": null,
      "outputs": [
        {
          "output_type": "stream",
          "name": "stderr",
          "text": [
            "[nltk_data] Downloading package stopwords to /root/nltk_data...\n",
            "[nltk_data]   Unzipping corpora/stopwords.zip.\n"
          ]
        },
        {
          "output_type": "stream",
          "name": "stdout",
          "text": [
            "[['film', 'entertain', 'lots', 'laughs', 'actors', 'kept', 'film', 'moving', 'along', 'types', 'crazy', 'directions', 'like', 'suggestive', 'language', 'sexy', 'looking', 'gals', 'picture', 'gals', 'guys', 'looking', 'burned', 'even', 'graduate', 'high', 'school', 'one', 'scene', 'teenagers', 'drive', 'car', 'fake', 'deer', 'proceed', 'throw', 'lake', 'ocean', 'repeated', 'horror', 'film', 'except', 'word', 'horrible', 'entire', 'picture', 'arnold', 'plays', 'plastic', 'cop', 'really', 'one', 'sick', 'character', 'please', 'dont', 'waste', 'time', 'viewing', 'film'], ['animation', 'reimagining', 'peter', 'wolf', 'excellent', '29', 'minutes', 'film', 'sleep', 'inducing', 'called', 'peter', 'snails', 'everything', 'moves', 'snails', 'pace', 'couldnt', 'even', 'watch', 'film', 'one', 'sitting', 'watch', '15', 'minutes', 'time', 'pure', 'torturesave', '30', 'minutes', 'watch', 'film', 'thank', 'mei', 'guess', 'oscar', 'nominating', 'committee', 'watched', 'first', 'minutes', 'nominees', 'unfortunately', 'vote', 'winner', 'best', 'animated', 'short', 'short', 'category', 'voters', 'sit', 'whole', 'thing', 'already', 'feel', 'sorry', 'must', 'predict', 'theres', 'way', 'film', 'come', 'close', 'winning'], ['great', 'show', 'make', 'cry', 'group', 'people', 'really', 'loved', 'real', 'life', 'shows', 'time', 'time', 'email', 'lets', 'chat', 'australia', 'real', 'talk', 'like', 'thisi', 'want', 'enjoy', 'five', 'mile', 'creek', 'pass', 'great', 'stories', 'right', 'wrong', 'friendship', 'kids', '40', 'episodes', 'dvdr', 'collected', 'last', '5', 'years', 'see', 'five', 'mile', 'creek', 'tribute', 'wwwmikeandvickicom', 'hear', 'extended', 'theme', 'music', 'lets', 'talk', 'themthese', 'people', 'cool'], ['great', 'tv', 'miniseries', 'classic', 'novel', 'janet', 'mcteer', 'john', 'bowe', 'lead', 'roles', 'exceptional', 'one', 'best', 'adaptations', 'book', 'seen', 'would', 'love', 'get', 'copy', 'let', 'know', 'know', 'might', 'get', 'onethanks'], ['husband', 'dragged', 'film', 'interest', 'seeing', 'anime', 'cartoon', 'absolutely', 'delighted', 'simple', 'story', 'amazing', 'animation', 'digital', 'world', 'effects', 'computer', 'generated', 'refreshing', 'see', 'gorgeous', 'imaginative', 'hand', 'drawn', 'animation', 'world', 'sosuke', 'ponyo', 'vivid', 'fantasyland', 'intermixed', 'minimal', 'reality', 'havent', 'seen', 'animation', 'like', 'since', 'child', 'wonderful', 'see', 'endure', 'succeedthe', 'actors', 'supplying', 'voices', 'english', 'version', 'fabulous', 'length', 'movie', 'perfect', 'especially', 'children', 'tend', 'get', 'squirrelly', 'films', 'overall', 'delightful', 'experience', 'worth', 'expensive', 'ticket', 'prices', 'nowadays'], ['film', 'reeeeeeallyyyy', 'bad', 'meant', 'comedy', 'couldnt', 'help', 'laughing', 'whole', 'way', 'waste', 'two', 'hours', 'donald', 'sutherland', 'wooden', 'alone', 'everyone', 'else', 'badand', 'miscast', 'linda', 'hamilton'], ['enjoyed', 'butterfly', 'effect', 'donnie', 'darko', 'machinist', 'enjoy', 'kpax', 'tooto', 'movie', 'felt', 'really', 'uplifting', 'yet', 'depressing', 'end', 'spacey', 'delivers', 'great', 'performance', 'prot', 'also', 'lets', 'forget', 'appearance', 'saul', 'williams', 'movie', 'big', 'fan', 'ofafter', 'watching', 'recommended', 'movie', 'lots', 'friends', 'everyone', 'pretty', 'much', 'blown', 'awaybut', 'still', 'underrated', 'maybe', 'lack', 'action', 'explosions', 'im', 'sorry', 'movie', 'blowing', 'things', 'humans', 'behave', 'people', 'live', 'worlds', 'dont', 'existgo', 'enjoy'], ['first', 'hour', 'movie', 'mostly', 'boring', 'say', 'least', 'however', 'improved', 'afterwards', 'valentine', 'party', 'commenced', 'apart', 'twist', 'identity', 'killer', 'end', 'hot', 'bath', 'murder', 'scene', 'one', 'relatively', 'memorable', 'aspects', 'movie', 'scene', 'garden', 'kate', 'well', 'shot', 'last', 'scene', 'twist', 'scenes', 'genuine', 'suspense', 'thrills', 'hot', 'bath', 'murder', 'scene', 'nasty', 'way', 'slashers', 'edge', 'earlier', 'murders', 'frustratingly', 'devoid', 'gore'], ['avid', 'fan', 'cary', 'grant', 'expected', 'watch', 'movie', 'howl', 'laughter', 'amc', 'billed', 'comedy', 'never', 'disappointed', 'film', 'carys', 'usual', 'charm', 'effortless', 'comedy', 'awol', 'entire', 'movie', 'comes', 'across', 'strained', 'bored', 'mississips', 'character', 'ranks', 'among', 'one', 'worst', 'stereotypes', 'ever', 'witnessed', 'accent', 'terribly', 'exaggerated', 'incorrect', 'according', 'part', 'mississippi', 'claims', 'hail', 'whenever', 'deliver', 'line', 'several', 'decibels', 'higher', 'cast', 'member', 'mississip', 'tried', 'make', 'stand', 'film', 'lovable', 'countrybumpkin', 'goofball', 'end', 'manages', 'detract', 'already', 'weak', 'plot', 'mansfield', 'looks', 'like', 'obscene', 'blowup', 'doll', 'hollywood', 'sex', 'kitten', 'never', 'known', 'hollywood', 'acting', 'ability', 'film', 'screams', 'never', 'ability', 'begin', 'ray', 'walstons', 'character', 'sugary', 'ultimately', 'contrived', 'four', 'men', 'shore', 'leave', 'tamest', 'leave', 'ive', 'ever', 'seen', 'watched', 'nightmare', 'end', 'wont', 'spoil', 'anyone', 'tell', 'absurd', 'youll', 'ever', 'see', 'film', 'tries', 'spark', 'patriotism', 'sense', 'debt', 'fighting', 'men', 'film', 'misses', 'point', 'totally', 'weak', 'plot', 'line', 'weak', 'cast', 'sorry', 'cary']]\n"
          ]
        }
      ]
    },
    {
      "cell_type": "code",
      "source": [
        "import nltk\n",
        "nltk.download('wordnet')\n",
        "\n",
        "nltk.download('omw-1.4')\n",
        "\n",
        "from nltk.stem import WordNetLemmatizer\n",
        "\n",
        "lemmatizer = WordNetLemmatizer()\n",
        "\n",
        "text_final = []\n",
        "for tokens in text_cleaned:\n",
        "    lemma_sentence = [lemmatizer.lemmatize(w) for w in tokens]\n",
        "    text_final.append(lemma_sentence)\n",
        "\n",
        "print(text_final[1:10])"
      ],
      "metadata": {
        "colab": {
          "base_uri": "https://localhost:8080/"
        },
        "id": "NrhkIWa38gzl",
        "outputId": "cb382d60-82dd-4ea2-bad0-2c2682003b06"
      },
      "execution_count": null,
      "outputs": [
        {
          "output_type": "stream",
          "name": "stderr",
          "text": [
            "[nltk_data] Downloading package wordnet to /root/nltk_data...\n",
            "[nltk_data]   Unzipping corpora/wordnet.zip.\n",
            "[nltk_data] Downloading package omw-1.4 to /root/nltk_data...\n",
            "[nltk_data]   Unzipping corpora/omw-1.4.zip.\n"
          ]
        },
        {
          "output_type": "stream",
          "name": "stdout",
          "text": [
            "[['film', 'entertain', 'lot', 'laugh', 'actor', 'kept', 'film', 'moving', 'along', 'type', 'crazy', 'direction', 'like', 'suggestive', 'language', 'sexy', 'looking', 'gal', 'picture', 'gal', 'guy', 'looking', 'burned', 'even', 'graduate', 'high', 'school', 'one', 'scene', 'teenager', 'drive', 'car', 'fake', 'deer', 'proceed', 'throw', 'lake', 'ocean', 'repeated', 'horror', 'film', 'except', 'word', 'horrible', 'entire', 'picture', 'arnold', 'play', 'plastic', 'cop', 'really', 'one', 'sick', 'character', 'please', 'dont', 'waste', 'time', 'viewing', 'film'], ['animation', 'reimagining', 'peter', 'wolf', 'excellent', '29', 'minute', 'film', 'sleep', 'inducing', 'called', 'peter', 'snail', 'everything', 'move', 'snail', 'pace', 'couldnt', 'even', 'watch', 'film', 'one', 'sitting', 'watch', '15', 'minute', 'time', 'pure', 'torturesave', '30', 'minute', 'watch', 'film', 'thank', 'mei', 'guess', 'oscar', 'nominating', 'committee', 'watched', 'first', 'minute', 'nominee', 'unfortunately', 'vote', 'winner', 'best', 'animated', 'short', 'short', 'category', 'voter', 'sit', 'whole', 'thing', 'already', 'feel', 'sorry', 'must', 'predict', 'there', 'way', 'film', 'come', 'close', 'winning'], ['great', 'show', 'make', 'cry', 'group', 'people', 'really', 'loved', 'real', 'life', 'show', 'time', 'time', 'email', 'let', 'chat', 'australia', 'real', 'talk', 'like', 'thisi', 'want', 'enjoy', 'five', 'mile', 'creek', 'pas', 'great', 'story', 'right', 'wrong', 'friendship', 'kid', '40', 'episode', 'dvdr', 'collected', 'last', '5', 'year', 'see', 'five', 'mile', 'creek', 'tribute', 'wwwmikeandvickicom', 'hear', 'extended', 'theme', 'music', 'let', 'talk', 'themthese', 'people', 'cool'], ['great', 'tv', 'miniseries', 'classic', 'novel', 'janet', 'mcteer', 'john', 'bowe', 'lead', 'role', 'exceptional', 'one', 'best', 'adaptation', 'book', 'seen', 'would', 'love', 'get', 'copy', 'let', 'know', 'know', 'might', 'get', 'onethanks'], ['husband', 'dragged', 'film', 'interest', 'seeing', 'anime', 'cartoon', 'absolutely', 'delighted', 'simple', 'story', 'amazing', 'animation', 'digital', 'world', 'effect', 'computer', 'generated', 'refreshing', 'see', 'gorgeous', 'imaginative', 'hand', 'drawn', 'animation', 'world', 'sosuke', 'ponyo', 'vivid', 'fantasyland', 'intermixed', 'minimal', 'reality', 'havent', 'seen', 'animation', 'like', 'since', 'child', 'wonderful', 'see', 'endure', 'succeedthe', 'actor', 'supplying', 'voice', 'english', 'version', 'fabulous', 'length', 'movie', 'perfect', 'especially', 'child', 'tend', 'get', 'squirrelly', 'film', 'overall', 'delightful', 'experience', 'worth', 'expensive', 'ticket', 'price', 'nowadays'], ['film', 'reeeeeeallyyyy', 'bad', 'meant', 'comedy', 'couldnt', 'help', 'laughing', 'whole', 'way', 'waste', 'two', 'hour', 'donald', 'sutherland', 'wooden', 'alone', 'everyone', 'else', 'badand', 'miscast', 'linda', 'hamilton'], ['enjoyed', 'butterfly', 'effect', 'donnie', 'darko', 'machinist', 'enjoy', 'kpax', 'tooto', 'movie', 'felt', 'really', 'uplifting', 'yet', 'depressing', 'end', 'spacey', 'delivers', 'great', 'performance', 'prot', 'also', 'let', 'forget', 'appearance', 'saul', 'williams', 'movie', 'big', 'fan', 'ofafter', 'watching', 'recommended', 'movie', 'lot', 'friend', 'everyone', 'pretty', 'much', 'blown', 'awaybut', 'still', 'underrated', 'maybe', 'lack', 'action', 'explosion', 'im', 'sorry', 'movie', 'blowing', 'thing', 'human', 'behave', 'people', 'live', 'world', 'dont', 'existgo', 'enjoy'], ['first', 'hour', 'movie', 'mostly', 'boring', 'say', 'least', 'however', 'improved', 'afterwards', 'valentine', 'party', 'commenced', 'apart', 'twist', 'identity', 'killer', 'end', 'hot', 'bath', 'murder', 'scene', 'one', 'relatively', 'memorable', 'aspect', 'movie', 'scene', 'garden', 'kate', 'well', 'shot', 'last', 'scene', 'twist', 'scene', 'genuine', 'suspense', 'thrill', 'hot', 'bath', 'murder', 'scene', 'nasty', 'way', 'slasher', 'edge', 'earlier', 'murder', 'frustratingly', 'devoid', 'gore'], ['avid', 'fan', 'cary', 'grant', 'expected', 'watch', 'movie', 'howl', 'laughter', 'amc', 'billed', 'comedy', 'never', 'disappointed', 'film', 'carys', 'usual', 'charm', 'effortless', 'comedy', 'awol', 'entire', 'movie', 'come', 'across', 'strained', 'bored', 'mississips', 'character', 'rank', 'among', 'one', 'worst', 'stereotype', 'ever', 'witnessed', 'accent', 'terribly', 'exaggerated', 'incorrect', 'according', 'part', 'mississippi', 'claim', 'hail', 'whenever', 'deliver', 'line', 'several', 'decibel', 'higher', 'cast', 'member', 'mississip', 'tried', 'make', 'stand', 'film', 'lovable', 'countrybumpkin', 'goofball', 'end', 'manages', 'detract', 'already', 'weak', 'plot', 'mansfield', 'look', 'like', 'obscene', 'blowup', 'doll', 'hollywood', 'sex', 'kitten', 'never', 'known', 'hollywood', 'acting', 'ability', 'film', 'scream', 'never', 'ability', 'begin', 'ray', 'walstons', 'character', 'sugary', 'ultimately', 'contrived', 'four', 'men', 'shore', 'leave', 'tamest', 'leave', 'ive', 'ever', 'seen', 'watched', 'nightmare', 'end', 'wont', 'spoil', 'anyone', 'tell', 'absurd', 'youll', 'ever', 'see', 'film', 'try', 'spark', 'patriotism', 'sense', 'debt', 'fighting', 'men', 'film', 'miss', 'point', 'totally', 'weak', 'plot', 'line', 'weak', 'cast', 'sorry', 'cary']]\n"
          ]
        }
      ]
    },
    {
      "cell_type": "code",
      "source": [
        "import numpy as np\n",
        "\n",
        "word_set = set() \n",
        "for sent in text_final:\n",
        "  for word in sent:\n",
        "    word_set.add(word)\n",
        "\n",
        "word_set.add('[PAD]')\n",
        "word_set.add('[UNKNOWN]')\n",
        "\n",
        "word_list = list(word_set) \n",
        "\n",
        "word_list.sort()\n",
        "\n",
        "word_index = {}\n",
        "ind = 0\n",
        "for word in word_list:\n",
        "  word_index[word] = ind\n",
        "  ind += 1\n",
        "\n",
        "emb_dim = 100"
      ],
      "metadata": {
        "id": "erxQ2TAn99Hk"
      },
      "execution_count": null,
      "outputs": []
    },
    {
      "cell_type": "markdown",
      "source": [
        "### Text Encode"
      ],
      "metadata": {
        "id": "qR3I1AFt-bq3"
      }
    },
    {
      "cell_type": "code",
      "source": [
        "def encode_and_add_padding(sentences, seq_length, word_index):\n",
        "  sent_encoded = []\n",
        "  for sent in sentences:\n",
        "    temp_encoded = [word_index[word] if word in word_index else word_index['[UNKNOWN]'] for word in sent]\n",
        "    if len(temp_encoded) < seq_length:\n",
        "      temp_encoded += [word_index['[PAD]']] * (seq_length - len(temp_encoded))\n",
        "    if len(temp_encoded) > seq_length:\n",
        "      temp_encoded = temp_encoded[:seq_length]\n",
        "    sent_encoded.append(temp_encoded)\n",
        "  return sent_encoded\n",
        "\n",
        "seq_length = 100\n",
        "text_pad_encoded = encode_and_add_padding(text_final, seq_length, word_index)\n",
        "\n",
        "from sklearn.preprocessing import LabelEncoder\n",
        "import numpy as np\n",
        "\n",
        "unique_labels = np.unique(label)\n",
        "\n",
        "lEnc = LabelEncoder()\n",
        "label_encoded = lEnc.fit_transform(label)\n",
        "\n",
        "n_class = len(unique_labels)"
      ],
      "metadata": {
        "id": "G3rhNjhr8i_8"
      },
      "execution_count": null,
      "outputs": []
    },
    {
      "cell_type": "code",
      "source": [
        "from sklearn.model_selection import train_test_split\n",
        "train_pad_encoded,test_pad_encoded,label_train_encoded,label_test_encoded = train_test_split(text_pad_encoded,label_encoded,test_size=0.25,random_state=42)"
      ],
      "metadata": {
        "id": "9sHb2_4O-PJJ"
      },
      "execution_count": null,
      "outputs": []
    },
    {
      "cell_type": "markdown",
      "source": [
        "### CBOW"
      ],
      "metadata": {
        "id": "pg2Y0fil_vKD"
      }
    },
    {
      "cell_type": "code",
      "source": [
        "word2vec_cbow_emb = original_embedding(wv_cbow_model.wv)"
      ],
      "metadata": {
        "id": "UCQuGF5W_1E0"
      },
      "execution_count": null,
      "outputs": []
    },
    {
      "cell_type": "code",
      "source": [
        "original_word2vec_cbow_acc = classification_lr(word2vec_cbow_emb,0.05)"
      ],
      "metadata": {
        "colab": {
          "base_uri": "https://localhost:8080/"
        },
        "id": "gFkSBXcB_45K",
        "outputId": "6cab4a36-7c91-47c2-d92a-3d13f2211bf4"
      },
      "execution_count": null,
      "outputs": [
        {
          "output_type": "stream",
          "name": "stdout",
          "text": [
            "Epoch: 1, loss: 0.69581, train_acc: 0.51\n",
            "Epoch: 2, loss: 1.26033, train_acc: 0.49\n",
            "Epoch: 3, loss: 0.71003, train_acc: 0.51\n",
            "Epoch: 4, loss: 0.70892, train_acc: 0.51\n",
            "Epoch: 5, loss: 0.69570, train_acc: 0.51\n",
            "Epoch: 6, loss: 0.69749, train_acc: 0.49\n",
            "Epoch: 7, loss: 0.69933, train_acc: 0.49\n",
            "Epoch: 8, loss: 0.69715, train_acc: 0.49\n",
            "Epoch: 9, loss: 0.69377, train_acc: 0.50\n",
            "Epoch: 10, loss: 0.69233, train_acc: 0.50\n",
            "Epoch: 11, loss: 0.69352, train_acc: 0.51\n",
            "Epoch: 12, loss: 0.69505, train_acc: 0.51\n",
            "Epoch: 13, loss: 0.69481, train_acc: 0.51\n",
            "Epoch: 14, loss: 0.69342, train_acc: 0.51\n",
            "Epoch: 15, loss: 0.69248, train_acc: 0.50\n",
            "Epoch: 16, loss: 0.69260, train_acc: 0.51\n",
            "Epoch: 17, loss: 0.69318, train_acc: 0.52\n",
            "Epoch: 18, loss: 0.69332, train_acc: 0.51\n",
            "Epoch: 19, loss: 0.69270, train_acc: 0.51\n",
            "Epoch: 20, loss: 0.69176, train_acc: 0.51\n",
            "Epoch: 21, loss: 0.69115, train_acc: 0.50\n",
            "Epoch: 22, loss: 0.69114, train_acc: 0.52\n",
            "Epoch: 23, loss: 0.69142, train_acc: 0.51\n",
            "Epoch: 24, loss: 0.69150, train_acc: 0.51\n",
            "Epoch: 25, loss: 0.69120, train_acc: 0.51\n",
            "Finished Training\n",
            "              precision    recall  f1-score   support\n",
            "\n",
            "           0       0.55      0.24      0.34       132\n",
            "           1       0.48      0.78      0.59       118\n",
            "\n",
            "    accuracy                           0.50       250\n",
            "   macro avg       0.52      0.51      0.47       250\n",
            "weighted avg       0.52      0.50      0.46       250\n",
            "\n"
          ]
        }
      ]
    },
    {
      "cell_type": "code",
      "source": [
        "wv_cbow_model = Word2Vec(sentences = text_final, size=100, window=5, min_count=5, workers=2, sg=0)"
      ],
      "metadata": {
        "id": "VHXyR2rO8H5E"
      },
      "execution_count": null,
      "outputs": []
    },
    {
      "cell_type": "code",
      "source": [
        "wv_sg_model = Word2Vec(sentences = text_final, size=100, window=5, min_count=5, workers=2, sg=1)"
      ],
      "metadata": {
        "id": "wkcK8jkE75y0"
      },
      "execution_count": null,
      "outputs": []
    },
    {
      "cell_type": "code",
      "source": [
        "def original_embedding(word_model):\n",
        "\n",
        "  emb_table = []\n",
        "  for i, word in enumerate(word_list):\n",
        "    if word in word_model:\n",
        "      emb_table.append(word_model[word])\n",
        "    else:\n",
        "      emb_table.append([0]*emb_dim)\n",
        "  emb_table = np.array(emb_table)\n",
        "\n",
        "  return emb_table"
      ],
      "metadata": {
        "id": "t17a-pM6-Yng"
      },
      "execution_count": null,
      "outputs": []
    },
    {
      "cell_type": "code",
      "source": [
        "word2vec_cbow_emb = original_embedding(wv_cbow_model.wv)"
      ],
      "metadata": {
        "id": "WlBllfai-AVR"
      },
      "execution_count": null,
      "outputs": []
    },
    {
      "cell_type": "code",
      "source": [
        "word2vec_cbow_emb = update_embedding0(word2vec_cbow_emb)"
      ],
      "metadata": {
        "colab": {
          "base_uri": "https://localhost:8080/"
        },
        "id": "imo15Pti4ydv",
        "outputId": "93732d7e-492d-4c69-acf1-f947d08f8188"
      },
      "execution_count": null,
      "outputs": [
        {
          "output_type": "stream",
          "name": "stdout",
          "text": [
            "weight adjusted tensor(1.9868, dtype=torch.float64, grad_fn=<DivBackward0>)\n",
            "Epoch: 1, loss: 0.69307, train_acc: 0.52\n",
            "weight adjusted tensor(1.9856, dtype=torch.float64, grad_fn=<DivBackward0>)\n",
            "Epoch: 2, loss: 0.69385, train_acc: 0.50\n",
            "weight adjusted tensor(1.9849, dtype=torch.float64, grad_fn=<DivBackward0>)\n",
            "Epoch: 3, loss: 0.69284, train_acc: 0.50\n",
            "weight adjusted tensor(1.9860, dtype=torch.float64, grad_fn=<DivBackward0>)\n",
            "Epoch: 4, loss: 0.69248, train_acc: 0.50\n",
            "weight adjusted tensor(1.9879, dtype=torch.float64, grad_fn=<DivBackward0>)\n",
            "Epoch: 5, loss: 0.69106, train_acc: 0.53\n",
            "weight adjusted tensor(1.9899, dtype=torch.float64, grad_fn=<DivBackward0>)\n",
            "Epoch: 6, loss: 0.69074, train_acc: 0.54\n",
            "weight adjusted tensor(1.9917, dtype=torch.float64, grad_fn=<DivBackward0>)\n",
            "Epoch: 7, loss: 0.69023, train_acc: 0.54\n",
            "weight adjusted tensor(1.9935, dtype=torch.float64, grad_fn=<DivBackward0>)\n",
            "Epoch: 8, loss: 0.68887, train_acc: 0.55\n",
            "weight adjusted tensor(1.9950, dtype=torch.float64, grad_fn=<DivBackward0>)\n",
            "Epoch: 9, loss: 0.68731, train_acc: 0.56\n",
            "weight adjusted tensor(1.9949, dtype=torch.float64, grad_fn=<DivBackward0>)\n",
            "Epoch: 10, loss: 0.68591, train_acc: 0.57\n",
            "weight adjusted tensor(1.9544, dtype=torch.float64, grad_fn=<DivBackward0>)\n",
            "Epoch: 11, loss: 0.68401, train_acc: 0.57\n",
            "weight adjusted tensor(1.9569, dtype=torch.float64, grad_fn=<DivBackward0>)\n",
            "Epoch: 12, loss: 0.68100, train_acc: 0.62\n",
            "weight adjusted tensor(1.9596, dtype=torch.float64, grad_fn=<DivBackward0>)\n",
            "Epoch: 13, loss: 0.67720, train_acc: 0.62\n",
            "weight adjusted tensor(1.9620, dtype=torch.float64, grad_fn=<DivBackward0>)\n",
            "Epoch: 14, loss: 0.67269, train_acc: 0.63\n",
            "weight adjusted tensor(1.9610, dtype=torch.float64, grad_fn=<DivBackward0>)\n",
            "Epoch: 15, loss: 0.66603, train_acc: 0.66\n",
            "weight adjusted tensor(1.9624, dtype=torch.float64, grad_fn=<DivBackward0>)\n",
            "Epoch: 16, loss: 0.65695, train_acc: 0.68\n",
            "weight adjusted tensor(1.9620, dtype=torch.float64, grad_fn=<DivBackward0>)\n",
            "Epoch: 17, loss: 0.64430, train_acc: 0.70\n",
            "weight adjusted tensor(1.9634, dtype=torch.float64, grad_fn=<DivBackward0>)\n",
            "Epoch: 18, loss: 0.62794, train_acc: 0.72\n",
            "weight adjusted tensor(1.9513, dtype=torch.float64, grad_fn=<DivBackward0>)\n",
            "Epoch: 19, loss: 0.60275, train_acc: 0.75\n",
            "weight adjusted tensor(1.9501, dtype=torch.float64, grad_fn=<DivBackward0>)\n",
            "Epoch: 20, loss: 0.61461, train_acc: 0.68\n",
            "weight adjusted tensor(1.9134, dtype=torch.float64, grad_fn=<DivBackward0>)\n",
            "Epoch: 21, loss: 0.61324, train_acc: 0.55\n",
            "weight adjusted tensor(1.8621, dtype=torch.float64, grad_fn=<DivBackward0>)\n",
            "Epoch: 22, loss: 0.57914, train_acc: 0.66\n",
            "weight adjusted tensor(1.8607, dtype=torch.float64, grad_fn=<DivBackward0>)\n",
            "Epoch: 23, loss: 0.56172, train_acc: 0.80\n",
            "weight adjusted tensor(1.8590, dtype=torch.float64, grad_fn=<DivBackward0>)\n",
            "Epoch: 24, loss: 0.55573, train_acc: 0.85\n",
            "weight adjusted tensor(1.8598, dtype=torch.float64, grad_fn=<DivBackward0>)\n",
            "Epoch: 25, loss: 0.53703, train_acc: 0.87\n",
            "Finished Training\n"
          ]
        }
      ]
    },
    {
      "cell_type": "code",
      "source": [
        "original_word2vec_cbow_acc = classification(np.array(list(word2vec_cbow_emb.values())))"
      ],
      "metadata": {
        "colab": {
          "base_uri": "https://localhost:8080/"
        },
        "id": "xlj8rx1y-rWJ",
        "outputId": "0bd8af5c-e5f0-46fb-fe3e-a697c677a974"
      },
      "execution_count": null,
      "outputs": [
        {
          "output_type": "stream",
          "name": "stdout",
          "text": [
            "Epoch: 1, loss: 0.69318, train_acc: 0.51\n",
            "Epoch: 2, loss: 0.68986, train_acc: 0.51\n",
            "Epoch: 3, loss: 0.68492, train_acc: 0.51\n",
            "Epoch: 4, loss: 0.68015, train_acc: 0.67\n",
            "Epoch: 5, loss: 0.67538, train_acc: 0.67\n",
            "Epoch: 6, loss: 0.66891, train_acc: 0.70\n",
            "Epoch: 7, loss: 0.66064, train_acc: 0.67\n",
            "Epoch: 8, loss: 0.65133, train_acc: 0.67\n",
            "Epoch: 9, loss: 0.63696, train_acc: 0.71\n",
            "Epoch: 10, loss: 0.61976, train_acc: 0.74\n",
            "Epoch: 11, loss: 0.59155, train_acc: 0.77\n",
            "Epoch: 12, loss: 0.56170, train_acc: 0.82\n",
            "Epoch: 13, loss: 0.74749, train_acc: 0.51\n",
            "Epoch: 14, loss: 0.57733, train_acc: 0.70\n",
            "Epoch: 15, loss: 0.59213, train_acc: 0.72\n",
            "Epoch: 16, loss: 0.63318, train_acc: 0.61\n",
            "Epoch: 17, loss: 0.62343, train_acc: 0.64\n",
            "Epoch: 18, loss: 0.60859, train_acc: 0.71\n",
            "Epoch: 19, loss: 0.59995, train_acc: 0.79\n",
            "Epoch: 20, loss: 0.59629, train_acc: 0.84\n",
            "Epoch: 21, loss: 0.59531, train_acc: 0.80\n",
            "Epoch: 22, loss: 0.59518, train_acc: 0.75\n",
            "Epoch: 23, loss: 0.59462, train_acc: 0.73\n",
            "Epoch: 24, loss: 0.59274, train_acc: 0.72\n",
            "Epoch: 25, loss: 0.58892, train_acc: 0.73\n",
            "Finished Training\n",
            "              precision    recall  f1-score   support\n",
            "\n",
            "           0       1.00      0.56      0.72       132\n",
            "           1       0.67      1.00      0.80       118\n",
            "\n",
            "    accuracy                           0.77       250\n",
            "   macro avg       0.84      0.78      0.76       250\n",
            "weighted avg       0.84      0.77      0.76       250\n",
            "\n"
          ]
        }
      ]
    },
    {
      "cell_type": "code",
      "source": [
        "new_word2vec_cbow_emb = update_embedding(word2vec_cbow_emb)"
      ],
      "metadata": {
        "colab": {
          "base_uri": "https://localhost:8080/"
        },
        "id": "mCZ9JeqjBG3N",
        "outputId": "36f418a5-55f0-446e-d826-1a188deee2c2"
      },
      "execution_count": null,
      "outputs": [
        {
          "output_type": "stream",
          "name": "stdout",
          "text": [
            "weight adjusted tensor(1.9857, dtype=torch.float64, grad_fn=<DivBackward0>)\n",
            "Epoch: 1, loss: -1.29183, train_acc: 0.50\n",
            "weight adjusted tensor(1.9860, dtype=torch.float64, grad_fn=<DivBackward0>)\n",
            "Epoch: 2, loss: -1.28818, train_acc: 0.50\n",
            "weight adjusted tensor(1.9812, dtype=torch.float64, grad_fn=<DivBackward0>)\n",
            "Epoch: 3, loss: -1.28828, train_acc: 0.50\n",
            "weight adjusted tensor(1.9760, dtype=torch.float64, grad_fn=<DivBackward0>)\n",
            "Epoch: 4, loss: -1.28368, train_acc: 0.50\n",
            "weight adjusted tensor(1.9732, dtype=torch.float64, grad_fn=<DivBackward0>)\n",
            "Epoch: 5, loss: -1.27994, train_acc: 0.50\n",
            "weight adjusted tensor(1.9713, dtype=torch.float64, grad_fn=<DivBackward0>)\n",
            "Epoch: 6, loss: -1.27871, train_acc: 0.50\n",
            "weight adjusted tensor(1.9699, dtype=torch.float64, grad_fn=<DivBackward0>)\n",
            "Epoch: 7, loss: -1.27886, train_acc: 0.50\n",
            "weight adjusted tensor(1.9690, dtype=torch.float64, grad_fn=<DivBackward0>)\n",
            "Epoch: 8, loss: -1.27910, train_acc: 0.57\n",
            "weight adjusted tensor(1.9637, dtype=torch.float64, grad_fn=<DivBackward0>)\n",
            "Epoch: 9, loss: -1.27446, train_acc: 0.57\n",
            "weight adjusted tensor(1.9531, dtype=torch.float64, grad_fn=<DivBackward0>)\n",
            "Epoch: 10, loss: -1.26437, train_acc: 0.54\n",
            "weight adjusted tensor(1.9317, dtype=torch.float64, grad_fn=<DivBackward0>)\n",
            "Epoch: 11, loss: -1.24398, train_acc: 0.55\n",
            "weight adjusted tensor(1.9283, dtype=torch.float64, grad_fn=<DivBackward0>)\n",
            "Epoch: 12, loss: -1.24211, train_acc: 0.56\n",
            "weight adjusted tensor(1.9280, dtype=torch.float64, grad_fn=<DivBackward0>)\n",
            "Epoch: 13, loss: -1.24398, train_acc: 0.60\n",
            "weight adjusted tensor(1.9282, dtype=torch.float64, grad_fn=<DivBackward0>)\n",
            "Epoch: 14, loss: -1.24645, train_acc: 0.64\n",
            "weight adjusted tensor(1.9289, dtype=torch.float64, grad_fn=<DivBackward0>)\n",
            "Epoch: 15, loss: -1.24967, train_acc: 0.68\n",
            "weight adjusted tensor(1.9299, dtype=torch.float64, grad_fn=<DivBackward0>)\n",
            "Epoch: 16, loss: -1.25378, train_acc: 0.66\n",
            "weight adjusted tensor(1.9315, dtype=torch.float64, grad_fn=<DivBackward0>)\n",
            "Epoch: 17, loss: -1.25961, train_acc: 0.68\n",
            "weight adjusted tensor(1.9286, dtype=torch.float64, grad_fn=<DivBackward0>)\n",
            "Epoch: 18, loss: -1.26266, train_acc: 0.73\n",
            "weight adjusted tensor(1.9314, dtype=torch.float64, grad_fn=<DivBackward0>)\n",
            "Epoch: 19, loss: -1.27332, train_acc: 0.76\n",
            "weight adjusted tensor(1.9278, dtype=torch.float64, grad_fn=<DivBackward0>)\n",
            "Epoch: 20, loss: -1.27971, train_acc: 0.74\n",
            "weight adjusted tensor(1.9267, dtype=torch.float64, grad_fn=<DivBackward0>)\n",
            "Epoch: 21, loss: -1.29289, train_acc: 0.77\n",
            "weight adjusted tensor(1.9267, dtype=torch.float64, grad_fn=<DivBackward0>)\n",
            "Epoch: 22, loss: -1.31391, train_acc: 0.81\n",
            "weight adjusted tensor(1.9259, dtype=torch.float64, grad_fn=<DivBackward0>)\n",
            "Epoch: 23, loss: -1.34497, train_acc: 0.86\n",
            "weight adjusted tensor(1.9221, dtype=torch.float64, grad_fn=<DivBackward0>)\n",
            "Epoch: 24, loss: -1.37980, train_acc: 0.81\n",
            "weight adjusted tensor(1.9240, dtype=torch.float64, grad_fn=<DivBackward0>)\n",
            "Epoch: 25, loss: -1.12853, train_acc: 0.50\n",
            "Finished Training\n"
          ]
        }
      ]
    },
    {
      "cell_type": "code",
      "source": [
        "word2vec_cbow_acc = classification(np.array(list(new_word2vec_cbow_emb.values())))"
      ],
      "metadata": {
        "colab": {
          "base_uri": "https://localhost:8080/"
        },
        "id": "aEuK3l2uBIrk",
        "outputId": "bb590e1c-c7ea-4bd7-961d-50f4edeac886"
      },
      "execution_count": null,
      "outputs": [
        {
          "output_type": "stream",
          "name": "stdout",
          "text": [
            "Epoch: 1, loss: 0.69345, train_acc: 0.51\n",
            "Epoch: 2, loss: 0.68922, train_acc: 0.55\n",
            "Epoch: 3, loss: 0.68438, train_acc: 0.71\n",
            "Epoch: 4, loss: 0.67936, train_acc: 0.67\n",
            "Epoch: 5, loss: 0.67387, train_acc: 0.64\n",
            "Epoch: 6, loss: 0.66668, train_acc: 0.70\n",
            "Epoch: 7, loss: 0.65743, train_acc: 0.74\n",
            "Epoch: 8, loss: 0.64579, train_acc: 0.75\n",
            "Epoch: 9, loss: 0.62851, train_acc: 0.77\n",
            "Epoch: 10, loss: 0.60453, train_acc: 0.76\n",
            "Epoch: 11, loss: 0.65521, train_acc: 0.64\n",
            "Epoch: 12, loss: 0.64789, train_acc: 0.51\n",
            "Epoch: 13, loss: 0.60752, train_acc: 0.56\n",
            "Epoch: 14, loss: 0.59313, train_acc: 0.72\n",
            "Epoch: 15, loss: 0.59891, train_acc: 0.79\n",
            "Epoch: 16, loss: 0.60398, train_acc: 0.80\n",
            "Epoch: 17, loss: 0.60053, train_acc: 0.82\n",
            "Epoch: 18, loss: 0.59302, train_acc: 0.87\n",
            "Epoch: 19, loss: 0.58662, train_acc: 0.91\n",
            "Epoch: 20, loss: 0.58329, train_acc: 0.87\n",
            "Epoch: 21, loss: 0.58227, train_acc: 0.83\n",
            "Epoch: 22, loss: 0.57972, train_acc: 0.82\n",
            "Epoch: 23, loss: 0.57178, train_acc: 0.82\n",
            "Epoch: 24, loss: 0.55977, train_acc: 0.85\n",
            "Epoch: 25, loss: 0.54782, train_acc: 0.88\n",
            "Finished Training\n",
            "              precision    recall  f1-score   support\n",
            "\n",
            "           0       0.84      0.98      0.91       132\n",
            "           1       0.98      0.79      0.87       118\n",
            "\n",
            "    accuracy                           0.89       250\n",
            "   macro avg       0.91      0.89      0.89       250\n",
            "weighted avg       0.90      0.89      0.89       250\n",
            "\n"
          ]
        }
      ]
    },
    {
      "cell_type": "markdown",
      "source": [
        "### Skip-Gram"
      ],
      "metadata": {
        "id": "05xadfoeUxhd"
      }
    },
    {
      "cell_type": "code",
      "source": [
        "word2vec_sg_emb = original_embedding(wv_sg_model.wv)"
      ],
      "metadata": {
        "id": "6cD1JvIPU15D"
      },
      "execution_count": null,
      "outputs": []
    },
    {
      "cell_type": "code",
      "source": [
        "original_word2vec_sg_acc = classification_lr(word2vec_sg_emb,0.05)"
      ],
      "metadata": {
        "colab": {
          "base_uri": "https://localhost:8080/"
        },
        "outputId": "ed8c42b9-b1ca-4c62-8e49-6424efcabefd",
        "id": "hwyHLjjiU15D"
      },
      "execution_count": null,
      "outputs": [
        {
          "output_type": "stream",
          "name": "stdout",
          "text": [
            "Epoch: 1, loss: 0.69360, train_acc: 0.49\n",
            "Epoch: 2, loss: 1.42767, train_acc: 0.51\n",
            "Epoch: 3, loss: 0.83891, train_acc: 0.49\n",
            "Epoch: 4, loss: 0.70168, train_acc: 0.50\n",
            "Epoch: 5, loss: 0.69249, train_acc: 0.51\n",
            "Epoch: 6, loss: 0.69527, train_acc: 0.51\n",
            "Epoch: 7, loss: 0.69660, train_acc: 0.51\n",
            "Epoch: 8, loss: 0.69555, train_acc: 0.51\n",
            "Epoch: 9, loss: 0.69385, train_acc: 0.51\n",
            "Epoch: 10, loss: 0.69272, train_acc: 0.51\n",
            "Epoch: 11, loss: 0.69234, train_acc: 0.52\n",
            "Epoch: 12, loss: 0.69245, train_acc: 0.52\n",
            "Epoch: 13, loss: 0.69271, train_acc: 0.51\n",
            "Epoch: 14, loss: 0.69288, train_acc: 0.49\n",
            "Epoch: 15, loss: 0.69286, train_acc: 0.49\n",
            "Epoch: 16, loss: 0.69260, train_acc: 0.51\n",
            "Epoch: 17, loss: 0.69215, train_acc: 0.51\n",
            "Epoch: 18, loss: 0.69158, train_acc: 0.52\n",
            "Epoch: 19, loss: 0.69101, train_acc: 0.54\n",
            "Epoch: 20, loss: 0.69051, train_acc: 0.52\n",
            "Epoch: 21, loss: 0.69017, train_acc: 0.52\n",
            "Epoch: 22, loss: 0.68997, train_acc: 0.53\n",
            "Epoch: 23, loss: 0.68982, train_acc: 0.53\n",
            "Epoch: 24, loss: 0.68957, train_acc: 0.53\n",
            "Epoch: 25, loss: 0.68915, train_acc: 0.53\n",
            "Finished Training\n",
            "              precision    recall  f1-score   support\n",
            "\n",
            "           0       0.56      0.11      0.18       132\n",
            "           1       0.48      0.91      0.62       118\n",
            "\n",
            "    accuracy                           0.48       250\n",
            "   macro avg       0.52      0.51      0.40       250\n",
            "weighted avg       0.52      0.48      0.39       250\n",
            "\n"
          ]
        }
      ]
    },
    {
      "cell_type": "code",
      "source": [
        "def original_embedding(word_model):\n",
        "\n",
        "  emb_table = []\n",
        "  for i, word in enumerate(word_list):\n",
        "    if word in word_model:\n",
        "      emb_table.append(word_model[word])\n",
        "    else:\n",
        "      emb_table.append([0]*emb_dim)\n",
        "  emb_table = np.array(emb_table)\n",
        "\n",
        "  return emb_table"
      ],
      "metadata": {
        "id": "YsdESKKmU15E"
      },
      "execution_count": null,
      "outputs": []
    },
    {
      "cell_type": "code",
      "source": [
        "word2vec_sg_emb = original_embedding(wv_sg_model.wv)"
      ],
      "metadata": {
        "id": "dHgNYYdYU15E"
      },
      "execution_count": null,
      "outputs": []
    },
    {
      "cell_type": "code",
      "source": [
        "word2vec_sg_emb = update_embedding0(word2vec_sg_emb)"
      ],
      "metadata": {
        "colab": {
          "base_uri": "https://localhost:8080/"
        },
        "outputId": "c0e69e8c-d850-494c-b7b6-3c3e4c19c312",
        "id": "afGHw6WKU15E"
      },
      "execution_count": null,
      "outputs": [
        {
          "output_type": "stream",
          "name": "stdout",
          "text": [
            "weight adjusted tensor(4.0285, dtype=torch.float64, grad_fn=<DivBackward0>)\n",
            "Epoch: 1, loss: 0.69382, train_acc: 0.50\n",
            "weight adjusted tensor(4.0575, dtype=torch.float64, grad_fn=<DivBackward0>)\n",
            "Epoch: 2, loss: 0.69310, train_acc: 0.50\n",
            "weight adjusted tensor(4.0281, dtype=torch.float64, grad_fn=<DivBackward0>)\n",
            "Epoch: 3, loss: 0.69229, train_acc: 0.50\n",
            "weight adjusted tensor(4.1044, dtype=torch.float64, grad_fn=<DivBackward0>)\n",
            "Epoch: 4, loss: 0.69105, train_acc: 0.53\n",
            "weight adjusted tensor(4.1818, dtype=torch.float64, grad_fn=<DivBackward0>)\n",
            "Epoch: 5, loss: 0.69008, train_acc: 0.58\n",
            "weight adjusted tensor(4.2585, dtype=torch.float64, grad_fn=<DivBackward0>)\n",
            "Epoch: 6, loss: 0.68896, train_acc: 0.56\n",
            "weight adjusted tensor(4.2581, dtype=torch.float64, grad_fn=<DivBackward0>)\n",
            "Epoch: 7, loss: 0.68716, train_acc: 0.59\n",
            "weight adjusted tensor(4.2600, dtype=torch.float64, grad_fn=<DivBackward0>)\n",
            "Epoch: 8, loss: 0.68458, train_acc: 0.62\n",
            "weight adjusted tensor(4.2574, dtype=torch.float64, grad_fn=<DivBackward0>)\n",
            "Epoch: 9, loss: 0.68124, train_acc: 0.62\n",
            "weight adjusted tensor(4.5174, dtype=torch.float64, grad_fn=<DivBackward0>)\n",
            "Epoch: 10, loss: 0.67672, train_acc: 0.63\n",
            "weight adjusted tensor(4.6713, dtype=torch.float64, grad_fn=<DivBackward0>)\n",
            "Epoch: 11, loss: 0.66983, train_acc: 0.66\n",
            "weight adjusted tensor(4.8200, dtype=torch.float64, grad_fn=<DivBackward0>)\n",
            "Epoch: 12, loss: 0.65865, train_acc: 0.69\n",
            "weight adjusted tensor(4.8492, dtype=torch.float64, grad_fn=<DivBackward0>)\n",
            "Epoch: 13, loss: 0.64028, train_acc: 0.69\n",
            "weight adjusted tensor(4.9234, dtype=torch.float64, grad_fn=<DivBackward0>)\n",
            "Epoch: 14, loss: 0.60856, train_acc: 0.68\n",
            "weight adjusted tensor(4.9218, dtype=torch.float64, grad_fn=<DivBackward0>)\n",
            "Epoch: 15, loss: 0.70880, train_acc: 0.63\n",
            "weight adjusted tensor(4.9180, dtype=torch.float64, grad_fn=<DivBackward0>)\n",
            "Epoch: 16, loss: 0.63605, train_acc: 0.60\n",
            "weight adjusted tensor(4.9176, dtype=torch.float64, grad_fn=<DivBackward0>)\n",
            "Epoch: 17, loss: 0.58678, train_acc: 0.70\n",
            "weight adjusted tensor(4.9164, dtype=torch.float64, grad_fn=<DivBackward0>)\n",
            "Epoch: 18, loss: 0.59003, train_acc: 0.76\n",
            "weight adjusted tensor(4.8855, dtype=torch.float64, grad_fn=<DivBackward0>)\n",
            "Epoch: 19, loss: 0.59746, train_acc: 0.77\n",
            "weight adjusted tensor(4.8810, dtype=torch.float64, grad_fn=<DivBackward0>)\n",
            "Epoch: 20, loss: 0.60260, train_acc: 0.76\n",
            "weight adjusted tensor(5.0349, dtype=torch.float64, grad_fn=<DivBackward0>)\n",
            "Epoch: 21, loss: 0.60421, train_acc: 0.73\n",
            "weight adjusted tensor(5.0261, dtype=torch.float64, grad_fn=<DivBackward0>)\n",
            "Epoch: 22, loss: 0.60207, train_acc: 0.72\n",
            "weight adjusted tensor(5.0226, dtype=torch.float64, grad_fn=<DivBackward0>)\n",
            "Epoch: 23, loss: 0.59667, train_acc: 0.74\n",
            "weight adjusted tensor(5.0172, dtype=torch.float64, grad_fn=<DivBackward0>)\n",
            "Epoch: 24, loss: 0.58880, train_acc: 0.77\n",
            "weight adjusted tensor(5.0106, dtype=torch.float64, grad_fn=<DivBackward0>)\n",
            "Epoch: 25, loss: 0.57920, train_acc: 0.80\n",
            "Finished Training\n"
          ]
        }
      ]
    },
    {
      "cell_type": "code",
      "source": [
        "original_word2vec_sg_acc = classification(np.array(list(word2vec_sg_emb.values())))"
      ],
      "metadata": {
        "colab": {
          "base_uri": "https://localhost:8080/"
        },
        "outputId": "7da1d65e-8aa0-4a1a-f87f-ed2d1c28f2ca",
        "id": "vP4BZejbU15E"
      },
      "execution_count": null,
      "outputs": [
        {
          "output_type": "stream",
          "name": "stdout",
          "text": [
            "Epoch: 1, loss: 1.38512, train_acc: 0.49\n",
            "Epoch: 2, loss: 1.35037, train_acc: 0.51\n",
            "Epoch: 3, loss: 1.33071, train_acc: 0.50\n",
            "Epoch: 4, loss: 1.24682, train_acc: 0.80\n",
            "Epoch: 5, loss: 1.19085, train_acc: 0.53\n",
            "Epoch: 6, loss: 1.13679, train_acc: 0.73\n",
            "Epoch: 7, loss: 1.17588, train_acc: 0.64\n",
            "Epoch: 8, loss: 0.95349, train_acc: 0.87\n",
            "Epoch: 9, loss: 8.49511, train_acc: 0.51\n",
            "Epoch: 10, loss: 6.54510, train_acc: 0.51\n",
            "Epoch: 11, loss: 2.97803, train_acc: 0.59\n",
            "Epoch: 12, loss: 3.61270, train_acc: 0.49\n",
            "Epoch: 13, loss: 2.73977, train_acc: 0.49\n",
            "Epoch: 14, loss: 1.61658, train_acc: 0.49\n",
            "Epoch: 15, loss: 1.37915, train_acc: 0.59\n",
            "Epoch: 16, loss: 1.67767, train_acc: 0.51\n",
            "Epoch: 17, loss: 1.73736, train_acc: 0.51\n",
            "Epoch: 18, loss: 1.59877, train_acc: 0.51\n",
            "Epoch: 19, loss: 1.42715, train_acc: 0.51\n",
            "Epoch: 20, loss: 1.34381, train_acc: 0.61\n",
            "Epoch: 21, loss: 1.37249, train_acc: 0.49\n",
            "Epoch: 22, loss: 1.44160, train_acc: 0.49\n",
            "Epoch: 23, loss: 1.47604, train_acc: 0.49\n",
            "Epoch: 24, loss: 1.45728, train_acc: 0.49\n",
            "Epoch: 25, loss: 1.40718, train_acc: 0.49\n",
            "Finished Training\n",
            "              precision    recall  f1-score   support\n",
            "\n",
            "           0       0.53      1.00      0.69       132\n",
            "           1       0.00      0.00      0.00       118\n",
            "\n",
            "    accuracy                           0.53       250\n",
            "   macro avg       0.26      0.50      0.35       250\n",
            "weighted avg       0.28      0.53      0.36       250\n",
            "\n"
          ]
        },
        {
          "output_type": "stream",
          "name": "stderr",
          "text": [
            "/usr/local/lib/python3.7/dist-packages/sklearn/metrics/_classification.py:1318: UndefinedMetricWarning: Precision and F-score are ill-defined and being set to 0.0 in labels with no predicted samples. Use `zero_division` parameter to control this behavior.\n",
            "  _warn_prf(average, modifier, msg_start, len(result))\n",
            "/usr/local/lib/python3.7/dist-packages/sklearn/metrics/_classification.py:1318: UndefinedMetricWarning: Precision and F-score are ill-defined and being set to 0.0 in labels with no predicted samples. Use `zero_division` parameter to control this behavior.\n",
            "  _warn_prf(average, modifier, msg_start, len(result))\n",
            "/usr/local/lib/python3.7/dist-packages/sklearn/metrics/_classification.py:1318: UndefinedMetricWarning: Precision and F-score are ill-defined and being set to 0.0 in labels with no predicted samples. Use `zero_division` parameter to control this behavior.\n",
            "  _warn_prf(average, modifier, msg_start, len(result))\n"
          ]
        }
      ]
    },
    {
      "cell_type": "code",
      "source": [
        "new_word2vec_sg_emb = update_embedding(word2vec_sg_emb)"
      ],
      "metadata": {
        "colab": {
          "base_uri": "https://localhost:8080/",
          "height": 311
        },
        "outputId": "3aabc97c-fa73-4b01-81b8-4a45273af60b",
        "id": "cEP5C0NDU15E"
      },
      "execution_count": null,
      "outputs": [
        {
          "output_type": "error",
          "ename": "AttributeError",
          "evalue": "ignored",
          "traceback": [
            "\u001b[0;31m---------------------------------------------------------------------------\u001b[0m",
            "\u001b[0;31mAttributeError\u001b[0m                            Traceback (most recent call last)",
            "\u001b[0;32m<ipython-input-134-c0f3c32c0774>\u001b[0m in \u001b[0;36m<module>\u001b[0;34m()\u001b[0m\n\u001b[0;32m----> 1\u001b[0;31m \u001b[0mnew_word2vec_sg_emb\u001b[0m \u001b[0;34m=\u001b[0m \u001b[0mupdate_embedding\u001b[0m\u001b[0;34m(\u001b[0m\u001b[0mword2vec_sg_emb\u001b[0m\u001b[0;34m)\u001b[0m\u001b[0;34m\u001b[0m\u001b[0;34m\u001b[0m\u001b[0m\n\u001b[0m",
            "\u001b[0;32m<ipython-input-26-d3b8440349db>\u001b[0m in \u001b[0;36mupdate_embedding\u001b[0;34m(emb_table)\u001b[0m\n\u001b[1;32m     54\u001b[0m   \u001b[0mn_emb\u001b[0m \u001b[0;34m=\u001b[0m \u001b[0memb_dim\u001b[0m\u001b[0;34m\u001b[0m\u001b[0;34m\u001b[0m\u001b[0m\n\u001b[1;32m     55\u001b[0m   \u001b[0mtotal_epoch\u001b[0m \u001b[0;34m=\u001b[0m \u001b[0;36m25\u001b[0m\u001b[0;34m\u001b[0m\u001b[0;34m\u001b[0m\u001b[0m\n\u001b[0;32m---> 56\u001b[0;31m   \u001b[0mmodel\u001b[0m \u001b[0;34m=\u001b[0m \u001b[0mBi_LSTM_Attention\u001b[0m\u001b[0;34m(\u001b[0m\u001b[0;34m)\u001b[0m\u001b[0;34m.\u001b[0m\u001b[0mto\u001b[0m\u001b[0;34m(\u001b[0m\u001b[0mdevice\u001b[0m\u001b[0;34m)\u001b[0m\u001b[0;34m\u001b[0m\u001b[0;34m\u001b[0m\u001b[0m\n\u001b[0m\u001b[1;32m     57\u001b[0m   \u001b[0mcriterion\u001b[0m \u001b[0;34m=\u001b[0m \u001b[0mnn\u001b[0m\u001b[0;34m.\u001b[0m\u001b[0mCrossEntropyLoss\u001b[0m\u001b[0;34m(\u001b[0m\u001b[0;34m)\u001b[0m\u001b[0;34m\u001b[0m\u001b[0;34m\u001b[0m\u001b[0m\n\u001b[1;32m     58\u001b[0m   \u001b[0moptimizer\u001b[0m \u001b[0;34m=\u001b[0m \u001b[0moptim\u001b[0m\u001b[0;34m.\u001b[0m\u001b[0mAdam\u001b[0m\u001b[0;34m(\u001b[0m\u001b[0mmodel\u001b[0m\u001b[0;34m.\u001b[0m\u001b[0mparameters\u001b[0m\u001b[0;34m(\u001b[0m\u001b[0;34m)\u001b[0m\u001b[0;34m,\u001b[0m \u001b[0mlr\u001b[0m\u001b[0;34m=\u001b[0m\u001b[0;36m0.001\u001b[0m\u001b[0;34m)\u001b[0m\u001b[0;34m\u001b[0m\u001b[0;34m\u001b[0m\u001b[0m\n",
            "\u001b[0;32m<ipython-input-26-d3b8440349db>\u001b[0m in \u001b[0;36m__init__\u001b[0;34m(self)\u001b[0m\n\u001b[1;32m     12\u001b[0m       \u001b[0;32mdef\u001b[0m \u001b[0m__init__\u001b[0m\u001b[0;34m(\u001b[0m\u001b[0mself\u001b[0m\u001b[0;34m)\u001b[0m\u001b[0;34m:\u001b[0m\u001b[0;34m\u001b[0m\u001b[0;34m\u001b[0m\u001b[0m\n\u001b[1;32m     13\u001b[0m           \u001b[0msuper\u001b[0m\u001b[0;34m(\u001b[0m\u001b[0mBi_LSTM_Attention\u001b[0m\u001b[0;34m,\u001b[0m \u001b[0mself\u001b[0m\u001b[0;34m)\u001b[0m\u001b[0;34m.\u001b[0m\u001b[0m__init__\u001b[0m\u001b[0;34m(\u001b[0m\u001b[0;34m)\u001b[0m\u001b[0;34m\u001b[0m\u001b[0;34m\u001b[0m\u001b[0m\n\u001b[0;32m---> 14\u001b[0;31m           \u001b[0mself\u001b[0m\u001b[0;34m.\u001b[0m\u001b[0memb\u001b[0m \u001b[0;34m=\u001b[0m \u001b[0mnn\u001b[0m\u001b[0;34m.\u001b[0m\u001b[0mEmbedding\u001b[0m\u001b[0;34m(\u001b[0m\u001b[0memb_table\u001b[0m\u001b[0;34m.\u001b[0m\u001b[0mshape\u001b[0m\u001b[0;34m[\u001b[0m\u001b[0;36m0\u001b[0m\u001b[0;34m]\u001b[0m\u001b[0;34m,\u001b[0m\u001b[0memb_table\u001b[0m\u001b[0;34m.\u001b[0m\u001b[0mshape\u001b[0m\u001b[0;34m[\u001b[0m\u001b[0;36m1\u001b[0m\u001b[0;34m]\u001b[0m\u001b[0;34m)\u001b[0m\u001b[0;34m\u001b[0m\u001b[0;34m\u001b[0m\u001b[0m\n\u001b[0m\u001b[1;32m     15\u001b[0m           \u001b[0mself\u001b[0m\u001b[0;34m.\u001b[0m\u001b[0memb\u001b[0m\u001b[0;34m.\u001b[0m\u001b[0mweight\u001b[0m\u001b[0;34m.\u001b[0m\u001b[0mdata\u001b[0m\u001b[0;34m.\u001b[0m\u001b[0mcopy_\u001b[0m\u001b[0;34m(\u001b[0m\u001b[0mtorch\u001b[0m\u001b[0;34m.\u001b[0m\u001b[0mfrom_numpy\u001b[0m\u001b[0;34m(\u001b[0m\u001b[0memb_table\u001b[0m\u001b[0;34m)\u001b[0m\u001b[0;34m)\u001b[0m\u001b[0;34m\u001b[0m\u001b[0;34m\u001b[0m\u001b[0m\n\u001b[1;32m     16\u001b[0m           \u001b[0mself\u001b[0m\u001b[0;34m.\u001b[0m\u001b[0memb\u001b[0m\u001b[0;34m.\u001b[0m\u001b[0mweight\u001b[0m\u001b[0;34m.\u001b[0m\u001b[0mrequires_grad\u001b[0m \u001b[0;34m=\u001b[0m \u001b[0;32mTrue\u001b[0m\u001b[0;34m\u001b[0m\u001b[0;34m\u001b[0m\u001b[0m\n",
            "\u001b[0;31mAttributeError\u001b[0m: 'dict' object has no attribute 'shape'"
          ]
        }
      ]
    },
    {
      "cell_type": "code",
      "source": [
        "word2vec_sg_acc = classification(np.array(list(new_word2vec_sg_emb.values())))"
      ],
      "metadata": {
        "id": "ZgxejzXVU15E"
      },
      "execution_count": null,
      "outputs": []
    },
    {
      "cell_type": "markdown",
      "source": [
        "### Skip-Gram Fast Text"
      ],
      "metadata": {
        "id": "ECrFjoegFH9b"
      }
    },
    {
      "cell_type": "code",
      "source": [
        "from gensim.models import FastText\n",
        "fasttext_sg_model = FastText(sentences = text_final, size=100, window=5, min_count=5, workers=2, sg=1)"
      ],
      "metadata": {
        "id": "GEHc0UYvFSxZ"
      },
      "execution_count": null,
      "outputs": []
    },
    {
      "cell_type": "code",
      "source": [
        "fasttext_sg_emb = original_embedding(fasttext_sg_model.wv)"
      ],
      "metadata": {
        "id": "Br_drjiXFYbl"
      },
      "execution_count": null,
      "outputs": []
    },
    {
      "cell_type": "code",
      "source": [
        "original_fasttext_sg_acc = classification(fasttext_sg_emb)"
      ],
      "metadata": {
        "colab": {
          "base_uri": "https://localhost:8080/"
        },
        "id": "yGPRKhgsFacr",
        "outputId": "451ee936-19ca-49ac-f211-74b5ba62f056"
      },
      "execution_count": null,
      "outputs": [
        {
          "output_type": "stream",
          "name": "stdout",
          "text": [
            "Epoch: 1, loss: 1.38620, train_acc: 0.51\n",
            "Epoch: 2, loss: 1.53363, train_acc: 0.49\n",
            "Epoch: 3, loss: 1.44042, train_acc: 0.52\n",
            "Epoch: 4, loss: 1.39534, train_acc: 0.51\n",
            "Epoch: 5, loss: 1.38359, train_acc: 0.52\n",
            "Epoch: 6, loss: 1.38704, train_acc: 0.49\n",
            "Epoch: 7, loss: 1.38968, train_acc: 0.49\n",
            "Epoch: 8, loss: 1.38738, train_acc: 0.49\n",
            "Epoch: 9, loss: 1.38502, train_acc: 0.53\n",
            "Epoch: 10, loss: 1.38418, train_acc: 0.51\n",
            "Epoch: 11, loss: 1.38442, train_acc: 0.51\n",
            "Epoch: 12, loss: 1.38481, train_acc: 0.51\n",
            "Epoch: 13, loss: 1.38465, train_acc: 0.51\n",
            "Epoch: 14, loss: 1.38393, train_acc: 0.51\n",
            "Epoch: 15, loss: 1.38310, train_acc: 0.53\n",
            "Epoch: 16, loss: 1.38255, train_acc: 0.53\n",
            "Epoch: 17, loss: 1.38233, train_acc: 0.52\n",
            "Epoch: 18, loss: 1.38224, train_acc: 0.51\n",
            "Epoch: 19, loss: 1.38194, train_acc: 0.52\n",
            "Epoch: 20, loss: 1.38117, train_acc: 0.51\n",
            "Epoch: 21, loss: 1.37992, train_acc: 0.51\n",
            "Epoch: 22, loss: 1.37847, train_acc: 0.53\n",
            "Epoch: 23, loss: 1.37715, train_acc: 0.55\n",
            "Epoch: 24, loss: 1.37539, train_acc: 0.54\n",
            "Epoch: 25, loss: 1.37106, train_acc: 0.55\n",
            "Finished Training\n",
            "              precision    recall  f1-score   support\n",
            "\n",
            "           0       0.55      0.49      0.52       132\n",
            "           1       0.49      0.55      0.52       118\n",
            "\n",
            "    accuracy                           0.52       250\n",
            "   macro avg       0.52      0.52      0.52       250\n",
            "weighted avg       0.52      0.52      0.52       250\n",
            "\n"
          ]
        }
      ]
    },
    {
      "cell_type": "code",
      "source": [
        "new_fasttext_sg_emb0 = update_embedding0(fasttext_sg_emb)"
      ],
      "metadata": {
        "colab": {
          "base_uri": "https://localhost:8080/"
        },
        "id": "pKjPa2vbFcvy",
        "outputId": "9b511868-4062-4f2d-c579-2c959b7f34f1"
      },
      "execution_count": null,
      "outputs": [
        {
          "output_type": "stream",
          "name": "stdout",
          "text": [
            "weight adjusted tensor(55.8022, dtype=torch.float64, grad_fn=<DivBackward0>)\n",
            "Epoch: 1, loss: -55.10660, train_acc: 0.50\n",
            "weight adjusted tensor(55.7918, dtype=torch.float64, grad_fn=<DivBackward0>)\n",
            "Epoch: 2, loss: -55.09784, train_acc: 0.50\n",
            "weight adjusted tensor(55.7890, dtype=torch.float64, grad_fn=<DivBackward0>)\n",
            "Epoch: 3, loss: -55.09553, train_acc: 0.50\n",
            "weight adjusted tensor(55.7872, dtype=torch.float64, grad_fn=<DivBackward0>)\n",
            "Epoch: 4, loss: -55.09550, train_acc: 0.50\n",
            "weight adjusted tensor(55.7853, dtype=torch.float64, grad_fn=<DivBackward0>)\n",
            "Epoch: 5, loss: -55.09433, train_acc: 0.53\n",
            "weight adjusted tensor(55.7823, dtype=torch.float64, grad_fn=<DivBackward0>)\n",
            "Epoch: 6, loss: -55.09168, train_acc: 0.50\n",
            "weight adjusted tensor(55.7778, dtype=torch.float64, grad_fn=<DivBackward0>)\n",
            "Epoch: 7, loss: -55.08825, train_acc: 0.50\n",
            "weight adjusted tensor(55.7728, dtype=torch.float64, grad_fn=<DivBackward0>)\n",
            "Epoch: 8, loss: -55.08494, train_acc: 0.55\n",
            "weight adjusted tensor(55.7685, dtype=torch.float64, grad_fn=<DivBackward0>)\n",
            "Epoch: 9, loss: -55.08259, train_acc: 0.64\n",
            "weight adjusted tensor(55.7659, dtype=torch.float64, grad_fn=<DivBackward0>)\n",
            "Epoch: 10, loss: -55.08207, train_acc: 0.61\n",
            "weight adjusted tensor(55.7653, dtype=torch.float64, grad_fn=<DivBackward0>)\n",
            "Epoch: 11, loss: -55.08432, train_acc: 0.58\n",
            "weight adjusted tensor(55.7663, dtype=torch.float64, grad_fn=<DivBackward0>)\n",
            "Epoch: 12, loss: -55.08976, train_acc: 0.62\n",
            "weight adjusted tensor(55.7678, dtype=torch.float64, grad_fn=<DivBackward0>)\n",
            "Epoch: 13, loss: -55.09792, train_acc: 0.69\n",
            "weight adjusted tensor(55.7690, dtype=torch.float64, grad_fn=<DivBackward0>)\n",
            "Epoch: 14, loss: -55.10818, train_acc: 0.73\n",
            "weight adjusted tensor(55.7701, dtype=torch.float64, grad_fn=<DivBackward0>)\n",
            "Epoch: 15, loss: -55.12441, train_acc: 0.73\n",
            "weight adjusted tensor(55.7721, dtype=torch.float64, grad_fn=<DivBackward0>)\n",
            "Epoch: 16, loss: -55.15261, train_acc: 0.67\n",
            "weight adjusted tensor(55.7770, dtype=torch.float64, grad_fn=<DivBackward0>)\n",
            "Epoch: 17, loss: -55.19179, train_acc: 0.70\n",
            "weight adjusted tensor(55.7790, dtype=torch.float64, grad_fn=<DivBackward0>)\n",
            "Epoch: 18, loss: -54.99488, train_acc: 0.50\n",
            "weight adjusted tensor(55.7666, dtype=torch.float64, grad_fn=<DivBackward0>)\n",
            "Epoch: 19, loss: -55.14626, train_acc: 0.62\n",
            "weight adjusted tensor(55.7557, dtype=torch.float64, grad_fn=<DivBackward0>)\n",
            "Epoch: 20, loss: -55.15999, train_acc: 0.80\n",
            "weight adjusted tensor(55.7487, dtype=torch.float64, grad_fn=<DivBackward0>)\n",
            "Epoch: 21, loss: -55.14323, train_acc: 0.68\n",
            "weight adjusted tensor(55.7447, dtype=torch.float64, grad_fn=<DivBackward0>)\n",
            "Epoch: 22, loss: -55.12488, train_acc: 0.57\n",
            "weight adjusted tensor(55.7422, dtype=torch.float64, grad_fn=<DivBackward0>)\n",
            "Epoch: 23, loss: -55.11774, train_acc: 0.55\n",
            "weight adjusted tensor(55.7406, dtype=torch.float64, grad_fn=<DivBackward0>)\n",
            "Epoch: 24, loss: -55.12159, train_acc: 0.55\n",
            "weight adjusted tensor(55.7393, dtype=torch.float64, grad_fn=<DivBackward0>)\n",
            "Epoch: 25, loss: -55.13099, train_acc: 0.59\n",
            "Finished Training\n"
          ]
        }
      ]
    },
    {
      "cell_type": "code",
      "source": [
        "new_fasttext_sg_acc0 = classification(np.array(list(new_fasttext_sg_emb0.values())))"
      ],
      "metadata": {
        "colab": {
          "base_uri": "https://localhost:8080/"
        },
        "id": "YaE3FOHfFrkH",
        "outputId": "3517df54-0e49-41cf-dbc8-6feb13ba0fca"
      },
      "execution_count": null,
      "outputs": [
        {
          "output_type": "stream",
          "name": "stdout",
          "text": [
            "Epoch: 1, loss: 1.38620, train_acc: 0.49\n",
            "Epoch: 2, loss: 1.49030, train_acc: 0.51\n",
            "Epoch: 3, loss: 1.35728, train_acc: 0.53\n",
            "Epoch: 4, loss: 1.37308, train_acc: 0.49\n",
            "Epoch: 5, loss: 1.34995, train_acc: 0.52\n",
            "Epoch: 6, loss: 1.33696, train_acc: 0.65\n",
            "Epoch: 7, loss: 1.32161, train_acc: 0.59\n",
            "Epoch: 8, loss: 1.25858, train_acc: 0.78\n",
            "Epoch: 9, loss: 1.81885, train_acc: 0.49\n",
            "Epoch: 10, loss: 1.23752, train_acc: 0.66\n",
            "Epoch: 11, loss: 1.32774, train_acc: 0.52\n",
            "Epoch: 12, loss: 1.30053, train_acc: 0.52\n",
            "Epoch: 13, loss: 1.27695, train_acc: 0.54\n",
            "Epoch: 14, loss: 1.26081, train_acc: 0.71\n",
            "Epoch: 15, loss: 1.25090, train_acc: 0.78\n",
            "Epoch: 16, loss: 1.23298, train_acc: 0.75\n",
            "Epoch: 17, loss: 1.14135, train_acc: 0.82\n",
            "Epoch: 18, loss: 1.65368, train_acc: 0.52\n",
            "Epoch: 19, loss: 1.10419, train_acc: 0.79\n",
            "Epoch: 20, loss: 1.20906, train_acc: 0.61\n",
            "Epoch: 21, loss: 1.16502, train_acc: 0.66\n",
            "Epoch: 22, loss: 1.11113, train_acc: 0.81\n",
            "Epoch: 23, loss: 1.10780, train_acc: 0.80\n",
            "Epoch: 24, loss: 1.07289, train_acc: 0.79\n",
            "Epoch: 25, loss: 0.97063, train_acc: 0.81\n",
            "Finished Training\n",
            "              precision    recall  f1-score   support\n",
            "\n",
            "           0       0.87      0.73      0.80       132\n",
            "           1       0.75      0.87      0.80       118\n",
            "\n",
            "    accuracy                           0.80       250\n",
            "   macro avg       0.81      0.80      0.80       250\n",
            "weighted avg       0.81      0.80      0.80       250\n",
            "\n"
          ]
        }
      ]
    },
    {
      "cell_type": "code",
      "source": [
        "new_fasttext_sg_emb1 = update_embedding1(fasttext_sg_emb)"
      ],
      "metadata": {
        "colab": {
          "base_uri": "https://localhost:8080/"
        },
        "id": "LbgQYFzpFe-z",
        "outputId": "2082b33d-9844-414e-ef4b-8e667cf81551"
      },
      "execution_count": null,
      "outputs": [
        {
          "output_type": "stream",
          "name": "stdout",
          "text": [
            "sparsemans loss -1.90059405040544\n",
            "Epoch: 1, loss: -1.20734, train_acc: 0.49\n",
            "sparsemans loss -1.8952811334824597\n",
            "Epoch: 2, loss: -1.20225, train_acc: 0.50\n",
            "sparsemans loss -1.8928501279838972\n",
            "Epoch: 3, loss: -1.20110, train_acc: 0.50\n",
            "sparsemans loss -1.8966098999593415\n",
            "Epoch: 4, loss: -1.20543, train_acc: 0.50\n",
            "sparsemans loss -1.88631788288062\n",
            "Epoch: 5, loss: -1.19687, train_acc: 0.58\n",
            "sparsemans loss -1.8779271574022895\n",
            "Epoch: 6, loss: -1.18972, train_acc: 0.55\n",
            "sparsemans loss -1.8555805621186023\n",
            "Epoch: 7, loss: -1.16914, train_acc: 0.55\n",
            "sparsemans loss -1.8461393406930384\n",
            "Epoch: 8, loss: -1.16288, train_acc: 0.62\n",
            "sparsemans loss -1.8321833784016888\n",
            "Epoch: 9, loss: -1.15285, train_acc: 0.65\n",
            "sparsemans loss -1.8169716394141864\n",
            "Epoch: 10, loss: -1.14315, train_acc: 0.65\n",
            "sparsemans loss -1.8034650112109287\n",
            "Epoch: 11, loss: -1.13946, train_acc: 0.68\n",
            "sparsemans loss -1.7980024253246756\n",
            "Epoch: 12, loss: -1.14790, train_acc: 0.65\n",
            "sparsemans loss -1.781077753006392\n",
            "Epoch: 13, loss: -1.16267, train_acc: 0.69\n",
            "sparsemans loss -1.786281834917171\n",
            "Epoch: 14, loss: -1.10924, train_acc: 0.65\n",
            "sparsemans loss -1.7715602113033038\n",
            "Epoch: 15, loss: -0.95841, train_acc: 0.54\n",
            "sparsemans loss -1.7516389032659099\n",
            "Epoch: 16, loss: -1.11992, train_acc: 0.60\n",
            "sparsemans loss -1.748079644550614\n",
            "Epoch: 17, loss: -1.12732, train_acc: 0.65\n",
            "sparsemans loss -1.7311381484006712\n",
            "Epoch: 18, loss: -1.08775, train_acc: 0.59\n",
            "sparsemans loss -1.7355163936291287\n",
            "Epoch: 19, loss: -1.09501, train_acc: 0.61\n",
            "sparsemans loss -1.7515337251343415\n",
            "Epoch: 20, loss: -1.11631, train_acc: 0.64\n",
            "sparsemans loss -1.7382233333966057\n",
            "Epoch: 21, loss: -1.10603, train_acc: 0.68\n",
            "sparsemans loss -1.7423052704045197\n",
            "Epoch: 22, loss: -1.11185, train_acc: 0.73\n",
            "sparsemans loss -1.7472559882572785\n",
            "Epoch: 23, loss: -1.11810, train_acc: 0.79\n",
            "sparsemans loss -1.729119831064258\n",
            "Epoch: 24, loss: -1.10127, train_acc: 0.81\n",
            "sparsemans loss -1.7288977918447483\n",
            "Epoch: 25, loss: -1.10262, train_acc: 0.82\n",
            "Finished Training\n"
          ]
        }
      ]
    },
    {
      "cell_type": "code",
      "source": [
        "new_fasttext_sg_acc1 = classification(np.array(list(new_fasttext_sg_emb1.values())))"
      ],
      "metadata": {
        "colab": {
          "base_uri": "https://localhost:8080/"
        },
        "id": "f27FFn-nFwKS",
        "outputId": "d491289c-937e-4b8c-abe1-0aa2c70a5ba7"
      },
      "execution_count": null,
      "outputs": [
        {
          "output_type": "stream",
          "name": "stdout",
          "text": [
            "Epoch: 1, loss: 1.38438, train_acc: 0.51\n",
            "Epoch: 2, loss: 1.33613, train_acc: 0.63\n",
            "Epoch: 3, loss: 1.93855, train_acc: 0.51\n",
            "Epoch: 4, loss: 1.29098, train_acc: 0.69\n",
            "Epoch: 5, loss: 1.35251, train_acc: 0.49\n",
            "Epoch: 6, loss: 1.33449, train_acc: 0.49\n",
            "Epoch: 7, loss: 1.30623, train_acc: 0.71\n",
            "Epoch: 8, loss: 1.30315, train_acc: 0.61\n",
            "Epoch: 9, loss: 1.25998, train_acc: 0.67\n",
            "Epoch: 10, loss: 2.52516, train_acc: 0.49\n",
            "Epoch: 11, loss: 1.29200, train_acc: 0.58\n",
            "Epoch: 12, loss: 1.38105, train_acc: 0.51\n",
            "Epoch: 13, loss: 1.37025, train_acc: 0.51\n",
            "Epoch: 14, loss: 1.33637, train_acc: 0.51\n",
            "Epoch: 15, loss: 1.31234, train_acc: 0.53\n",
            "Epoch: 16, loss: 1.30179, train_acc: 0.72\n",
            "Epoch: 17, loss: 1.30205, train_acc: 0.78\n",
            "Epoch: 18, loss: 1.30777, train_acc: 0.59\n",
            "Epoch: 19, loss: 1.30914, train_acc: 0.53\n",
            "Epoch: 20, loss: 1.29731, train_acc: 0.55\n",
            "Epoch: 21, loss: 1.27330, train_acc: 0.67\n",
            "Epoch: 22, loss: 1.24735, train_acc: 0.79\n",
            "Epoch: 23, loss: 1.22678, train_acc: 0.79\n",
            "Epoch: 24, loss: 1.20489, train_acc: 0.74\n",
            "Epoch: 25, loss: 1.15483, train_acc: 0.77\n",
            "Finished Training\n",
            "              precision    recall  f1-score   support\n",
            "\n",
            "           0       0.83      0.83      0.83       132\n",
            "           1       0.81      0.81      0.81       118\n",
            "\n",
            "    accuracy                           0.82       250\n",
            "   macro avg       0.82      0.82      0.82       250\n",
            "weighted avg       0.82      0.82      0.82       250\n",
            "\n"
          ]
        }
      ]
    },
    {
      "cell_type": "code",
      "source": [
        "new_fasttext_sg_emb2 = update_embedding2(fasttext_sg_emb)"
      ],
      "metadata": {
        "colab": {
          "base_uri": "https://localhost:8080/"
        },
        "id": "Ow5p6l1hFfdj",
        "outputId": "5cf46bde-a370-4898-ab6a-8401b3c0ec3e"
      },
      "execution_count": null,
      "outputs": [
        {
          "output_type": "stream",
          "name": "stdout",
          "text": [
            "weight adjusted tensor(0.5580, dtype=torch.float64, grad_fn=<DivBackward0>)\n",
            "Epoch: 1, loss: 0.13534, train_acc: 0.50\n",
            "weight adjusted tensor(0.5581, dtype=torch.float64, grad_fn=<DivBackward0>)\n",
            "Epoch: 2, loss: 0.13772, train_acc: 0.50\n",
            "weight adjusted tensor(0.5581, dtype=torch.float64, grad_fn=<DivBackward0>)\n",
            "Epoch: 3, loss: 0.13384, train_acc: 0.50\n",
            "weight adjusted tensor(0.5581, dtype=torch.float64, grad_fn=<DivBackward0>)\n",
            "Epoch: 4, loss: 0.13361, train_acc: 0.50\n",
            "weight adjusted tensor(0.5581, dtype=torch.float64, grad_fn=<DivBackward0>)\n",
            "Epoch: 5, loss: 0.13363, train_acc: 0.50\n",
            "weight adjusted tensor(0.5581, dtype=torch.float64, grad_fn=<DivBackward0>)\n",
            "Epoch: 6, loss: 0.13209, train_acc: 0.50\n",
            "weight adjusted tensor(0.5581, dtype=torch.float64, grad_fn=<DivBackward0>)\n",
            "Epoch: 7, loss: 0.13017, train_acc: 0.57\n",
            "weight adjusted tensor(0.5581, dtype=torch.float64, grad_fn=<DivBackward0>)\n",
            "Epoch: 8, loss: 0.12864, train_acc: 0.61\n",
            "weight adjusted tensor(0.5581, dtype=torch.float64, grad_fn=<DivBackward0>)\n",
            "Epoch: 9, loss: 0.12724, train_acc: 0.55\n",
            "weight adjusted tensor(0.5581, dtype=torch.float64, grad_fn=<DivBackward0>)\n",
            "Epoch: 10, loss: 0.12498, train_acc: 0.55\n",
            "weight adjusted tensor(0.5581, dtype=torch.float64, grad_fn=<DivBackward0>)\n",
            "Epoch: 11, loss: 0.12129, train_acc: 0.60\n",
            "weight adjusted tensor(0.5581, dtype=torch.float64, grad_fn=<DivBackward0>)\n",
            "Epoch: 12, loss: 0.11641, train_acc: 0.68\n",
            "weight adjusted tensor(0.5582, dtype=torch.float64, grad_fn=<DivBackward0>)\n",
            "Epoch: 13, loss: 0.11060, train_acc: 0.69\n",
            "weight adjusted tensor(0.5582, dtype=torch.float64, grad_fn=<DivBackward0>)\n",
            "Epoch: 14, loss: 0.10207, train_acc: 0.70\n",
            "weight adjusted tensor(0.5582, dtype=torch.float64, grad_fn=<DivBackward0>)\n",
            "Epoch: 15, loss: 0.08689, train_acc: 0.71\n",
            "weight adjusted tensor(0.5582, dtype=torch.float64, grad_fn=<DivBackward0>)\n",
            "Epoch: 16, loss: 0.06706, train_acc: 0.67\n",
            "weight adjusted tensor(0.5583, dtype=torch.float64, grad_fn=<DivBackward0>)\n",
            "Epoch: 17, loss: 0.02710, train_acc: 0.71\n",
            "weight adjusted tensor(0.5583, dtype=torch.float64, grad_fn=<DivBackward0>)\n",
            "Epoch: 18, loss: 0.22067, train_acc: 0.65\n",
            "weight adjusted tensor(0.5584, dtype=torch.float64, grad_fn=<DivBackward0>)\n",
            "Epoch: 19, loss: 0.04470, train_acc: 0.66\n",
            "weight adjusted tensor(0.5584, dtype=torch.float64, grad_fn=<DivBackward0>)\n",
            "Epoch: 20, loss: 0.07330, train_acc: 0.64\n",
            "weight adjusted tensor(0.5584, dtype=torch.float64, grad_fn=<DivBackward0>)\n",
            "Epoch: 21, loss: 0.04947, train_acc: 0.66\n",
            "weight adjusted tensor(0.5585, dtype=torch.float64, grad_fn=<DivBackward0>)\n",
            "Epoch: 22, loss: 0.03833, train_acc: 0.72\n",
            "weight adjusted tensor(0.5585, dtype=torch.float64, grad_fn=<DivBackward0>)\n",
            "Epoch: 23, loss: 0.03563, train_acc: 0.79\n",
            "weight adjusted tensor(0.5585, dtype=torch.float64, grad_fn=<DivBackward0>)\n",
            "Epoch: 24, loss: 0.03581, train_acc: 0.82\n",
            "weight adjusted tensor(0.5586, dtype=torch.float64, grad_fn=<DivBackward0>)\n",
            "Epoch: 25, loss: 0.03677, train_acc: 0.80\n",
            "Finished Training\n"
          ]
        }
      ]
    },
    {
      "cell_type": "code",
      "source": [
        "new_fasttext_sg_acc2 = classification(np.array(list(new_fasttext_sg_emb2.values())))"
      ],
      "metadata": {
        "colab": {
          "base_uri": "https://localhost:8080/"
        },
        "id": "-2YBky3aFw5M",
        "outputId": "8d763cd0-045d-4afc-8cc1-bdb4a0104ca2"
      },
      "execution_count": null,
      "outputs": [
        {
          "output_type": "stream",
          "name": "stdout",
          "text": [
            "Epoch: 1, loss: 1.38657, train_acc: 0.51\n",
            "Epoch: 2, loss: 1.40211, train_acc: 0.51\n",
            "Epoch: 3, loss: 1.38923, train_acc: 0.49\n",
            "Epoch: 4, loss: 1.34779, train_acc: 0.53\n",
            "Epoch: 5, loss: 1.33421, train_acc: 0.64\n",
            "Epoch: 6, loss: 1.32466, train_acc: 0.53\n",
            "Epoch: 7, loss: 1.28893, train_acc: 0.61\n",
            "Epoch: 8, loss: 1.21894, train_acc: 0.82\n",
            "Epoch: 9, loss: 2.12332, train_acc: 0.66\n",
            "Epoch: 10, loss: 1.47974, train_acc: 0.49\n",
            "Epoch: 11, loss: 1.51658, train_acc: 0.49\n",
            "Epoch: 12, loss: 1.43221, train_acc: 0.49\n",
            "Epoch: 13, loss: 1.35848, train_acc: 0.49\n",
            "Epoch: 14, loss: 1.30741, train_acc: 0.59\n",
            "Epoch: 15, loss: 1.27761, train_acc: 0.60\n",
            "Epoch: 16, loss: 1.37186, train_acc: 0.61\n",
            "Epoch: 17, loss: 1.27791, train_acc: 0.67\n",
            "Epoch: 18, loss: 1.27946, train_acc: 0.70\n",
            "Epoch: 19, loss: 1.27999, train_acc: 0.74\n",
            "Epoch: 20, loss: 1.27629, train_acc: 0.73\n",
            "Epoch: 21, loss: 1.26692, train_acc: 0.71\n",
            "Epoch: 22, loss: 1.24897, train_acc: 0.72\n",
            "Epoch: 23, loss: 1.21653, train_acc: 0.73\n",
            "Epoch: 24, loss: 1.16512, train_acc: 0.73\n",
            "Epoch: 25, loss: 1.15267, train_acc: 0.65\n",
            "Finished Training\n",
            "              precision    recall  f1-score   support\n",
            "\n",
            "           0       0.68      0.91      0.78       132\n",
            "           1       0.84      0.52      0.64       118\n",
            "\n",
            "    accuracy                           0.72       250\n",
            "   macro avg       0.76      0.71      0.71       250\n",
            "weighted avg       0.75      0.72      0.71       250\n",
            "\n"
          ]
        }
      ]
    },
    {
      "cell_type": "code",
      "source": [
        "new_fasttext_sg_emb3 = update_embedding3(fasttext_sg_emb)"
      ],
      "metadata": {
        "colab": {
          "base_uri": "https://localhost:8080/"
        },
        "id": "7ukLF7taFfxJ",
        "outputId": "ebed09d1-460c-48ff-c869-0299952ff45b"
      },
      "execution_count": null,
      "outputs": [
        {
          "output_type": "stream",
          "name": "stdout",
          "text": [
            "sparsemans loss -1.90059405040544\n",
            "word analogy weight adjusted tensor(55.8022, dtype=torch.float64, grad_fn=<DivBackward0>)\n",
            "Epoch: 1, loss: -57.00965, train_acc: 0.50\n",
            "sparsemans loss -1.8944081991591306\n",
            "word analogy weight adjusted tensor(55.7997, dtype=torch.float64, grad_fn=<DivBackward0>)\n",
            "Epoch: 2, loss: -56.99898, train_acc: 0.50\n",
            "sparsemans loss -1.8997450767564492\n",
            "word analogy weight adjusted tensor(55.7991, dtype=torch.float64, grad_fn=<DivBackward0>)\n",
            "Epoch: 3, loss: -57.00714, train_acc: 0.55\n",
            "sparsemans loss -1.8961988953868019\n",
            "word analogy weight adjusted tensor(55.7972, dtype=torch.float64, grad_fn=<DivBackward0>)\n",
            "Epoch: 4, loss: -57.00134, train_acc: 0.50\n",
            "sparsemans loss -1.8716914840457342\n",
            "word analogy weight adjusted tensor(55.7917, dtype=torch.float64, grad_fn=<DivBackward0>)\n",
            "Epoch: 5, loss: -56.97184, train_acc: 0.50\n",
            "sparsemans loss -1.8579242822092195\n",
            "word analogy weight adjusted tensor(55.7850, dtype=torch.float64, grad_fn=<DivBackward0>)\n",
            "Epoch: 6, loss: -56.95325, train_acc: 0.51\n",
            "sparsemans loss -1.846572576727595\n",
            "word analogy weight adjusted tensor(55.7794, dtype=torch.float64, grad_fn=<DivBackward0>)\n",
            "Epoch: 7, loss: -56.93813, train_acc: 0.63\n",
            "sparsemans loss -1.8285371461127928\n",
            "word analogy weight adjusted tensor(55.7757, dtype=torch.float64, grad_fn=<DivBackward0>)\n",
            "Epoch: 8, loss: -56.91782, train_acc: 0.56\n",
            "sparsemans loss -1.8192514503035493\n",
            "word analogy weight adjusted tensor(55.7740, dtype=torch.float64, grad_fn=<DivBackward0>)\n",
            "Epoch: 9, loss: -56.90849, train_acc: 0.54\n",
            "sparsemans loss -1.8066257077666938\n",
            "word analogy weight adjusted tensor(55.7739, dtype=torch.float64, grad_fn=<DivBackward0>)\n",
            "Epoch: 10, loss: -56.89893, train_acc: 0.57\n",
            "sparsemans loss -1.8096681145340017\n",
            "word analogy weight adjusted tensor(55.7756, dtype=torch.float64, grad_fn=<DivBackward0>)\n",
            "Epoch: 11, loss: -56.90818, train_acc: 0.64\n",
            "sparsemans loss -1.7893337770898248\n",
            "word analogy weight adjusted tensor(55.7785, dtype=torch.float64, grad_fn=<DivBackward0>)\n",
            "Epoch: 12, loss: -56.89627, train_acc: 0.68\n",
            "sparsemans loss -1.7747919380281016\n",
            "word analogy weight adjusted tensor(55.7820, dtype=torch.float64, grad_fn=<DivBackward0>)\n",
            "Epoch: 13, loss: -56.89266, train_acc: 0.69\n",
            "sparsemans loss -1.704686250874456\n",
            "word analogy weight adjusted tensor(55.7849, dtype=torch.float64, grad_fn=<DivBackward0>)\n",
            "Epoch: 14, loss: -56.83875, train_acc: 0.72\n",
            "sparsemans loss -1.761452582219023\n",
            "word analogy weight adjusted tensor(55.7873, dtype=torch.float64, grad_fn=<DivBackward0>)\n",
            "Epoch: 15, loss: -56.91895, train_acc: 0.68\n",
            "sparsemans loss -1.7426130350303837\n",
            "word analogy weight adjusted tensor(55.7933, dtype=torch.float64, grad_fn=<DivBackward0>)\n",
            "Epoch: 16, loss: -56.94199, train_acc: 0.67\n",
            "sparsemans loss -1.7440385783932233\n",
            "word analogy weight adjusted tensor(55.8000, dtype=torch.float64, grad_fn=<DivBackward0>)\n",
            "Epoch: 17, loss: -56.52467, train_acc: 0.51\n",
            "sparsemans loss -1.7314879626828867\n",
            "word analogy weight adjusted tensor(55.7846, dtype=torch.float64, grad_fn=<DivBackward0>)\n",
            "Epoch: 18, loss: -56.94075, train_acc: 0.73\n",
            "sparsemans loss -1.7144918630086763\n",
            "word analogy weight adjusted tensor(55.7739, dtype=torch.float64, grad_fn=<DivBackward0>)\n",
            "Epoch: 19, loss: -56.89041, train_acc: 0.65\n",
            "sparsemans loss -1.708988690587456\n",
            "word analogy weight adjusted tensor(55.7679, dtype=torch.float64, grad_fn=<DivBackward0>)\n",
            "Epoch: 20, loss: -56.85681, train_acc: 0.59\n",
            "sparsemans loss -1.6906014966330896\n",
            "word analogy weight adjusted tensor(55.7656, dtype=torch.float64, grad_fn=<DivBackward0>)\n",
            "Epoch: 21, loss: -56.84219, train_acc: 0.59\n",
            "sparsemans loss -1.7029695111141356\n",
            "word analogy weight adjusted tensor(55.7661, dtype=torch.float64, grad_fn=<DivBackward0>)\n",
            "Epoch: 22, loss: -56.86115, train_acc: 0.63\n",
            "sparsemans loss -1.6844829696505499\n",
            "word analogy weight adjusted tensor(55.7684, dtype=torch.float64, grad_fn=<DivBackward0>)\n",
            "Epoch: 23, loss: -56.85000, train_acc: 0.69\n",
            "sparsemans loss -1.6756715636406114\n",
            "word analogy weight adjusted tensor(55.7716, dtype=torch.float64, grad_fn=<DivBackward0>)\n",
            "Epoch: 24, loss: -56.84877, train_acc: 0.74\n",
            "sparsemans loss -1.6624364650066903\n",
            "word analogy weight adjusted tensor(55.7753, dtype=torch.float64, grad_fn=<DivBackward0>)\n",
            "Epoch: 25, loss: -56.84239, train_acc: 0.73\n",
            "Finished Training\n"
          ]
        }
      ]
    },
    {
      "cell_type": "code",
      "source": [
        "new_fasttext_sg_acc3 = classification(np.array(list(new_fasttext_sg_emb3.values())))"
      ],
      "metadata": {
        "colab": {
          "base_uri": "https://localhost:8080/"
        },
        "id": "hB_7DL1VFxkA",
        "outputId": "f51325a4-b0d1-4631-e520-6834810ddb68"
      },
      "execution_count": null,
      "outputs": [
        {
          "output_type": "stream",
          "name": "stdout",
          "text": [
            "Epoch: 1, loss: 1.38675, train_acc: 0.51\n",
            "Epoch: 2, loss: 1.34147, train_acc: 0.55\n",
            "Epoch: 3, loss: 1.42465, train_acc: 0.51\n",
            "Epoch: 4, loss: 1.38234, train_acc: 0.49\n",
            "Epoch: 5, loss: 1.32938, train_acc: 0.50\n",
            "Epoch: 6, loss: 1.31060, train_acc: 0.74\n",
            "Epoch: 7, loss: 1.30738, train_acc: 0.65\n",
            "Epoch: 8, loss: 1.30593, train_acc: 0.55\n",
            "Epoch: 9, loss: 1.28323, train_acc: 0.59\n",
            "Epoch: 10, loss: 1.23720, train_acc: 0.72\n",
            "Epoch: 11, loss: 1.18486, train_acc: 0.81\n",
            "Epoch: 12, loss: 1.00065, train_acc: 0.81\n",
            "Epoch: 13, loss: 4.53466, train_acc: 0.51\n",
            "Epoch: 14, loss: 1.31599, train_acc: 0.67\n",
            "Epoch: 15, loss: 2.06187, train_acc: 0.49\n",
            "Epoch: 16, loss: 1.74033, train_acc: 0.49\n",
            "Epoch: 17, loss: 1.48807, train_acc: 0.49\n",
            "Epoch: 18, loss: 1.35790, train_acc: 0.49\n",
            "Epoch: 19, loss: 1.29848, train_acc: 0.56\n",
            "Epoch: 20, loss: 1.27908, train_acc: 0.72\n",
            "Epoch: 21, loss: 1.28404, train_acc: 0.71\n",
            "Epoch: 22, loss: 1.30122, train_acc: 0.58\n",
            "Epoch: 23, loss: 1.31249, train_acc: 0.54\n",
            "Epoch: 24, loss: 1.30621, train_acc: 0.53\n",
            "Epoch: 25, loss: 1.29285, train_acc: 0.56\n",
            "Finished Training\n",
            "              precision    recall  f1-score   support\n",
            "\n",
            "           0       0.86      0.23      0.36       132\n",
            "           1       0.53      0.96      0.68       118\n",
            "\n",
            "    accuracy                           0.57       250\n",
            "   macro avg       0.69      0.59      0.52       250\n",
            "weighted avg       0.70      0.57      0.51       250\n",
            "\n"
          ]
        }
      ]
    },
    {
      "cell_type": "markdown",
      "source": [
        "### CBOW FastText"
      ],
      "metadata": {
        "id": "YCTzx5MkVnbh"
      }
    },
    {
      "cell_type": "code",
      "source": [
        "from gensim.models import FastText\n",
        "fasttext_cbow_model = FastText(sentences = text_final, size=100, window=5, min_count=5, workers=2, sg=0)"
      ],
      "metadata": {
        "id": "epkvJxfYVqZq"
      },
      "execution_count": null,
      "outputs": []
    },
    {
      "cell_type": "code",
      "source": [
        "fasttext_cbow_emb = original_embedding(fasttext_cbow_model.wv)"
      ],
      "metadata": {
        "id": "2FucVjVoVqZr"
      },
      "execution_count": null,
      "outputs": []
    },
    {
      "cell_type": "code",
      "source": [
        "original_fasttext_cbow_acc = classification(fasttext_cbow_emb)"
      ],
      "metadata": {
        "colab": {
          "base_uri": "https://localhost:8080/"
        },
        "outputId": "89d500b1-ef32-488f-cffa-71104aeaeb4f",
        "id": "WJcXIpWdVqZr"
      },
      "execution_count": null,
      "outputs": [
        {
          "output_type": "stream",
          "name": "stdout",
          "text": [
            "Epoch: 1, loss: 1.38772, train_acc: 0.49\n",
            "Epoch: 2, loss: 2.55299, train_acc: 0.51\n",
            "Epoch: 3, loss: 1.39202, train_acc: 0.51\n",
            "Epoch: 4, loss: 1.44592, train_acc: 0.49\n",
            "Epoch: 5, loss: 1.42329, train_acc: 0.49\n",
            "Epoch: 6, loss: 1.38875, train_acc: 0.49\n",
            "Epoch: 7, loss: 1.39399, train_acc: 0.51\n",
            "Epoch: 8, loss: 1.40435, train_acc: 0.51\n",
            "Epoch: 9, loss: 1.39679, train_acc: 0.51\n",
            "Epoch: 10, loss: 1.38883, train_acc: 0.51\n",
            "Epoch: 11, loss: 1.38559, train_acc: 0.51\n",
            "Epoch: 12, loss: 1.38547, train_acc: 0.51\n",
            "Epoch: 13, loss: 1.38637, train_acc: 0.50\n",
            "Epoch: 14, loss: 1.38693, train_acc: 0.49\n",
            "Epoch: 15, loss: 1.38670, train_acc: 0.50\n",
            "Epoch: 16, loss: 1.38600, train_acc: 0.51\n",
            "Epoch: 17, loss: 1.38537, train_acc: 0.53\n",
            "Epoch: 18, loss: 1.38515, train_acc: 0.51\n",
            "Epoch: 19, loss: 1.38535, train_acc: 0.51\n",
            "Epoch: 20, loss: 1.38573, train_acc: 0.51\n",
            "Epoch: 21, loss: 1.38603, train_acc: 0.51\n",
            "Epoch: 22, loss: 1.38605, train_acc: 0.51\n",
            "Epoch: 23, loss: 1.38578, train_acc: 0.52\n",
            "Epoch: 24, loss: 1.38533, train_acc: 0.51\n",
            "Epoch: 25, loss: 1.38492, train_acc: 0.52\n",
            "Finished Training\n",
            "              precision    recall  f1-score   support\n",
            "\n",
            "           0       0.56      0.38      0.45       132\n",
            "           1       0.49      0.67      0.57       118\n",
            "\n",
            "    accuracy                           0.52       250\n",
            "   macro avg       0.53      0.52      0.51       250\n",
            "weighted avg       0.53      0.52      0.51       250\n",
            "\n"
          ]
        }
      ]
    },
    {
      "cell_type": "code",
      "source": [
        "new_fasttext_cbow_emb0 = update_embedding0(fasttext_cbow_emb)"
      ],
      "metadata": {
        "colab": {
          "base_uri": "https://localhost:8080/"
        },
        "outputId": "e6e84829-d643-4aa8-a673-89039d2ed05c",
        "id": "dddDOms0VqZr"
      },
      "execution_count": null,
      "outputs": [
        {
          "output_type": "stream",
          "name": "stdout",
          "text": [
            "weight adjusted tensor(124.7636, dtype=torch.float64, grad_fn=<DivBackward0>)\n",
            "Epoch: 1, loss: 0.69407, train_acc: 0.50\n",
            "weight adjusted tensor(124.7623, dtype=torch.float64, grad_fn=<DivBackward0>)\n",
            "Epoch: 2, loss: 0.70304, train_acc: 0.50\n",
            "weight adjusted tensor(124.7688, dtype=torch.float64, grad_fn=<DivBackward0>)\n",
            "Epoch: 3, loss: 0.69359, train_acc: 0.50\n",
            "weight adjusted tensor(124.7778, dtype=torch.float64, grad_fn=<DivBackward0>)\n",
            "Epoch: 4, loss: 0.69323, train_acc: 0.50\n",
            "weight adjusted tensor(124.7836, dtype=torch.float64, grad_fn=<DivBackward0>)\n",
            "Epoch: 5, loss: 0.69546, train_acc: 0.50\n",
            "weight adjusted tensor(124.7858, dtype=torch.float64, grad_fn=<DivBackward0>)\n",
            "Epoch: 6, loss: 0.69447, train_acc: 0.50\n",
            "weight adjusted tensor(124.7875, dtype=torch.float64, grad_fn=<DivBackward0>)\n",
            "Epoch: 7, loss: 0.69230, train_acc: 0.50\n",
            "weight adjusted tensor(124.7907, dtype=torch.float64, grad_fn=<DivBackward0>)\n",
            "Epoch: 8, loss: 0.69093, train_acc: 0.50\n",
            "weight adjusted tensor(124.7962, dtype=torch.float64, grad_fn=<DivBackward0>)\n",
            "Epoch: 9, loss: 0.69073, train_acc: 0.50\n",
            "weight adjusted tensor(124.8038, dtype=torch.float64, grad_fn=<DivBackward0>)\n",
            "Epoch: 10, loss: 0.69094, train_acc: 0.50\n",
            "weight adjusted tensor(124.8148, dtype=torch.float64, grad_fn=<DivBackward0>)\n",
            "Epoch: 11, loss: 0.69065, train_acc: 0.50\n",
            "weight adjusted tensor(124.8255, dtype=torch.float64, grad_fn=<DivBackward0>)\n",
            "Epoch: 12, loss: 0.68966, train_acc: 0.50\n",
            "weight adjusted tensor(124.8374, dtype=torch.float64, grad_fn=<DivBackward0>)\n",
            "Epoch: 13, loss: 0.68831, train_acc: 0.50\n",
            "weight adjusted tensor(124.8503, dtype=torch.float64, grad_fn=<DivBackward0>)\n",
            "Epoch: 14, loss: 0.68697, train_acc: 0.68\n",
            "weight adjusted tensor(124.8644, dtype=torch.float64, grad_fn=<DivBackward0>)\n",
            "Epoch: 15, loss: 0.68579, train_acc: 0.65\n",
            "weight adjusted tensor(124.8794, dtype=torch.float64, grad_fn=<DivBackward0>)\n",
            "Epoch: 16, loss: 0.68464, train_acc: 0.52\n",
            "weight adjusted tensor(124.8952, dtype=torch.float64, grad_fn=<DivBackward0>)\n",
            "Epoch: 17, loss: 0.68320, train_acc: 0.51\n",
            "weight adjusted tensor(124.9120, dtype=torch.float64, grad_fn=<DivBackward0>)\n",
            "Epoch: 18, loss: 0.68112, train_acc: 0.51\n",
            "weight adjusted tensor(124.9314, dtype=torch.float64, grad_fn=<DivBackward0>)\n",
            "Epoch: 19, loss: 0.67823, train_acc: 0.57\n",
            "weight adjusted tensor(124.9518, dtype=torch.float64, grad_fn=<DivBackward0>)\n",
            "Epoch: 20, loss: 0.67458, train_acc: 0.82\n",
            "weight adjusted tensor(124.9781, dtype=torch.float64, grad_fn=<DivBackward0>)\n",
            "Epoch: 21, loss: 0.67028, train_acc: 0.91\n",
            "weight adjusted tensor(125.0045, dtype=torch.float64, grad_fn=<DivBackward0>)\n",
            "Epoch: 22, loss: 0.66508, train_acc: 0.79\n",
            "weight adjusted tensor(125.0342, dtype=torch.float64, grad_fn=<DivBackward0>)\n",
            "Epoch: 23, loss: 0.65779, train_acc: 0.78\n",
            "weight adjusted tensor(125.0666, dtype=torch.float64, grad_fn=<DivBackward0>)\n",
            "Epoch: 24, loss: 0.64693, train_acc: 0.91\n",
            "weight adjusted tensor(125.1009, dtype=torch.float64, grad_fn=<DivBackward0>)\n",
            "Epoch: 25, loss: 0.63239, train_acc: 0.90\n",
            "Finished Training\n"
          ]
        }
      ]
    },
    {
      "cell_type": "code",
      "source": [
        "new_fasttext_cbow_acc0 = classification(np.array(list(new_fasttext_cbow_emb0.values())))"
      ],
      "metadata": {
        "colab": {
          "base_uri": "https://localhost:8080/"
        },
        "outputId": "c627e39f-c48a-4733-f8d8-65ccbdd4f012",
        "id": "-Lw6f9afVqZr"
      },
      "execution_count": null,
      "outputs": [
        {
          "output_type": "stream",
          "name": "stdout",
          "text": [
            "Epoch: 1, loss: 1.38994, train_acc: 0.49\n",
            "Epoch: 2, loss: 2.01311, train_acc: 0.51\n",
            "Epoch: 3, loss: 1.37400, train_acc: 0.52\n",
            "Epoch: 4, loss: 1.42297, train_acc: 0.49\n",
            "Epoch: 5, loss: 1.40071, train_acc: 0.49\n",
            "Epoch: 6, loss: 1.37598, train_acc: 0.49\n",
            "Epoch: 7, loss: 1.37738, train_acc: 0.51\n",
            "Epoch: 8, loss: 1.38681, train_acc: 0.51\n",
            "Epoch: 9, loss: 1.38209, train_acc: 0.51\n",
            "Epoch: 10, loss: 1.37298, train_acc: 0.51\n",
            "Epoch: 11, loss: 1.36702, train_acc: 0.53\n",
            "Epoch: 12, loss: 1.36459, train_acc: 0.61\n",
            "Epoch: 13, loss: 1.36374, train_acc: 0.60\n",
            "Epoch: 14, loss: 1.36165, train_acc: 0.50\n",
            "Epoch: 15, loss: 1.35580, train_acc: 0.54\n",
            "Epoch: 16, loss: 1.34585, train_acc: 0.69\n",
            "Epoch: 17, loss: 1.33381, train_acc: 0.84\n",
            "Epoch: 18, loss: 1.32035, train_acc: 0.68\n",
            "Epoch: 19, loss: 1.29598, train_acc: 0.72\n",
            "Epoch: 20, loss: 1.25746, train_acc: 0.89\n",
            "Epoch: 21, loss: 1.18889, train_acc: 0.85\n",
            "Epoch: 22, loss: 1.60519, train_acc: 0.51\n",
            "Epoch: 23, loss: 1.26513, train_acc: 0.51\n",
            "Epoch: 24, loss: 1.18100, train_acc: 0.80\n",
            "Epoch: 25, loss: 1.22545, train_acc: 0.61\n",
            "Finished Training\n",
            "              precision    recall  f1-score   support\n",
            "\n",
            "           0       1.00      0.27      0.43       132\n",
            "           1       0.55      1.00      0.71       118\n",
            "\n",
            "    accuracy                           0.62       250\n",
            "   macro avg       0.78      0.64      0.57       250\n",
            "weighted avg       0.79      0.62      0.56       250\n",
            "\n"
          ]
        }
      ]
    },
    {
      "cell_type": "code",
      "source": [
        "new_fasttext_cbow_emb1 = update_embedding1(fasttext_cbow_emb)"
      ],
      "metadata": {
        "colab": {
          "base_uri": "https://localhost:8080/"
        },
        "outputId": "8a8da9eb-73d3-46a1-de97-023398844770",
        "id": "-z3hDSyCVqZr"
      },
      "execution_count": null,
      "outputs": [
        {
          "output_type": "stream",
          "name": "stdout",
          "text": [
            "sparsemans loss -1.4949569395015492\n",
            "Epoch: 1, loss: -0.80100, train_acc: 0.50\n",
            "sparsemans loss -1.4907698149875188\n",
            "Epoch: 2, loss: -0.78804, train_acc: 0.50\n",
            "sparsemans loss -1.4861462470842848\n",
            "Epoch: 3, loss: -0.79261, train_acc: 0.50\n",
            "sparsemans loss -1.4880540833879483\n",
            "Epoch: 4, loss: -0.79489, train_acc: 0.50\n",
            "sparsemans loss -1.4490231950814858\n",
            "Epoch: 5, loss: -0.75381, train_acc: 0.50\n",
            "sparsemans loss -1.485635697257125\n",
            "Epoch: 6, loss: -0.79143, train_acc: 0.50\n",
            "sparsemans loss -1.4847552243676272\n",
            "Epoch: 7, loss: -0.79260, train_acc: 0.50\n",
            "sparsemans loss -1.4826713391432313\n",
            "Epoch: 8, loss: -0.79173, train_acc: 0.81\n",
            "sparsemans loss -1.444080815823441\n",
            "Epoch: 9, loss: -0.75328, train_acc: 0.50\n",
            "sparsemans loss -1.4751792297387172\n",
            "Epoch: 10, loss: -0.78422, train_acc: 0.50\n",
            "sparsemans loss -1.4762070128746156\n",
            "Epoch: 11, loss: -0.78565, train_acc: 0.50\n",
            "sparsemans loss -1.481781320445207\n",
            "Epoch: 12, loss: -0.79229, train_acc: 0.50\n",
            "sparsemans loss -1.4732064706001924\n",
            "Epoch: 13, loss: -0.78511, train_acc: 0.50\n",
            "sparsemans loss -1.4612529305161832\n",
            "Epoch: 14, loss: -0.77454, train_acc: 0.58\n",
            "sparsemans loss -1.4469513945141428\n",
            "Epoch: 15, loss: -0.76149, train_acc: 0.81\n",
            "sparsemans loss -1.4445613996434759\n",
            "Epoch: 16, loss: -0.76042, train_acc: 0.51\n",
            "sparsemans loss -1.4391597522457142\n",
            "Epoch: 17, loss: -0.75676, train_acc: 0.50\n",
            "sparsemans loss -1.4481352709961794\n",
            "Epoch: 18, loss: -0.76832, train_acc: 0.51\n",
            "sparsemans loss -1.4522546594951407\n",
            "Epoch: 19, loss: -0.77604, train_acc: 0.80\n",
            "sparsemans loss -1.3886836415603663\n",
            "Epoch: 20, loss: -0.71704, train_acc: 0.91\n",
            "sparsemans loss -1.414340870923011\n",
            "Epoch: 21, loss: -0.74825, train_acc: 0.70\n",
            "sparsemans loss -1.4072539255348995\n",
            "Epoch: 22, loss: -0.74887, train_acc: 0.64\n",
            "sparsemans loss -1.4106858198382044\n",
            "Epoch: 23, loss: -0.76502, train_acc: 0.83\n",
            "sparsemans loss -1.4020335145033347\n",
            "Epoch: 24, loss: -0.77490, train_acc: 0.93\n",
            "sparsemans loss -1.4038729137176051\n",
            "Epoch: 25, loss: -0.81007, train_acc: 0.94\n",
            "Finished Training\n"
          ]
        }
      ]
    },
    {
      "cell_type": "code",
      "source": [
        "new_fasttext_cbow_acc1 = classification(np.array(list(new_fasttext_cbow_emb1.values())))"
      ],
      "metadata": {
        "colab": {
          "base_uri": "https://localhost:8080/"
        },
        "outputId": "cbd780b9-3ce7-4c14-c8f5-16d7fb5f14ba",
        "id": "cgzDk8eDVqZr"
      },
      "execution_count": null,
      "outputs": [
        {
          "output_type": "stream",
          "name": "stdout",
          "text": [
            "Epoch: 1, loss: 1.38869, train_acc: 0.49\n",
            "Epoch: 2, loss: 1.88953, train_acc: 0.51\n",
            "Epoch: 3, loss: 1.36667, train_acc: 0.58\n",
            "Epoch: 4, loss: 1.41716, train_acc: 0.49\n",
            "Epoch: 5, loss: 1.38889, train_acc: 0.49\n",
            "Epoch: 6, loss: 1.37123, train_acc: 0.64\n",
            "Epoch: 7, loss: 1.38609, train_acc: 0.51\n",
            "Epoch: 8, loss: 1.38024, train_acc: 0.51\n",
            "Epoch: 9, loss: 1.36812, train_acc: 0.51\n",
            "Epoch: 10, loss: 1.36242, train_acc: 0.70\n",
            "Epoch: 11, loss: 1.36141, train_acc: 0.60\n",
            "Epoch: 12, loss: 1.36030, train_acc: 0.49\n",
            "Epoch: 13, loss: 1.35444, train_acc: 0.50\n",
            "Epoch: 14, loss: 1.34304, train_acc: 0.65\n",
            "Epoch: 15, loss: 1.32853, train_acc: 0.78\n",
            "Epoch: 16, loss: 1.30994, train_acc: 0.74\n",
            "Epoch: 17, loss: 1.27182, train_acc: 0.84\n",
            "Epoch: 18, loss: 1.22553, train_acc: 0.66\n",
            "Epoch: 19, loss: 1.38885, train_acc: 0.51\n",
            "Epoch: 20, loss: 1.15134, train_acc: 0.74\n",
            "Epoch: 21, loss: 1.20928, train_acc: 0.54\n",
            "Epoch: 22, loss: 1.15948, train_acc: 0.83\n",
            "Epoch: 23, loss: 1.21512, train_acc: 0.55\n",
            "Epoch: 24, loss: 1.17446, train_acc: 0.64\n",
            "Epoch: 25, loss: 1.08834, train_acc: 0.91\n",
            "Finished Training\n",
            "              precision    recall  f1-score   support\n",
            "\n",
            "           0       0.65      0.99      0.79       132\n",
            "           1       0.98      0.41      0.57       118\n",
            "\n",
            "    accuracy                           0.72       250\n",
            "   macro avg       0.82      0.70      0.68       250\n",
            "weighted avg       0.81      0.72      0.69       250\n",
            "\n"
          ]
        }
      ]
    },
    {
      "cell_type": "code",
      "source": [
        "new_fasttext_cbow_emb2 = update_embedding2(fasttext_cbow_emb)"
      ],
      "metadata": {
        "colab": {
          "base_uri": "https://localhost:8080/"
        },
        "outputId": "bfa7251c-65ce-484c-e7d5-1f8a2f8c8e39",
        "id": "kqRbgey-VqZr"
      },
      "execution_count": null,
      "outputs": [
        {
          "output_type": "stream",
          "name": "stdout",
          "text": [
            "weight adjusted tensor(1.2476, dtype=torch.float64, grad_fn=<DivBackward0>)\n",
            "Epoch: 1, loss: -0.55369, train_acc: 0.50\n",
            "weight adjusted tensor(1.2476, dtype=torch.float64, grad_fn=<DivBackward0>)\n",
            "Epoch: 2, loss: -0.54366, train_acc: 0.50\n",
            "weight adjusted tensor(1.2477, dtype=torch.float64, grad_fn=<DivBackward0>)\n",
            "Epoch: 3, loss: -0.55412, train_acc: 0.50\n",
            "weight adjusted tensor(1.2479, dtype=torch.float64, grad_fn=<DivBackward0>)\n",
            "Epoch: 4, loss: -0.55449, train_acc: 0.50\n",
            "weight adjusted tensor(1.2480, dtype=torch.float64, grad_fn=<DivBackward0>)\n",
            "Epoch: 5, loss: -0.55224, train_acc: 0.50\n",
            "weight adjusted tensor(1.2480, dtype=torch.float64, grad_fn=<DivBackward0>)\n",
            "Epoch: 6, loss: -0.55318, train_acc: 0.50\n",
            "weight adjusted tensor(1.2481, dtype=torch.float64, grad_fn=<DivBackward0>)\n",
            "Epoch: 7, loss: -0.55542, train_acc: 0.50\n",
            "weight adjusted tensor(1.2481, dtype=torch.float64, grad_fn=<DivBackward0>)\n",
            "Epoch: 8, loss: -0.55700, train_acc: 0.50\n",
            "weight adjusted tensor(1.2482, dtype=torch.float64, grad_fn=<DivBackward0>)\n",
            "Epoch: 9, loss: -0.55746, train_acc: 0.50\n",
            "weight adjusted tensor(1.2483, dtype=torch.float64, grad_fn=<DivBackward0>)\n",
            "Epoch: 10, loss: -0.55736, train_acc: 0.50\n",
            "weight adjusted tensor(1.2484, dtype=torch.float64, grad_fn=<DivBackward0>)\n",
            "Epoch: 11, loss: -0.55758, train_acc: 0.50\n",
            "weight adjusted tensor(1.2485, dtype=torch.float64, grad_fn=<DivBackward0>)\n",
            "Epoch: 12, loss: -0.55851, train_acc: 0.50\n",
            "weight adjusted tensor(1.2486, dtype=torch.float64, grad_fn=<DivBackward0>)\n",
            "Epoch: 13, loss: -0.55993, train_acc: 0.50\n",
            "weight adjusted tensor(1.2488, dtype=torch.float64, grad_fn=<DivBackward0>)\n",
            "Epoch: 14, loss: -0.56148, train_acc: 0.51\n",
            "weight adjusted tensor(1.2489, dtype=torch.float64, grad_fn=<DivBackward0>)\n",
            "Epoch: 15, loss: -0.56294, train_acc: 0.83\n",
            "weight adjusted tensor(1.2491, dtype=torch.float64, grad_fn=<DivBackward0>)\n",
            "Epoch: 16, loss: -0.56431, train_acc: 0.56\n",
            "weight adjusted tensor(1.2492, dtype=torch.float64, grad_fn=<DivBackward0>)\n",
            "Epoch: 17, loss: -0.56584, train_acc: 0.51\n",
            "weight adjusted tensor(1.2494, dtype=torch.float64, grad_fn=<DivBackward0>)\n",
            "Epoch: 18, loss: -0.56792, train_acc: 0.51\n",
            "weight adjusted tensor(1.2496, dtype=torch.float64, grad_fn=<DivBackward0>)\n",
            "Epoch: 19, loss: -0.57085, train_acc: 0.56\n",
            "weight adjusted tensor(1.2497, dtype=torch.float64, grad_fn=<DivBackward0>)\n",
            "Epoch: 20, loss: -0.57477, train_acc: 0.74\n",
            "weight adjusted tensor(1.2500, dtype=torch.float64, grad_fn=<DivBackward0>)\n",
            "Epoch: 21, loss: -0.57959, train_acc: 0.90\n",
            "weight adjusted tensor(1.2502, dtype=torch.float64, grad_fn=<DivBackward0>)\n",
            "Epoch: 22, loss: -0.58537, train_acc: 0.77\n",
            "weight adjusted tensor(1.2505, dtype=torch.float64, grad_fn=<DivBackward0>)\n",
            "Epoch: 23, loss: -0.59327, train_acc: 0.70\n",
            "weight adjusted tensor(1.2509, dtype=torch.float64, grad_fn=<DivBackward0>)\n",
            "Epoch: 24, loss: -0.60572, train_acc: 0.87\n",
            "weight adjusted tensor(1.2512, dtype=torch.float64, grad_fn=<DivBackward0>)\n",
            "Epoch: 25, loss: -0.62353, train_acc: 0.93\n",
            "Finished Training\n"
          ]
        }
      ]
    },
    {
      "cell_type": "code",
      "source": [
        "new_fasttext_cbow_acc2 = classification(np.array(list(new_fasttext_cbow_emb2.values())))"
      ],
      "metadata": {
        "colab": {
          "base_uri": "https://localhost:8080/"
        },
        "outputId": "4a20f2b9-63a3-4e0c-ef38-25c82ed27540",
        "id": "xTzBPE7lVqZr"
      },
      "execution_count": null,
      "outputs": [
        {
          "output_type": "stream",
          "name": "stdout",
          "text": [
            "Epoch: 1, loss: 1.38693, train_acc: 0.51\n",
            "Epoch: 2, loss: 1.35701, train_acc: 0.51\n",
            "Epoch: 3, loss: 1.42046, train_acc: 0.51\n",
            "Epoch: 4, loss: 1.65681, train_acc: 0.49\n",
            "Epoch: 5, loss: 1.34079, train_acc: 0.55\n",
            "Epoch: 6, loss: 1.33993, train_acc: 0.51\n",
            "Epoch: 7, loss: 1.36084, train_acc: 0.51\n",
            "Epoch: 8, loss: 1.35029, train_acc: 0.51\n",
            "Epoch: 9, loss: 1.33386, train_acc: 0.63\n",
            "Epoch: 10, loss: 1.33244, train_acc: 0.61\n",
            "Epoch: 11, loss: 1.33269, train_acc: 0.50\n",
            "Epoch: 12, loss: 1.31053, train_acc: 0.63\n",
            "Epoch: 13, loss: 1.28841, train_acc: 0.83\n",
            "Epoch: 14, loss: 1.27756, train_acc: 0.53\n",
            "Epoch: 15, loss: 1.21204, train_acc: 0.91\n",
            "Epoch: 16, loss: 1.24637, train_acc: 0.53\n",
            "Epoch: 17, loss: 1.21217, train_acc: 0.54\n",
            "Epoch: 18, loss: 1.12852, train_acc: 0.74\n",
            "Epoch: 19, loss: 1.09009, train_acc: 0.86\n",
            "Epoch: 20, loss: 1.07568, train_acc: 0.77\n",
            "Epoch: 21, loss: 0.97243, train_acc: 0.85\n",
            "Epoch: 22, loss: 0.89983, train_acc: 0.81\n",
            "Epoch: 23, loss: 1.02267, train_acc: 0.72\n",
            "Epoch: 24, loss: 2.53454, train_acc: 0.51\n",
            "Epoch: 25, loss: 1.11052, train_acc: 0.69\n",
            "Finished Training\n",
            "              precision    recall  f1-score   support\n",
            "\n",
            "           0       0.70      0.67      0.69       132\n",
            "           1       0.65      0.68      0.66       118\n",
            "\n",
            "    accuracy                           0.68       250\n",
            "   macro avg       0.68      0.68      0.68       250\n",
            "weighted avg       0.68      0.68      0.68       250\n",
            "\n"
          ]
        }
      ]
    },
    {
      "cell_type": "code",
      "source": [
        "new_fasttext_cbow_emb3 = update_embedding3(fasttext_cobw_emb)"
      ],
      "metadata": {
        "colab": {
          "base_uri": "https://localhost:8080/",
          "height": 166
        },
        "outputId": "01ddab43-7af3-49c1-802f-5edb1a2db4f5",
        "id": "IALSJ91HVqZr"
      },
      "execution_count": null,
      "outputs": [
        {
          "output_type": "error",
          "ename": "NameError",
          "evalue": "ignored",
          "traceback": [
            "\u001b[0;31m---------------------------------------------------------------------------\u001b[0m",
            "\u001b[0;31mNameError\u001b[0m                                 Traceback (most recent call last)",
            "\u001b[0;32m<ipython-input-144-196725829369>\u001b[0m in \u001b[0;36m<module>\u001b[0;34m()\u001b[0m\n\u001b[0;32m----> 1\u001b[0;31m \u001b[0mnew_fasttext_cbow_emb3\u001b[0m \u001b[0;34m=\u001b[0m \u001b[0mupdate_embedding3\u001b[0m\u001b[0;34m(\u001b[0m\u001b[0mfasttext_cobw_emb\u001b[0m\u001b[0;34m)\u001b[0m\u001b[0;34m\u001b[0m\u001b[0;34m\u001b[0m\u001b[0m\n\u001b[0m",
            "\u001b[0;31mNameError\u001b[0m: name 'fasttext_cobw_emb' is not defined"
          ]
        }
      ]
    },
    {
      "cell_type": "code",
      "source": [
        "new_fasttext_cbow_acc3 = classification(np.array(list(new_fasttext_cbow_emb3.values())))"
      ],
      "metadata": {
        "id": "qBkODnswVqZs"
      },
      "execution_count": null,
      "outputs": []
    },
    {
      "cell_type": "markdown",
      "source": [
        "### Glove Twitter"
      ],
      "metadata": {
        "id": "lmvhSqSrFPtI"
      }
    },
    {
      "cell_type": "code",
      "source": [
        "import gensim.downloader as api\n",
        "wv_emb_twitter_100 = api.load(\"glove-twitter-100\")"
      ],
      "metadata": {
        "colab": {
          "base_uri": "https://localhost:8080/"
        },
        "id": "UMg7-8w_FM3U",
        "outputId": "2756b85c-00f2-4a74-c7d2-443210eacbca"
      },
      "execution_count": null,
      "outputs": [
        {
          "output_type": "stream",
          "name": "stdout",
          "text": [
            "[==================================================] 100.0% 387.1/387.1MB downloaded\n"
          ]
        }
      ]
    },
    {
      "cell_type": "code",
      "source": [
        "wv_twitter_100_emb = original_embedding(wv_emb_twitter_100)"
      ],
      "metadata": {
        "id": "dPD50edPFSWO"
      },
      "execution_count": null,
      "outputs": []
    },
    {
      "cell_type": "code",
      "source": [
        "wv_twitter_100_emb = update_embedding4(wv_emb_twitter_100)"
      ],
      "metadata": {
        "id": "essWKRLK4VkD"
      },
      "execution_count": null,
      "outputs": []
    },
    {
      "cell_type": "code",
      "source": [
        "original_wv_twitter_100_acc = classification(wv_twitter_100_emb)"
      ],
      "metadata": {
        "colab": {
          "base_uri": "https://localhost:8080/"
        },
        "id": "VVhc2HFcFUS9",
        "outputId": "00e8f0a1-426a-49b7-819b-691359b4b7d0"
      },
      "execution_count": null,
      "outputs": [
        {
          "output_type": "stream",
          "name": "stdout",
          "text": [
            "Epoch: 1, loss: 0.69247, train_acc: 0.55\n",
            "Epoch: 2, loss: 0.68491, train_acc: 0.57\n",
            "Epoch: 3, loss: 0.67719, train_acc: 0.64\n",
            "Epoch: 4, loss: 0.66882, train_acc: 0.64\n",
            "Epoch: 5, loss: 0.65890, train_acc: 0.65\n",
            "Epoch: 6, loss: 0.64652, train_acc: 0.65\n",
            "Epoch: 7, loss: 0.63067, train_acc: 0.67\n",
            "Epoch: 8, loss: 0.60907, train_acc: 0.68\n",
            "Epoch: 9, loss: 0.57998, train_acc: 0.69\n",
            "Epoch: 10, loss: 0.55097, train_acc: 0.72\n",
            "Epoch: 11, loss: 0.69185, train_acc: 0.72\n",
            "Epoch: 12, loss: 0.57014, train_acc: 0.69\n",
            "Epoch: 13, loss: 0.57164, train_acc: 0.69\n",
            "Epoch: 14, loss: 0.52904, train_acc: 0.73\n",
            "Epoch: 15, loss: 0.52702, train_acc: 0.74\n",
            "Epoch: 16, loss: 0.54105, train_acc: 0.73\n",
            "Epoch: 17, loss: 0.54283, train_acc: 0.73\n",
            "Epoch: 18, loss: 0.52438, train_acc: 0.76\n",
            "Epoch: 19, loss: 0.50173, train_acc: 0.77\n",
            "Epoch: 20, loss: 0.49858, train_acc: 0.77\n",
            "Epoch: 21, loss: 0.49244, train_acc: 0.78\n",
            "Epoch: 22, loss: 0.47887, train_acc: 0.79\n",
            "Epoch: 23, loss: 0.48439, train_acc: 0.80\n",
            "Epoch: 24, loss: 0.48269, train_acc: 0.79\n",
            "Epoch: 25, loss: 0.48336, train_acc: 0.77\n",
            "Finished Training\n",
            "              precision    recall  f1-score   support\n",
            "\n",
            "           0       0.74      0.77      0.76       132\n",
            "           1       0.73      0.70      0.72       118\n",
            "\n",
            "    accuracy                           0.74       250\n",
            "   macro avg       0.74      0.74      0.74       250\n",
            "weighted avg       0.74      0.74      0.74       250\n",
            "\n"
          ]
        }
      ]
    },
    {
      "cell_type": "code",
      "source": [
        "new_wv_twitter_100_emb = update_embedding(wv_twitter_100_emb)"
      ],
      "metadata": {
        "colab": {
          "base_uri": "https://localhost:8080/"
        },
        "id": "XMntjaEWFV7v",
        "outputId": "717f53f2-518f-43c0-f26d-c9a7022921f0"
      },
      "execution_count": null,
      "outputs": [
        {
          "output_type": "stream",
          "name": "stdout",
          "text": [
            "weight adjusted tensor(178.3759, dtype=torch.float64, grad_fn=<DivBackward0>)\n",
            "Epoch: 1, loss: -177.68254, train_acc: 0.49\n",
            "weight adjusted tensor(178.3767, dtype=torch.float64, grad_fn=<DivBackward0>)\n",
            "Epoch: 2, loss: -177.69086, train_acc: 0.59\n",
            "weight adjusted tensor(178.4548, dtype=torch.float64, grad_fn=<DivBackward0>)\n",
            "Epoch: 3, loss: -177.77700, train_acc: 0.68\n",
            "weight adjusted tensor(178.5329, dtype=torch.float64, grad_fn=<DivBackward0>)\n",
            "Epoch: 4, loss: -177.86382, train_acc: 0.68\n",
            "weight adjusted tensor(178.4546, dtype=torch.float64, grad_fn=<DivBackward0>)\n",
            "Epoch: 5, loss: -177.79628, train_acc: 0.70\n",
            "weight adjusted tensor(178.5678, dtype=torch.float64, grad_fn=<DivBackward0>)\n",
            "Epoch: 6, loss: -177.92357, train_acc: 0.71\n",
            "weight adjusted tensor(178.4108, dtype=torch.float64, grad_fn=<DivBackward0>)\n",
            "Epoch: 7, loss: -177.78543, train_acc: 0.72\n",
            "weight adjusted tensor(178.4880, dtype=torch.float64, grad_fn=<DivBackward0>)\n",
            "Epoch: 8, loss: -177.89009, train_acc: 0.73\n",
            "weight adjusted tensor(178.4728, dtype=torch.float64, grad_fn=<DivBackward0>)\n",
            "Epoch: 9, loss: -177.91696, train_acc: 0.74\n",
            "weight adjusted tensor(178.3923, dtype=torch.float64, grad_fn=<DivBackward0>)\n",
            "Epoch: 10, loss: -177.89031, train_acc: 0.76\n",
            "weight adjusted tensor(178.6245, dtype=torch.float64, grad_fn=<DivBackward0>)\n",
            "Epoch: 11, loss: -177.95260, train_acc: 0.73\n",
            "weight adjusted tensor(178.8568, dtype=torch.float64, grad_fn=<DivBackward0>)\n",
            "Epoch: 12, loss: -178.11547, train_acc: 0.71\n",
            "weight adjusted tensor(178.8527, dtype=torch.float64, grad_fn=<DivBackward0>)\n",
            "Epoch: 13, loss: -178.35627, train_acc: 0.78\n",
            "weight adjusted tensor(178.8493, dtype=torch.float64, grad_fn=<DivBackward0>)\n",
            "Epoch: 14, loss: -178.35746, train_acc: 0.76\n",
            "weight adjusted tensor(178.8468, dtype=torch.float64, grad_fn=<DivBackward0>)\n",
            "Epoch: 15, loss: -178.32140, train_acc: 0.74\n",
            "weight adjusted tensor(179.0014, dtype=torch.float64, grad_fn=<DivBackward0>)\n",
            "Epoch: 16, loss: -178.46816, train_acc: 0.72\n",
            "weight adjusted tensor(179.0003, dtype=torch.float64, grad_fn=<DivBackward0>)\n",
            "Epoch: 17, loss: -178.47271, train_acc: 0.74\n",
            "weight adjusted tensor(178.7653, dtype=torch.float64, grad_fn=<DivBackward0>)\n",
            "Epoch: 18, loss: -178.24570, train_acc: 0.77\n",
            "weight adjusted tensor(178.6868, dtype=torch.float64, grad_fn=<DivBackward0>)\n",
            "Epoch: 19, loss: -178.17354, train_acc: 0.80\n",
            "weight adjusted tensor(178.6865, dtype=torch.float64, grad_fn=<DivBackward0>)\n",
            "Epoch: 20, loss: -178.17791, train_acc: 0.81\n",
            "weight adjusted tensor(178.3567, dtype=torch.float64, grad_fn=<DivBackward0>)\n",
            "Epoch: 21, loss: -177.85206, train_acc: 0.83\n",
            "weight adjusted tensor(178.1223, dtype=torch.float64, grad_fn=<DivBackward0>)\n",
            "Epoch: 22, loss: -177.62248, train_acc: 0.83\n",
            "weight adjusted tensor(178.2785, dtype=torch.float64, grad_fn=<DivBackward0>)\n",
            "Epoch: 23, loss: -177.78524, train_acc: 0.83\n",
            "weight adjusted tensor(178.3566, dtype=torch.float64, grad_fn=<DivBackward0>)\n",
            "Epoch: 24, loss: -177.87270, train_acc: 0.84\n",
            "weight adjusted tensor(178.4345, dtype=torch.float64, grad_fn=<DivBackward0>)\n",
            "Epoch: 25, loss: -177.96398, train_acc: 0.84\n",
            "Finished Training\n"
          ]
        }
      ]
    },
    {
      "cell_type": "code",
      "source": [
        "new_wv_twitter_100_acc = classification(np.array(list(new_wv_twitter_100_emb.values())))"
      ],
      "metadata": {
        "colab": {
          "base_uri": "https://localhost:8080/"
        },
        "id": "3YRy5d12hJtc",
        "outputId": "38186251-6abf-4416-e47b-493ba6069236"
      },
      "execution_count": null,
      "outputs": [
        {
          "output_type": "stream",
          "name": "stdout",
          "text": [
            "Epoch: 1, loss: 0.69147, train_acc: 0.52\n",
            "Epoch: 2, loss: 0.68041, train_acc: 0.65\n",
            "Epoch: 3, loss: 0.66873, train_acc: 0.68\n",
            "Epoch: 4, loss: 0.65552, train_acc: 0.72\n",
            "Epoch: 5, loss: 0.63955, train_acc: 0.71\n",
            "Epoch: 6, loss: 0.61873, train_acc: 0.72\n",
            "Epoch: 7, loss: 0.59034, train_acc: 0.74\n",
            "Epoch: 8, loss: 0.54948, train_acc: 0.75\n",
            "Epoch: 9, loss: 0.48956, train_acc: 0.77\n",
            "Epoch: 10, loss: 0.47611, train_acc: 0.78\n",
            "Epoch: 11, loss: 0.72179, train_acc: 0.75\n",
            "Epoch: 12, loss: 0.45080, train_acc: 0.79\n",
            "Epoch: 13, loss: 0.50928, train_acc: 0.73\n",
            "Epoch: 14, loss: 0.45852, train_acc: 0.78\n",
            "Epoch: 15, loss: 0.42565, train_acc: 0.83\n",
            "Epoch: 16, loss: 0.42779, train_acc: 0.82\n",
            "Epoch: 17, loss: 0.44414, train_acc: 0.83\n",
            "Epoch: 18, loss: 0.45745, train_acc: 0.82\n",
            "Epoch: 19, loss: 0.45783, train_acc: 0.81\n",
            "Epoch: 20, loss: 0.44559, train_acc: 0.82\n",
            "Epoch: 21, loss: 0.42789, train_acc: 0.84\n",
            "Epoch: 22, loss: 0.41112, train_acc: 0.85\n",
            "Epoch: 23, loss: 0.39779, train_acc: 0.85\n",
            "Epoch: 24, loss: 0.38639, train_acc: 0.85\n",
            "Epoch: 25, loss: 0.37097, train_acc: 0.85\n",
            "Finished Training\n",
            "              precision    recall  f1-score   support\n",
            "\n",
            "           0       0.89      0.81      0.85       132\n",
            "           1       0.81      0.89      0.85       118\n",
            "\n",
            "    accuracy                           0.85       250\n",
            "   macro avg       0.85      0.85      0.85       250\n",
            "weighted avg       0.85      0.85      0.85       250\n",
            "\n"
          ]
        }
      ]
    },
    {
      "cell_type": "markdown",
      "source": [
        "#### Tricks: Normalization"
      ],
      "metadata": {
        "id": "uNDpQQKLzB9X"
      }
    },
    {
      "cell_type": "code",
      "source": [
        "new_wv_twitter_100_emb = update_embedding2(wv_twitter_100_emb)"
      ],
      "metadata": {
        "colab": {
          "base_uri": "https://localhost:8080/"
        },
        "id": "au1PiKrphh1y",
        "outputId": "a4f77fac-aba6-427b-dfa8-447084a2f77f"
      },
      "execution_count": null,
      "outputs": [
        {
          "output_type": "stream",
          "name": "stdout",
          "text": [
            "weight adjusted tensor(1.7838, dtype=torch.float64, grad_fn=<DivBackward0>)\n",
            "Epoch: 1, loss: -1.09022, train_acc: 0.49\n",
            "weight adjusted tensor(1.7838, dtype=torch.float64, grad_fn=<DivBackward0>)\n",
            "Epoch: 2, loss: -1.09742, train_acc: 0.58\n",
            "weight adjusted tensor(1.7845, dtype=torch.float64, grad_fn=<DivBackward0>)\n",
            "Epoch: 3, loss: -1.10577, train_acc: 0.66\n",
            "weight adjusted tensor(1.7861, dtype=torch.float64, grad_fn=<DivBackward0>)\n",
            "Epoch: 4, loss: -1.11550, train_acc: 0.68\n",
            "weight adjusted tensor(1.7869, dtype=torch.float64, grad_fn=<DivBackward0>)\n",
            "Epoch: 5, loss: -1.12586, train_acc: 0.68\n",
            "weight adjusted tensor(1.7877, dtype=torch.float64, grad_fn=<DivBackward0>)\n",
            "Epoch: 6, loss: -1.13921, train_acc: 0.68\n",
            "weight adjusted tensor(1.7861, dtype=torch.float64, grad_fn=<DivBackward0>)\n",
            "Epoch: 7, loss: -1.15427, train_acc: 0.71\n",
            "weight adjusted tensor(1.7869, dtype=torch.float64, grad_fn=<DivBackward0>)\n",
            "Epoch: 8, loss: -1.17763, train_acc: 0.71\n",
            "weight adjusted tensor(1.7876, dtype=torch.float64, grad_fn=<DivBackward0>)\n",
            "Epoch: 9, loss: -1.21214, train_acc: 0.72\n",
            "weight adjusted tensor(1.7892, dtype=torch.float64, grad_fn=<DivBackward0>)\n",
            "Epoch: 10, loss: -1.26325, train_acc: 0.75\n",
            "weight adjusted tensor(1.7899, dtype=torch.float64, grad_fn=<DivBackward0>)\n",
            "Epoch: 11, loss: -1.25670, train_acc: 0.75\n",
            "weight adjusted tensor(1.7923, dtype=torch.float64, grad_fn=<DivBackward0>)\n",
            "Epoch: 12, loss: -1.31659, train_acc: 0.78\n",
            "weight adjusted tensor(1.7938, dtype=torch.float64, grad_fn=<DivBackward0>)\n",
            "Epoch: 13, loss: -1.30703, train_acc: 0.77\n",
            "weight adjusted tensor(1.7954, dtype=torch.float64, grad_fn=<DivBackward0>)\n",
            "Epoch: 14, loss: -1.34479, train_acc: 0.81\n",
            "weight adjusted tensor(1.7938, dtype=torch.float64, grad_fn=<DivBackward0>)\n",
            "Epoch: 15, loss: -1.33435, train_acc: 0.81\n",
            "weight adjusted tensor(1.7942, dtype=torch.float64, grad_fn=<DivBackward0>)\n",
            "Epoch: 16, loss: -1.35909, train_acc: 0.83\n",
            "weight adjusted tensor(1.7942, dtype=torch.float64, grad_fn=<DivBackward0>)\n",
            "Epoch: 17, loss: -1.39524, train_acc: 0.84\n",
            "weight adjusted tensor(1.7950, dtype=torch.float64, grad_fn=<DivBackward0>)\n",
            "Epoch: 18, loss: -1.41677, train_acc: 0.84\n",
            "weight adjusted tensor(1.7973, dtype=torch.float64, grad_fn=<DivBackward0>)\n",
            "Epoch: 19, loss: -1.45106, train_acc: 0.85\n",
            "weight adjusted tensor(1.7973, dtype=torch.float64, grad_fn=<DivBackward0>)\n",
            "Epoch: 20, loss: -1.47040, train_acc: 0.86\n",
            "weight adjusted tensor(1.7965, dtype=torch.float64, grad_fn=<DivBackward0>)\n",
            "Epoch: 21, loss: -1.48370, train_acc: 0.86\n",
            "weight adjusted tensor(1.7957, dtype=torch.float64, grad_fn=<DivBackward0>)\n",
            "Epoch: 22, loss: -1.50508, train_acc: 0.89\n",
            "weight adjusted tensor(1.7941, dtype=torch.float64, grad_fn=<DivBackward0>)\n",
            "Epoch: 23, loss: -1.51154, train_acc: 0.89\n",
            "weight adjusted tensor(1.7957, dtype=torch.float64, grad_fn=<DivBackward0>)\n",
            "Epoch: 24, loss: -1.53500, train_acc: 0.90\n",
            "weight adjusted tensor(1.7957, dtype=torch.float64, grad_fn=<DivBackward0>)\n",
            "Epoch: 25, loss: -1.56246, train_acc: 0.91\n",
            "Finished Training\n"
          ]
        }
      ]
    },
    {
      "cell_type": "code",
      "source": [
        "new_wv_twitter_100_acc = classification(np.array(list(new_wv_twitter_100_emb.values())))"
      ],
      "metadata": {
        "colab": {
          "base_uri": "https://localhost:8080/"
        },
        "id": "P2I1eEbxjg4K",
        "outputId": "65a4183f-28d2-43e5-ca85-04b7d271b43c"
      },
      "execution_count": null,
      "outputs": [
        {
          "output_type": "stream",
          "name": "stdout",
          "text": [
            "Epoch: 1, loss: 0.69275, train_acc: 0.52\n",
            "Epoch: 2, loss: 0.68252, train_acc: 0.62\n",
            "Epoch: 3, loss: 0.67214, train_acc: 0.68\n",
            "Epoch: 4, loss: 0.66041, train_acc: 0.71\n",
            "Epoch: 5, loss: 0.64615, train_acc: 0.73\n",
            "Epoch: 6, loss: 0.62763, train_acc: 0.73\n",
            "Epoch: 7, loss: 0.60222, train_acc: 0.75\n",
            "Epoch: 8, loss: 0.56505, train_acc: 0.76\n",
            "Epoch: 9, loss: 0.50527, train_acc: 0.78\n",
            "Epoch: 10, loss: 0.41376, train_acc: 0.81\n",
            "Epoch: 11, loss: 0.50615, train_acc: 0.79\n",
            "Epoch: 12, loss: 0.52596, train_acc: 0.80\n",
            "Epoch: 13, loss: 0.40977, train_acc: 0.83\n",
            "Epoch: 14, loss: 0.42078, train_acc: 0.82\n",
            "Epoch: 15, loss: 0.44753, train_acc: 0.80\n",
            "Epoch: 16, loss: 0.45412, train_acc: 0.80\n",
            "Epoch: 17, loss: 0.44617, train_acc: 0.82\n",
            "Epoch: 18, loss: 0.43203, train_acc: 0.83\n",
            "Epoch: 19, loss: 0.41658, train_acc: 0.85\n",
            "Epoch: 20, loss: 0.39904, train_acc: 0.87\n",
            "Epoch: 21, loss: 0.37248, train_acc: 0.87\n",
            "Epoch: 22, loss: 0.33222, train_acc: 0.87\n",
            "Epoch: 23, loss: 0.34239, train_acc: 0.86\n",
            "Epoch: 24, loss: 0.31395, train_acc: 0.87\n",
            "Epoch: 25, loss: 0.32697, train_acc: 0.85\n",
            "Finished Training\n",
            "              precision    recall  f1-score   support\n",
            "\n",
            "           0       0.80      0.90      0.85       132\n",
            "           1       0.87      0.75      0.81       118\n",
            "\n",
            "    accuracy                           0.83       250\n",
            "   macro avg       0.84      0.83      0.83       250\n",
            "weighted avg       0.84      0.83      0.83       250\n",
            "\n"
          ]
        }
      ]
    },
    {
      "cell_type": "code",
      "source": [
        "new_wv_twitter_100_acc = classification(np.array(list(new_wv_twitter_100_emb.values())))"
      ],
      "metadata": {
        "colab": {
          "base_uri": "https://localhost:8080/"
        },
        "id": "TeBw9-nbkWEL",
        "outputId": "ae4e272a-f216-4288-ef7e-7c37f85c9bab"
      },
      "execution_count": null,
      "outputs": [
        {
          "output_type": "stream",
          "name": "stdout",
          "text": [
            "Epoch: 1, loss: 0.69241, train_acc: 0.51\n",
            "Epoch: 2, loss: 0.68178, train_acc: 0.68\n",
            "Epoch: 3, loss: 0.67093, train_acc: 0.71\n",
            "Epoch: 4, loss: 0.65875, train_acc: 0.73\n",
            "Epoch: 5, loss: 0.64441, train_acc: 0.72\n",
            "Epoch: 6, loss: 0.62621, train_acc: 0.72\n",
            "Epoch: 7, loss: 0.60185, train_acc: 0.74\n",
            "Epoch: 8, loss: 0.56806, train_acc: 0.74\n",
            "Epoch: 9, loss: 0.51742, train_acc: 0.77\n",
            "Epoch: 10, loss: 0.43883, train_acc: 0.80\n",
            "Epoch: 11, loss: 0.56838, train_acc: 0.77\n",
            "Epoch: 12, loss: 0.77710, train_acc: 0.73\n",
            "Epoch: 13, loss: 0.48537, train_acc: 0.81\n",
            "Epoch: 14, loss: 0.39130, train_acc: 0.81\n",
            "Epoch: 15, loss: 0.46752, train_acc: 0.76\n",
            "Epoch: 16, loss: 0.46066, train_acc: 0.77\n",
            "Epoch: 17, loss: 0.43546, train_acc: 0.81\n",
            "Epoch: 18, loss: 0.42315, train_acc: 0.84\n",
            "Epoch: 19, loss: 0.42288, train_acc: 0.85\n",
            "Epoch: 20, loss: 0.42783, train_acc: 0.84\n",
            "Epoch: 21, loss: 0.43227, train_acc: 0.85\n",
            "Epoch: 22, loss: 0.43167, train_acc: 0.84\n",
            "Epoch: 23, loss: 0.42225, train_acc: 0.85\n",
            "Epoch: 24, loss: 0.40048, train_acc: 0.85\n",
            "Epoch: 25, loss: 0.36369, train_acc: 0.87\n",
            "Finished Training\n",
            "              precision    recall  f1-score   support\n",
            "\n",
            "           0       0.86      0.86      0.86       132\n",
            "           1       0.84      0.84      0.84       118\n",
            "\n",
            "    accuracy                           0.85       250\n",
            "   macro avg       0.85      0.85      0.85       250\n",
            "weighted avg       0.85      0.85      0.85       250\n",
            "\n"
          ]
        }
      ]
    },
    {
      "cell_type": "markdown",
      "source": [
        "## New Embedding Loss: Spearmans Loss"
      ],
      "metadata": {
        "id": "8ZYrX149k1fg"
      }
    },
    {
      "cell_type": "code",
      "source": [
        "from google.colab import drive\n",
        "drive.mount('/content/drive')\n",
        "import math\n",
        "import numpy\n",
        "from operator import itemgetter\n",
        "from numpy.linalg import norm\n",
        "import sys\n",
        "import os\n",
        "import gzip\n",
        "\n",
        "EPSILON = 1e-6\n",
        "\n",
        "def euclidean(vec1, vec2):\n",
        "  diff = vec1 - vec2\n",
        "  return math.sqrt(diff.dot(diff))\n",
        "\n",
        "def cosine_sim(vec1, vec2):\n",
        "  vec1 += EPSILON * numpy.ones(len(vec1))\n",
        "  vec2 += EPSILON * numpy.ones(len(vec1))\n",
        "  return vec1.dot(vec2)/(norm(vec1)*norm(vec2)+1)\n",
        "\n",
        "def assign_ranks(item_dict):\n",
        "  ranked_dict = {}\n",
        "  sorted_list = [(key, val) for (key, val) in sorted(item_dict.items(),\n",
        "                                                     key=itemgetter(1),\n",
        "                                                     reverse=True)]\n",
        "  for i, (key, val) in enumerate(sorted_list):\n",
        "    same_val_indices = []\n",
        "    for j, (key2, val2) in enumerate(sorted_list):\n",
        "      if val2 == val:\n",
        "        same_val_indices.append(j+1)\n",
        "    if len(same_val_indices) == 1:\n",
        "      ranked_dict[key] = i+1\n",
        "    else:\n",
        "      ranked_dict[key] = 1.*sum(same_val_indices)/(len(same_val_indices)+1)\n",
        "  return ranked_dict\n",
        "\n",
        "def correlation(dict1, dict2):\n",
        "  avg1 = 1.*sum([val for key, val in dict1.iteritems()])/len(dict1)\n",
        "  avg2 = 1.*sum([val for key, val in dict2.iteritems()])/len(dict2)\n",
        "  numr, den1, den2 = (0., 0., 0.)\n",
        "  for val1, val2 in zip(dict1.itervalues(), dict2.itervalues()):\n",
        "    numr += (val1 - avg1) * (val2 - avg2)\n",
        "    den1 += (val1 - avg1) ** 2\n",
        "    den2 += (val2 - avg2) ** 2\n",
        "  return numr / math.sqrt(den1 * den2)\n",
        "\n",
        "def spearmans_rho(ranked_dict1, ranked_dict2):\n",
        "  assert len(ranked_dict1) == len(ranked_dict2)\n",
        "  if len(ranked_dict1) == 0 or len(ranked_dict2) == 0:\n",
        "    return 0.\n",
        "  x_avg = 1.*sum([val for val in ranked_dict1.values()])/len(ranked_dict1)\n",
        "  y_avg = 1.*sum([val for val in ranked_dict2.values()])/len(ranked_dict2)\n",
        "  num, d_x, d_y = (0., 0., 0.)\n",
        "  for key in ranked_dict1.keys():\n",
        "    xi = ranked_dict1[key]\n",
        "    yi = ranked_dict2[key]\n",
        "    num += (xi-x_avg)*(yi-y_avg)\n",
        "    d_x += (xi-x_avg)**2\n",
        "    d_y += (yi-y_avg)**2\n",
        "  return num/(math.sqrt(d_x*d_y)+1)\n",
        "\n",
        "from collections import Counter\n",
        "from operator import itemgetter\n",
        "\n",
        "''' Read all the word vectors and normalize them '''\n",
        "def read_word_vectors(filename):    \n",
        "  word_vecs = {}\n",
        "  #if filename.endswith('.gz'): file_object = gzip.open(filename, 'r')\n",
        "  #else: file_object = open(filename, 'r')\n",
        "  print(filename)\n",
        "  file_object = open(str(filename),\"r\")\n",
        "\n",
        "  for line_num, line in enumerate(file_object):\n",
        "    line = line.strip().lower()\n",
        "    word = line.split()[0]\n",
        "    word_vecs[word] = numpy.zeros(len(line.split())-1, dtype=float)\n",
        "    for index, vec_val in enumerate(line.split()[1:]):\n",
        "      word_vecs[word][index] = float(vec_val)      \n",
        "    ''' normalize weight vector '''\n",
        "    word_vecs[word] /= math.sqrt((word_vecs[word]**2).sum() + 1e-6)        \n",
        "\n",
        "  sys.stderr.write(\"Vectors read from: \"+filename+\" \\n\")\n",
        "  return word_vecs"
      ],
      "metadata": {
        "colab": {
          "base_uri": "https://localhost:8080/"
        },
        "id": "lTEDyEhRk0x5",
        "outputId": "47d64790-007a-44b4-8db0-d8402d205180"
      },
      "execution_count": null,
      "outputs": [
        {
          "output_type": "stream",
          "name": "stdout",
          "text": [
            "Drive already mounted at /content/drive; to attempt to forcibly remount, call drive.mount(\"/content/drive\", force_remount=True).\n"
          ]
        }
      ]
    },
    {
      "cell_type": "code",
      "source": [
        "word_sim_dir = \"/content/drive/MyDrive/en\"\n",
        "word_vec_file = \"/content/drive/MyDrive/embed/filtered.txt\"\n",
        "\n",
        "def sim_loss_cal(word_sim_dir,word_vec_file):\n",
        "  word_vecs = read_word_vectors(word_vec_file)\n",
        "  #print(word_vecs)\n",
        "  print('=================================================================================')\n",
        "  print(\"%6s\" %\"Serial\", \"%20s\" % \"Dataset\", \"%15s\" % \"Num Pairs\", \"%15s\" % \"Not found\", \"%15s\" % \"Rho\")\n",
        "  print('=================================================================================')\n",
        "\n",
        "  avg_spearmans_rho = 0\n",
        "\n",
        "  for i, filename in enumerate(os.listdir(word_sim_dir)):\n",
        "      manual_dict, auto_dict = ({}, {})\n",
        "      not_found, total_size = (0, 0)\n",
        "      for line in open(os.path.join(word_sim_dir, filename),'r'):\n",
        "          line = line.strip().lower()\n",
        "          word1, word2, val = line.split()\n",
        "          if word1 in word_vecs and word2 in word_vecs:\n",
        "              manual_dict[(word1, word2)] = float(val)\n",
        "              auto_dict[(word1, word2)] = cosine_sim(word_vecs[word1], word_vecs[word2])\n",
        "          else:\n",
        "              not_found += 1\n",
        "          total_size += 1\n",
        "      print(\"%6s\" % str(i+1), \"%20s\" % filename, \"%15s\" % str(total_size), end=\"\"),\n",
        "      print(\"%15s\" % str(not_found), end=\"\"),\n",
        "      print(\"%15.4f\" % spearmans_rho(assign_ranks(manual_dict), assign_ranks(auto_dict)))\n",
        "      avg_spearmans_rho +=spearmans_rho(assign_ranks(manual_dict), assign_ranks(auto_dict))\n",
        "  avg_spearmans_rho /= len(os.listdir(word_sim_dir))\n",
        "  return avg_spearmans_rho"
      ],
      "metadata": {
        "id": "sUlLunIrlIF5"
      },
      "execution_count": null,
      "outputs": []
    },
    {
      "cell_type": "code",
      "source": [
        "sim_loss = sim_loss_cal(word_sim_dir,word_vec_file)"
      ],
      "metadata": {
        "colab": {
          "base_uri": "https://localhost:8080/"
        },
        "id": "sNJrAJM5lw9r",
        "outputId": "625751d9-2d72-404f-d6e6-1ba537aff6a0"
      },
      "execution_count": null,
      "outputs": [
        {
          "output_type": "stream",
          "name": "stdout",
          "text": [
            "/content/drive/MyDrive/embed/filtered.txt\n"
          ]
        },
        {
          "output_type": "stream",
          "name": "stderr",
          "text": [
            "Vectors read from: /content/drive/MyDrive/embed/filtered.txt \n"
          ]
        },
        {
          "output_type": "stream",
          "name": "stdout",
          "text": [
            "=================================================================================\n",
            "Serial              Dataset       Num Pairs       Not found             Rho\n",
            "=================================================================================\n",
            "     1     EN-MTurk-287.txt             287              0         0.6580\n",
            "     2         EN-MC-30.txt              30              0         0.7767\n",
            "     3    EN-SIMLEX-999.txt             999              0         0.3386\n",
            "     4     EN-MEN-TR-3k.txt            3000              0         0.7303\n",
            "     5   EN-RW-STANFORD.txt            2034             96         0.4093\n",
            "     6         EN-RG-65.txt              65              0         0.7715\n",
            "     7     EN-MTurk-771.txt             771              0         0.6027\n",
            "     8      EN-VERB-143.txt             144              0         0.3334\n",
            "     9  EN-SimVerb-3500.txt            3500              2         0.2004\n",
            "    10    EN-WS-353-REL.txt             252              0         0.6027\n",
            "    11        EN-YP-130.txt             130              0         0.4274\n",
            "    12    EN-WS-353-SIM.txt             203              0         0.7226\n",
            "    13    EN-WS-353-ALL.txt             353              0         0.6570\n"
          ]
        }
      ]
    },
    {
      "cell_type": "code",
      "source": [
        "print(sim_loss)"
      ],
      "metadata": {
        "colab": {
          "base_uri": "https://localhost:8080/"
        },
        "id": "a5VelTzXl6XU",
        "outputId": "074b20fa-4e1b-46ef-ea16-22a0811bfeb5"
      },
      "execution_count": null,
      "outputs": [
        {
          "output_type": "stream",
          "name": "stdout",
          "text": [
            "0.5561924900080913\n"
          ]
        }
      ]
    },
    {
      "cell_type": "code",
      "source": [
        "wordvecs = read_word_vectors(word_vec_file)"
      ],
      "metadata": {
        "colab": {
          "base_uri": "https://localhost:8080/"
        },
        "id": "jO73_o_omC-U",
        "outputId": "970345ff-4dfc-48db-c7ec-a962131175cc"
      },
      "execution_count": null,
      "outputs": [
        {
          "output_type": "stream",
          "name": "stdout",
          "text": [
            "/content/drive/MyDrive/embed/filtered.txt\n"
          ]
        },
        {
          "output_type": "stream",
          "name": "stderr",
          "text": [
            "Vectors read from: /content/drive/MyDrive/embed/filtered.txt \n"
          ]
        }
      ]
    },
    {
      "cell_type": "code",
      "source": [
        "wordvecs[\"performances\"].shape"
      ],
      "metadata": {
        "colab": {
          "base_uri": "https://localhost:8080/"
        },
        "id": "-AEF5c8XmPee",
        "outputId": "7bddbe7e-dc2f-4c47-fffa-850a7d1f1160"
      },
      "execution_count": null,
      "outputs": [
        {
          "output_type": "execute_result",
          "data": {
            "text/plain": [
              "(100,)"
            ]
          },
          "metadata": {},
          "execution_count": 54
        }
      ]
    },
    {
      "cell_type": "code",
      "source": [
        "word_sim_dir = \"/content/drive/MyDrive/en\"\n",
        "word_vec_file = \"/content/drive/MyDrive/embed/filtered.txt\"\n",
        "\n",
        "def sim_loss_cal2(word_sim_dir,word_vec_file):\n",
        "  word_vecs = word_vec_file\n",
        "  avg_spearmans_rho = 0\n",
        "\n",
        "  for i, filename in enumerate(os.listdir(word_sim_dir)):\n",
        "      manual_dict, auto_dict = ({}, {})\n",
        "      not_found, total_size = (0, 0)\n",
        "      for line in open(os.path.join(word_sim_dir, filename),'r'):\n",
        "          line = line.strip().lower()\n",
        "          word1, word2, val = line.split()\n",
        "          if word1 in word_vecs and word2 in word_vecs:\n",
        "              manual_dict[(word1, word2)] = float(val)\n",
        "              auto_dict[(word1, word2)] = cosine_sim(word_vecs[word1], word_vecs[word2])\n",
        "          else:\n",
        "              not_found += 1\n",
        "          total_size += 1\n",
        "      avg_spearmans_rho +=spearmans_rho(assign_ranks(manual_dict), assign_ranks(auto_dict))\n",
        "  avg_spearmans_rho /= len(os.listdir(word_sim_dir))\n",
        "  return avg_spearmans_rho"
      ],
      "metadata": {
        "id": "F21-vSzzm7t2"
      },
      "execution_count": null,
      "outputs": []
    },
    {
      "cell_type": "code",
      "source": [
        "word2vec_cbow_emb = original_embedding(wv_cbow_model.wv)"
      ],
      "metadata": {
        "id": "cgWWgy05nKiu"
      },
      "execution_count": null,
      "outputs": []
    },
    {
      "cell_type": "code",
      "source": [
        "original_word2vec_cbow_acc = classification(word2vec_cbow_emb)"
      ],
      "metadata": {
        "colab": {
          "base_uri": "https://localhost:8080/"
        },
        "id": "uyxReztznPw0",
        "outputId": "294bb25b-c2da-4704-feb9-87757dd8b478"
      },
      "execution_count": null,
      "outputs": [
        {
          "output_type": "stream",
          "name": "stdout",
          "text": [
            "Epoch: 1, loss: 0.69314, train_acc: 0.51\n",
            "Epoch: 2, loss: 0.69793, train_acc: 0.49\n",
            "Epoch: 3, loss: 0.69274, train_acc: 0.52\n",
            "Epoch: 4, loss: 0.69385, train_acc: 0.51\n",
            "Epoch: 5, loss: 0.69473, train_acc: 0.51\n",
            "Epoch: 6, loss: 0.69358, train_acc: 0.51\n",
            "Epoch: 7, loss: 0.69251, train_acc: 0.51\n",
            "Epoch: 8, loss: 0.69235, train_acc: 0.52\n",
            "Epoch: 9, loss: 0.69276, train_acc: 0.51\n",
            "Epoch: 10, loss: 0.69303, train_acc: 0.50\n",
            "Epoch: 11, loss: 0.69286, train_acc: 0.51\n",
            "Epoch: 12, loss: 0.69244, train_acc: 0.51\n",
            "Epoch: 13, loss: 0.69205, train_acc: 0.51\n",
            "Epoch: 14, loss: 0.69187, train_acc: 0.52\n",
            "Epoch: 15, loss: 0.69192, train_acc: 0.51\n",
            "Epoch: 16, loss: 0.69206, train_acc: 0.51\n",
            "Epoch: 17, loss: 0.69209, train_acc: 0.51\n",
            "Epoch: 18, loss: 0.69193, train_acc: 0.51\n",
            "Epoch: 19, loss: 0.69169, train_acc: 0.50\n",
            "Epoch: 20, loss: 0.69153, train_acc: 0.51\n",
            "Epoch: 21, loss: 0.69150, train_acc: 0.52\n",
            "Epoch: 22, loss: 0.69155, train_acc: 0.52\n",
            "Epoch: 23, loss: 0.69156, train_acc: 0.51\n",
            "Epoch: 24, loss: 0.69148, train_acc: 0.51\n",
            "Epoch: 25, loss: 0.69134, train_acc: 0.52\n",
            "Finished Training\n",
            "              precision    recall  f1-score   support\n",
            "\n",
            "           0       0.50      0.50      0.50       132\n",
            "           1       0.44      0.43      0.43       118\n",
            "\n",
            "    accuracy                           0.47       250\n",
            "   macro avg       0.47      0.47      0.47       250\n",
            "weighted avg       0.47      0.47      0.47       250\n",
            "\n"
          ]
        }
      ]
    },
    {
      "cell_type": "code",
      "source": [
        "new_word2vec_cbow_emb = update_embedding(word2vec_cbow_emb)"
      ],
      "metadata": {
        "colab": {
          "base_uri": "https://localhost:8080/"
        },
        "id": "H4k_qKt-oVvp",
        "outputId": "ed7a5de6-a922-4259-91b5-7f05c42e9cae"
      },
      "execution_count": null,
      "outputs": [
        {
          "output_type": "stream",
          "name": "stdout",
          "text": [
            "weight adjusted tensor(1.9857, dtype=torch.float64, grad_fn=<DivBackward0>)\n",
            "Epoch: 1, loss: -1.29256, train_acc: 0.50\n",
            "weight adjusted tensor(1.9847, dtype=torch.float64, grad_fn=<DivBackward0>)\n",
            "Epoch: 2, loss: -1.28544, train_acc: 0.50\n",
            "weight adjusted tensor(1.9799, dtype=torch.float64, grad_fn=<DivBackward0>)\n",
            "Epoch: 3, loss: -1.28737, train_acc: 0.51\n",
            "weight adjusted tensor(1.9766, dtype=torch.float64, grad_fn=<DivBackward0>)\n",
            "Epoch: 4, loss: -1.28364, train_acc: 0.50\n",
            "weight adjusted tensor(1.9751, dtype=torch.float64, grad_fn=<DivBackward0>)\n",
            "Epoch: 5, loss: -1.28094, train_acc: 0.50\n",
            "weight adjusted tensor(1.9742, dtype=torch.float64, grad_fn=<DivBackward0>)\n",
            "Epoch: 6, loss: -1.28133, train_acc: 0.50\n",
            "weight adjusted tensor(1.9739, dtype=torch.float64, grad_fn=<DivBackward0>)\n",
            "Epoch: 7, loss: -1.28282, train_acc: 0.50\n",
            "weight adjusted tensor(1.9740, dtype=torch.float64, grad_fn=<DivBackward0>)\n",
            "Epoch: 8, loss: -1.28402, train_acc: 0.57\n",
            "weight adjusted tensor(1.9698, dtype=torch.float64, grad_fn=<DivBackward0>)\n",
            "Epoch: 9, loss: -1.28036, train_acc: 0.55\n",
            "weight adjusted tensor(1.9697, dtype=torch.float64, grad_fn=<DivBackward0>)\n",
            "Epoch: 10, loss: -1.28054, train_acc: 0.54\n",
            "weight adjusted tensor(1.9697, dtype=torch.float64, grad_fn=<DivBackward0>)\n",
            "Epoch: 11, loss: -1.28128, train_acc: 0.54\n",
            "weight adjusted tensor(1.9696, dtype=torch.float64, grad_fn=<DivBackward0>)\n",
            "Epoch: 12, loss: -1.28265, train_acc: 0.55\n",
            "weight adjusted tensor(1.9697, dtype=torch.float64, grad_fn=<DivBackward0>)\n",
            "Epoch: 13, loss: -1.28453, train_acc: 0.58\n",
            "weight adjusted tensor(1.9602, dtype=torch.float64, grad_fn=<DivBackward0>)\n",
            "Epoch: 14, loss: -1.27708, train_acc: 0.62\n",
            "weight adjusted tensor(2.0020, dtype=torch.float64, grad_fn=<DivBackward0>)\n",
            "Epoch: 15, loss: -1.32115, train_acc: 0.67\n",
            "weight adjusted tensor(1.9443, dtype=torch.float64, grad_fn=<DivBackward0>)\n",
            "Epoch: 16, loss: -1.26583, train_acc: 0.68\n",
            "weight adjusted tensor(1.9065, dtype=torch.float64, grad_fn=<DivBackward0>)\n",
            "Epoch: 17, loss: -1.23129, train_acc: 0.66\n",
            "weight adjusted tensor(1.9057, dtype=torch.float64, grad_fn=<DivBackward0>)\n",
            "Epoch: 18, loss: -1.23478, train_acc: 0.69\n",
            "weight adjusted tensor(1.9074, dtype=torch.float64, grad_fn=<DivBackward0>)\n",
            "Epoch: 19, loss: -1.24262, train_acc: 0.75\n",
            "weight adjusted tensor(1.9087, dtype=torch.float64, grad_fn=<DivBackward0>)\n",
            "Epoch: 20, loss: -1.25177, train_acc: 0.75\n",
            "weight adjusted tensor(1.9099, dtype=torch.float64, grad_fn=<DivBackward0>)\n",
            "Epoch: 21, loss: -1.26312, train_acc: 0.73\n",
            "weight adjusted tensor(1.9054, dtype=torch.float64, grad_fn=<DivBackward0>)\n",
            "Epoch: 22, loss: -1.27293, train_acc: 0.74\n",
            "weight adjusted tensor(1.9066, dtype=torch.float64, grad_fn=<DivBackward0>)\n",
            "Epoch: 23, loss: -1.29574, train_acc: 0.77\n",
            "weight adjusted tensor(1.9053, dtype=torch.float64, grad_fn=<DivBackward0>)\n",
            "Epoch: 24, loss: -1.32623, train_acc: 0.81\n",
            "weight adjusted tensor(1.8977, dtype=torch.float64, grad_fn=<DivBackward0>)\n",
            "Epoch: 25, loss: -1.33013, train_acc: 0.73\n",
            "Finished Training\n"
          ]
        }
      ]
    },
    {
      "cell_type": "code",
      "source": [
        "word2vec_cbow_acc = classification(np.array(list(new_word2vec_cbow_emb.values())))"
      ],
      "metadata": {
        "colab": {
          "base_uri": "https://localhost:8080/"
        },
        "id": "Igyw9WB2pz-8",
        "outputId": "29ee70eb-2625-4ce1-b32e-0c9084eed7cb"
      },
      "execution_count": null,
      "outputs": [
        {
          "output_type": "stream",
          "name": "stdout",
          "text": [
            "Epoch: 1, loss: 0.69490, train_acc: 0.51\n",
            "Epoch: 2, loss: 0.69061, train_acc: 0.51\n",
            "Epoch: 3, loss: 0.68603, train_acc: 0.60\n",
            "Epoch: 4, loss: 0.68101, train_acc: 0.64\n",
            "Epoch: 5, loss: 0.67631, train_acc: 0.67\n",
            "Epoch: 6, loss: 0.67075, train_acc: 0.68\n",
            "Epoch: 7, loss: 0.66329, train_acc: 0.69\n",
            "Epoch: 8, loss: 0.65433, train_acc: 0.72\n",
            "Epoch: 9, loss: 0.64329, train_acc: 0.72\n",
            "Epoch: 10, loss: 0.62681, train_acc: 0.75\n",
            "Epoch: 11, loss: 0.60556, train_acc: 0.78\n",
            "Epoch: 12, loss: 0.61014, train_acc: 0.68\n",
            "Epoch: 13, loss: 0.63011, train_acc: 0.52\n",
            "Epoch: 14, loss: 0.60568, train_acc: 0.57\n",
            "Epoch: 15, loss: 0.58615, train_acc: 0.75\n",
            "Epoch: 16, loss: 0.59287, train_acc: 0.81\n",
            "Epoch: 17, loss: 0.59152, train_acc: 0.80\n",
            "Epoch: 18, loss: 0.57932, train_acc: 0.85\n",
            "Epoch: 19, loss: 0.56710, train_acc: 0.90\n",
            "Epoch: 20, loss: 0.56022, train_acc: 0.88\n",
            "Epoch: 21, loss: 0.55776, train_acc: 0.85\n",
            "Epoch: 22, loss: 0.55357, train_acc: 0.83\n",
            "Epoch: 23, loss: 0.54263, train_acc: 0.83\n",
            "Epoch: 24, loss: 0.52832, train_acc: 0.84\n",
            "Epoch: 25, loss: 0.51572, train_acc: 0.84\n",
            "Finished Training\n",
            "              precision    recall  f1-score   support\n",
            "\n",
            "           0       0.81      0.96      0.88       132\n",
            "           1       0.95      0.75      0.84       118\n",
            "\n",
            "    accuracy                           0.86       250\n",
            "   macro avg       0.88      0.86      0.86       250\n",
            "weighted avg       0.88      0.86      0.86       250\n",
            "\n"
          ]
        }
      ]
    },
    {
      "cell_type": "code",
      "source": [
        "word2vec_cbow_emb = original_embedding(wv_cbow_model.wv)"
      ],
      "metadata": {
        "id": "VYmrEq8MqMWf"
      },
      "execution_count": null,
      "outputs": []
    },
    {
      "cell_type": "code",
      "source": [
        "new_word2vec_cbow_emb = update_embedding3(word2vec_cbow_emb)"
      ],
      "metadata": {
        "colab": {
          "base_uri": "https://localhost:8080/"
        },
        "id": "SH_7FEa1xZfU",
        "outputId": "355633b0-b0b9-4efc-d00a-95f7bc565a3a"
      },
      "execution_count": null,
      "outputs": [
        {
          "output_type": "stream",
          "name": "stdout",
          "text": [
            "sparsemans loss -0.9950910951643707\n",
            "word analogy weight adjusted tensor(1.9857, dtype=torch.float64, grad_fn=<DivBackward0>)\n",
            "Epoch: 1, loss: -2.28731, train_acc: 0.50\n",
            "sparsemans loss -0.834683194312816\n",
            "word analogy weight adjusted tensor(1.9855, dtype=torch.float64, grad_fn=<DivBackward0>)\n",
            "Epoch: 2, loss: -2.12311, train_acc: 0.50\n",
            "sparsemans loss -0.1977031225436035\n",
            "word analogy weight adjusted tensor(1.9860, dtype=torch.float64, grad_fn=<DivBackward0>)\n",
            "Epoch: 3, loss: -1.49092, train_acc: 0.50\n",
            "sparsemans loss 0.7584770149218548\n",
            "word analogy weight adjusted tensor(1.9854, dtype=torch.float64, grad_fn=<DivBackward0>)\n",
            "Epoch: 4, loss: -0.53449, train_acc: 0.50\n",
            "sparsemans loss 0.9708299249305037\n",
            "word analogy weight adjusted tensor(1.9857, dtype=torch.float64, grad_fn=<DivBackward0>)\n",
            "Epoch: 5, loss: -0.32171, train_acc: 0.50\n",
            "sparsemans loss 1.1207870272312181\n",
            "word analogy weight adjusted tensor(1.9857, dtype=torch.float64, grad_fn=<DivBackward0>)\n",
            "Epoch: 6, loss: -0.17254, train_acc: 0.50\n",
            "sparsemans loss 0.08885315120820231\n",
            "word analogy weight adjusted tensor(1.9856, dtype=torch.float64, grad_fn=<DivBackward0>)\n",
            "Epoch: 7, loss: -1.20583, train_acc: 0.53\n",
            "sparsemans loss 0.6025554841989963\n",
            "word analogy weight adjusted tensor(1.9859, dtype=torch.float64, grad_fn=<DivBackward0>)\n",
            "Epoch: 8, loss: -0.69351, train_acc: 0.58\n",
            "sparsemans loss 0.5579408267711929\n",
            "word analogy weight adjusted tensor(1.9862, dtype=torch.float64, grad_fn=<DivBackward0>)\n",
            "Epoch: 9, loss: -0.73910, train_acc: 0.53\n",
            "sparsemans loss 0.5060270361469181\n",
            "word analogy weight adjusted tensor(1.9824, dtype=torch.float64, grad_fn=<DivBackward0>)\n",
            "Epoch: 10, loss: -0.78780, train_acc: 0.50\n",
            "sparsemans loss 0.45635968823202944\n",
            "word analogy weight adjusted tensor(1.9835, dtype=torch.float64, grad_fn=<DivBackward0>)\n",
            "Epoch: 11, loss: -0.83977, train_acc: 0.51\n",
            "sparsemans loss 0.4721985404661968\n",
            "word analogy weight adjusted tensor(1.9848, dtype=torch.float64, grad_fn=<DivBackward0>)\n",
            "Epoch: 12, loss: -0.82695, train_acc: 0.53\n",
            "sparsemans loss -0.2272359673215814\n",
            "word analogy weight adjusted tensor(1.9863, dtype=torch.float64, grad_fn=<DivBackward0>)\n",
            "Epoch: 13, loss: -1.53017, train_acc: 0.66\n",
            "sparsemans loss -0.3323086880229022\n",
            "word analogy weight adjusted tensor(2.0315, dtype=torch.float64, grad_fn=<DivBackward0>)\n",
            "Epoch: 14, loss: -1.68299, train_acc: 0.68\n",
            "sparsemans loss -0.5171171734657838\n",
            "word analogy weight adjusted tensor(2.0300, dtype=torch.float64, grad_fn=<DivBackward0>)\n",
            "Epoch: 15, loss: -1.86927, train_acc: 0.66\n",
            "sparsemans loss -0.4937530687803829\n",
            "word analogy weight adjusted tensor(2.0320, dtype=torch.float64, grad_fn=<DivBackward0>)\n",
            "Epoch: 16, loss: -1.85194, train_acc: 0.66\n",
            "sparsemans loss -0.5067610888509801\n",
            "word analogy weight adjusted tensor(2.0333, dtype=torch.float64, grad_fn=<DivBackward0>)\n",
            "Epoch: 17, loss: -1.87185, train_acc: 0.69\n",
            "sparsemans loss -0.7108077095827084\n",
            "word analogy weight adjusted tensor(2.0360, dtype=torch.float64, grad_fn=<DivBackward0>)\n",
            "Epoch: 18, loss: -2.08621, train_acc: 0.72\n",
            "sparsemans loss -0.60583306383339\n",
            "word analogy weight adjusted tensor(2.0378, dtype=torch.float64, grad_fn=<DivBackward0>)\n",
            "Epoch: 19, loss: -1.99234, train_acc: 0.74\n",
            "sparsemans loss -0.4475011310560323\n",
            "word analogy weight adjusted tensor(2.0371, dtype=torch.float64, grad_fn=<DivBackward0>)\n",
            "Epoch: 20, loss: -1.84784, train_acc: 0.79\n",
            "sparsemans loss 0.5766942153085858\n",
            "word analogy weight adjusted tensor(2.0393, dtype=torch.float64, grad_fn=<DivBackward0>)\n",
            "Epoch: 21, loss: -0.84491, train_acc: 0.81\n",
            "sparsemans loss 0.37184845349635975\n",
            "word analogy weight adjusted tensor(2.0396, dtype=torch.float64, grad_fn=<DivBackward0>)\n",
            "Epoch: 22, loss: -1.08228, train_acc: 0.87\n",
            "sparsemans loss 0.8002575453675781\n",
            "word analogy weight adjusted tensor(2.0410, dtype=torch.float64, grad_fn=<DivBackward0>)\n",
            "Epoch: 23, loss: -0.61406, train_acc: 0.76\n",
            "sparsemans loss 0.8022101638526696\n",
            "word analogy weight adjusted tensor(2.0412, dtype=torch.float64, grad_fn=<DivBackward0>)\n",
            "Epoch: 24, loss: -0.30726, train_acc: 0.52\n",
            "sparsemans loss 0.9901354968521205\n",
            "word analogy weight adjusted tensor(2.0384, dtype=torch.float64, grad_fn=<DivBackward0>)\n",
            "Epoch: 25, loss: -0.43303, train_acc: 0.62\n",
            "Finished Training\n"
          ]
        }
      ]
    },
    {
      "cell_type": "code",
      "source": [
        "word2vec_cbow_acc = classification(np.array(list(new_word2vec_cbow_emb.values())))"
      ],
      "metadata": {
        "colab": {
          "base_uri": "https://localhost:8080/"
        },
        "id": "MPGhgWW3ss-p",
        "outputId": "69a953db-4f2c-4a8f-fdfe-13a1af54794c"
      },
      "execution_count": null,
      "outputs": [
        {
          "output_type": "stream",
          "name": "stdout",
          "text": [
            "Epoch: 1, loss: 0.69328, train_acc: 0.50\n",
            "Epoch: 2, loss: 0.68788, train_acc: 0.51\n",
            "Epoch: 3, loss: 0.68239, train_acc: 0.63\n",
            "Epoch: 4, loss: 0.67625, train_acc: 0.74\n",
            "Epoch: 5, loss: 0.66879, train_acc: 0.74\n",
            "Epoch: 6, loss: 0.65930, train_acc: 0.74\n",
            "Epoch: 7, loss: 0.64661, train_acc: 0.75\n",
            "Epoch: 8, loss: 0.62828, train_acc: 0.81\n",
            "Epoch: 9, loss: 0.59846, train_acc: 0.86\n",
            "Epoch: 10, loss: 0.56888, train_acc: 0.69\n",
            "Epoch: 11, loss: 0.97630, train_acc: 0.50\n",
            "Epoch: 12, loss: 0.78509, train_acc: 0.50\n",
            "Epoch: 13, loss: 0.64426, train_acc: 0.55\n",
            "Epoch: 14, loss: 0.59510, train_acc: 0.79\n",
            "Epoch: 15, loss: 0.60502, train_acc: 0.73\n",
            "Epoch: 16, loss: 0.62248, train_acc: 0.62\n",
            "Epoch: 17, loss: 0.62086, train_acc: 0.54\n",
            "Epoch: 18, loss: 0.61914, train_acc: 0.54\n",
            "Epoch: 19, loss: 0.61855, train_acc: 0.55\n",
            "Epoch: 20, loss: 0.61840, train_acc: 0.56\n",
            "Epoch: 21, loss: 0.61830, train_acc: 0.59\n",
            "Epoch: 22, loss: 0.61809, train_acc: 0.63\n",
            "Epoch: 23, loss: 0.61769, train_acc: 0.66\n",
            "Epoch: 24, loss: 0.61708, train_acc: 0.69\n",
            "Epoch: 25, loss: 0.61623, train_acc: 0.71\n",
            "Finished Training\n",
            "              precision    recall  f1-score   support\n",
            "\n",
            "           0       1.00      0.48      0.65       132\n",
            "           1       0.63      1.00      0.78       118\n",
            "\n",
            "    accuracy                           0.73       250\n",
            "   macro avg       0.82      0.74      0.71       250\n",
            "weighted avg       0.83      0.73      0.71       250\n",
            "\n"
          ]
        }
      ]
    }
  ]
}